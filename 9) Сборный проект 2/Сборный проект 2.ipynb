{
 "cells": [
  {
   "cell_type": "markdown",
   "metadata": {},
   "source": [
    "<a id ='title'></a>\n",
    "\n",
    "# Задачи исследования\n",
    "\n",
    "\n",
    "# [Шаг 1. Откройте файл с данными и изучите общую информацию](#stage_1)\n",
    "\n",
    "- Путь к файлу: logs_exp.csv\n",
    "\n",
    "---\n",
    "\n",
    "\n",
    "# [Шаг 2. Подготовьте данные](#stage_2)\n",
    "\n",
    "1. [Замените названия столбцов на удобные](#stage_2_1)\n",
    "\n",
    "---\n",
    "\n",
    "2. [Проверьте пропуски и типы данных. Откорректируйте, если нужно](#stage_2_2)\n",
    "\n",
    "---\n",
    "\n",
    "3. [Добавьте столбец даты и времени, а также отдельный столбец дат](#stage_2_3)\n",
    "\n",
    "---\n",
    "\n",
    "\n",
    "# [Шаг 3. Изучите и проверьте данные](#stage_3)\n",
    "\n",
    "1. [Сколько всего событий в логе?](#stage_3_1)\n",
    "\n",
    "---\n",
    "\n",
    "2. [Сколько всего пользователей в логе?](#stage_3_2)\n",
    "\n",
    "---\n",
    "\n",
    "3. [Сколько в среднем событий приходится на пользователя?](#stage_3_3)\n",
    "\n",
    "---\n",
    "\n",
    "4. [Данными за какой период вы располагаете? Найдите максимальную и минимальную дату. Постройте гистограмму по дате и времени. Можно ли быть уверенным, что у вас одинаково полные данные за весь период? Технически в логи новых дней по некоторым пользователям могут «доезжать» события из прошлого — это может «перекашивать данные». Определите, с какого момента данные полные и отбросьте более старые. Данными за какой период времени вы располагаете на самом деле?](#stage_3_4)\n",
    "\n",
    "---\n",
    "\n",
    "5. [Много ли событий и пользователей вы потеряли, отбросив старые данные?](#stage_3_5)\n",
    "\n",
    "---\n",
    "\n",
    "6. [Проверьте, что у вас есть пользователи из всех трёх экспериментальных групп](#stage_3_6)\n",
    "\n",
    "---\n",
    "\n",
    "\n",
    "# [Шаг 4. Изучите воронку событий](#stage_4)\n",
    "\n",
    "1. [Посмотрите, какие события есть в логах, как часто они встречаются. Отсортируйте события по частоте](#stage_4_1)\n",
    "\n",
    "---\n",
    "\n",
    "2. [Посчитайте, сколько пользователей совершали каждое из этих событий. Отсортируйте события по числу пользователей. Посчитайте долю пользователей, которые хоть раз совершали событие](#stage_4_2)\n",
    "\n",
    "---\n",
    "\n",
    "3. [Предположите, в каком порядке происходят события. Все ли они выстраиваются в последовательную цепочку? Их не нужно учитывать при расчёте воронки](#stage_4_3)\n",
    "\n",
    "---\n",
    "\n",
    "4. [По воронке событий посчитайте, какая доля пользователей проходит на следующий шаг воронки (от числа пользователей на предыдущем). То есть для последовательности событий A → B → C, посчитайте отношение числа пользователей с событием B к количеству пользователей с событием A](#stage_4_4)\n",
    "\n",
    "---\n",
    "\n",
    "5. [На каком шаге теряете больше всего пользователей?](#stage_4_5)\n",
    "\n",
    "---\n",
    "\n",
    "6. [Какая доля пользователей доходит от первого события до оплаты?](#stage_4_6)\n",
    "\n",
    "---\n",
    "\n",
    "\n",
    "# [Шаг 5. Изучите результаты эксперимента](#stage_5)\n",
    "\n",
    "1. [Сколько пользователей в каждой экспериментальной группе?](#stage_5_1)\n",
    "\n",
    "---\n",
    "\n",
    "2. [Есть 2 контрольные группы для А/А-эксперимента, чтобы проверить корректность всех механизмов и расчётов. Проверьте, находят ли статистические критерии разницу между выборками 246 и 247.](#stage_5_2)\n",
    "\n",
    "---\n",
    "\n",
    "3. [Выберите самое популярное событие. Посчитайте число пользователей, совершивших это событие в каждой из контрольных групп. Посчитайте долю пользователей, совершивших это событие. Проверьте, будет ли отличие между группами статистически достоверным. Проделайте то же самое для всех других событий (удобно обернуть проверку в отдельную функцию). Можно ли сказать, что разбиение на группы работает корректно?](#stage_5_3)\n",
    "\n",
    "---\n",
    "\n",
    "4. [Аналогично поступите с группой с изменённым шрифтом. Сравните результаты с каждой из контрольных групп в отдельности по каждому событию. Сравните результаты с объединённой контрольной группой. Какие выводы из эксперимента можно сделать?](#stage_5_4)\n",
    "\n",
    "---\n",
    "\n",
    "5. [Какой уровень значимости вы выбрали при проверке статистических гипотез выше? Посчитайте, сколько проверок статистических гипотез вы сделали. При уровне значимости 0.1 каждый десятый раз можно получать ложный результат. Какой уровень значимости стоит применить? Если вы хотите изменить его, проделайте предыдущие пункты и проверьте свои выводы](#stage_5_5)\n",
    "\n",
    "---\n",
    "\n",
    "# Описание данных\n",
    "\n",
    "logs_exp.csv:\n",
    "\n",
    "Каждая запись в логе — это действие пользователя, или событие:\n",
    "- EventName — название события\n",
    "- DeviceIDHash ** — уникальный идентификатор пользователя\n",
    "- EventTimestamp — время события\n",
    "- ExpId — номер эксперимента: 246 и 247 — контрольные группы, а 248 — экспериментальная"
   ]
  },
  {
   "cell_type": "markdown",
   "metadata": {},
   "source": [
    "---"
   ]
  },
  {
   "cell_type": "code",
   "execution_count": 8,
   "metadata": {},
   "outputs": [],
   "source": [
    "import pandas as pd\n",
    "import numpy as np\n",
    "import matplotlib.pyplot as plt\n",
    "import seaborn as sns\n",
    "import scipy.stats as st"
   ]
  },
  {
   "cell_type": "markdown",
   "metadata": {},
   "source": [
    "---"
   ]
  },
  {
   "cell_type": "markdown",
   "metadata": {},
   "source": [
    "<a id =\"stage_1\"></a>\n",
    "\n",
    "# Шаг 1. Откройте файл с данными и изучите общую информацию\n",
    "\n",
    "[К оглавлению](#title)"
   ]
  },
  {
   "cell_type": "code",
   "execution_count": 9,
   "metadata": {},
   "outputs": [
    {
     "name": "stdout",
     "output_type": "stream",
     "text": [
      "<class 'pandas.core.frame.DataFrame'>\n",
      "RangeIndex: 244126 entries, 0 to 244125\n",
      "Data columns (total 4 columns):\n",
      " #   Column          Non-Null Count   Dtype \n",
      "---  ------          --------------   ----- \n",
      " 0   EventName       244126 non-null  object\n",
      " 1   DeviceIDHash    244126 non-null  int64 \n",
      " 2   EventTimestamp  244126 non-null  int64 \n",
      " 3   ExpId           244126 non-null  int64 \n",
      "dtypes: int64(3), object(1)\n",
      "memory usage: 7.5+ MB\n"
     ]
    }
   ],
   "source": [
    "data = pd.read_csv('logs_exp.csv', sep = '\\t')\n",
    "data.info()"
   ]
  },
  {
   "cell_type": "markdown",
   "metadata": {},
   "source": [
    "Нет пустых значений, всю предобработку сделаем ниже"
   ]
  },
  {
   "cell_type": "markdown",
   "metadata": {},
   "source": [
    "---"
   ]
  },
  {
   "cell_type": "markdown",
   "metadata": {},
   "source": [
    "<a id =\"stage_2\"></a>\n",
    "\n",
    "# Шаг 2. Подготовьте данные\n",
    "\n",
    "[К оглавлению](#title)"
   ]
  },
  {
   "cell_type": "markdown",
   "metadata": {},
   "source": [
    "---"
   ]
  },
  {
   "cell_type": "markdown",
   "metadata": {},
   "source": [
    "<a id =\"stage_2_1\"></a>\n",
    "\n",
    "### 2.1. Замените названия столбцов на удобные\n",
    "\n",
    "[К оглавлению](#title)"
   ]
  },
  {
   "cell_type": "code",
   "execution_count": 10,
   "metadata": {},
   "outputs": [
    {
     "data": {
      "text/html": [
       "<div>\n",
       "<style scoped>\n",
       "    .dataframe tbody tr th:only-of-type {\n",
       "        vertical-align: middle;\n",
       "    }\n",
       "\n",
       "    .dataframe tbody tr th {\n",
       "        vertical-align: top;\n",
       "    }\n",
       "\n",
       "    .dataframe thead th {\n",
       "        text-align: right;\n",
       "    }\n",
       "</style>\n",
       "<table border=\"1\" class=\"dataframe\">\n",
       "  <thead>\n",
       "    <tr style=\"text-align: right;\">\n",
       "      <th></th>\n",
       "      <th>event_name</th>\n",
       "      <th>id_user</th>\n",
       "      <th>time_unix</th>\n",
       "      <th>id_exp</th>\n",
       "    </tr>\n",
       "  </thead>\n",
       "  <tbody>\n",
       "    <tr>\n",
       "      <th>0</th>\n",
       "      <td>MainScreenAppear</td>\n",
       "      <td>4575588528974610257</td>\n",
       "      <td>1564029816</td>\n",
       "      <td>246</td>\n",
       "    </tr>\n",
       "    <tr>\n",
       "      <th>1</th>\n",
       "      <td>MainScreenAppear</td>\n",
       "      <td>7416695313311560658</td>\n",
       "      <td>1564053102</td>\n",
       "      <td>246</td>\n",
       "    </tr>\n",
       "    <tr>\n",
       "      <th>2</th>\n",
       "      <td>PaymentScreenSuccessful</td>\n",
       "      <td>3518123091307005509</td>\n",
       "      <td>1564054127</td>\n",
       "      <td>248</td>\n",
       "    </tr>\n",
       "    <tr>\n",
       "      <th>3</th>\n",
       "      <td>CartScreenAppear</td>\n",
       "      <td>3518123091307005509</td>\n",
       "      <td>1564054127</td>\n",
       "      <td>248</td>\n",
       "    </tr>\n",
       "    <tr>\n",
       "      <th>4</th>\n",
       "      <td>PaymentScreenSuccessful</td>\n",
       "      <td>6217807653094995999</td>\n",
       "      <td>1564055322</td>\n",
       "      <td>248</td>\n",
       "    </tr>\n",
       "  </tbody>\n",
       "</table>\n",
       "</div>"
      ],
      "text/plain": [
       "                event_name              id_user   time_unix  id_exp\n",
       "0         MainScreenAppear  4575588528974610257  1564029816     246\n",
       "1         MainScreenAppear  7416695313311560658  1564053102     246\n",
       "2  PaymentScreenSuccessful  3518123091307005509  1564054127     248\n",
       "3         CartScreenAppear  3518123091307005509  1564054127     248\n",
       "4  PaymentScreenSuccessful  6217807653094995999  1564055322     248"
      ]
     },
     "execution_count": 10,
     "metadata": {},
     "output_type": "execute_result"
    }
   ],
   "source": [
    "data.columns  = ['event_name', 'id_user', 'time_unix', 'id_exp']\n",
    "data.head()"
   ]
  },
  {
   "cell_type": "markdown",
   "metadata": {},
   "source": [
    "---"
   ]
  },
  {
   "cell_type": "markdown",
   "metadata": {},
   "source": [
    "<a id =\"stage_2_2\"></a>\n",
    "\n",
    "### 2.2. Проверьте пропуски и типы данных. Откорректируйте, если нужно\n",
    "\n",
    "[К оглавлению](#title)"
   ]
  },
  {
   "cell_type": "code",
   "execution_count": 11,
   "metadata": {},
   "outputs": [
    {
     "data": {
      "text/plain": [
       "413"
      ]
     },
     "execution_count": 11,
     "metadata": {},
     "output_type": "execute_result"
    }
   ],
   "source": [
    "data.duplicated().sum()"
   ]
  },
  {
   "cell_type": "code",
   "execution_count": 12,
   "metadata": {},
   "outputs": [
    {
     "data": {
      "text/plain": [
       "0"
      ]
     },
     "execution_count": 12,
     "metadata": {},
     "output_type": "execute_result"
    }
   ],
   "source": [
    "data = data.drop_duplicates().reset_index(drop = True)\n",
    "data.duplicated().sum()"
   ]
  },
  {
   "cell_type": "markdown",
   "metadata": {},
   "source": [
    "---"
   ]
  },
  {
   "cell_type": "markdown",
   "metadata": {},
   "source": [
    "<a id =\"stage_2_3\"></a>\n",
    "\n",
    "### 2.3. Добавьте столбец даты и времени, а также отдельный столбец дат\n",
    "\n",
    "[К оглавлению](#title)"
   ]
  },
  {
   "cell_type": "code",
   "execution_count": 13,
   "metadata": {},
   "outputs": [
    {
     "name": "stdout",
     "output_type": "stream",
     "text": [
      "<class 'pandas.core.frame.DataFrame'>\n",
      "RangeIndex: 243713 entries, 0 to 243712\n",
      "Data columns (total 6 columns):\n",
      " #   Column      Non-Null Count   Dtype         \n",
      "---  ------      --------------   -----         \n",
      " 0   event_name  243713 non-null  object        \n",
      " 1   id_user     243713 non-null  int64         \n",
      " 2   time_unix   243713 non-null  int64         \n",
      " 3   id_exp      243713 non-null  int64         \n",
      " 4   time        243713 non-null  datetime64[ns]\n",
      " 5   date        243713 non-null  datetime64[ns]\n",
      "dtypes: datetime64[ns](2), int64(3), object(1)\n",
      "memory usage: 11.2+ MB\n"
     ]
    }
   ],
   "source": [
    "data['time'] = pd.to_datetime(data['time_unix'], unit='s')\n",
    "data['date'] = pd.to_datetime(data['time'].dt.date)\n",
    "data.info()"
   ]
  },
  {
   "cell_type": "code",
   "execution_count": 14,
   "metadata": {},
   "outputs": [
    {
     "data": {
      "text/html": [
       "<div>\n",
       "<style scoped>\n",
       "    .dataframe tbody tr th:only-of-type {\n",
       "        vertical-align: middle;\n",
       "    }\n",
       "\n",
       "    .dataframe tbody tr th {\n",
       "        vertical-align: top;\n",
       "    }\n",
       "\n",
       "    .dataframe thead th {\n",
       "        text-align: right;\n",
       "    }\n",
       "</style>\n",
       "<table border=\"1\" class=\"dataframe\">\n",
       "  <thead>\n",
       "    <tr style=\"text-align: right;\">\n",
       "      <th></th>\n",
       "      <th>event_name</th>\n",
       "      <th>id_user</th>\n",
       "      <th>time_unix</th>\n",
       "      <th>id_exp</th>\n",
       "      <th>time</th>\n",
       "      <th>date</th>\n",
       "    </tr>\n",
       "  </thead>\n",
       "  <tbody>\n",
       "    <tr>\n",
       "      <th>0</th>\n",
       "      <td>MainScreenAppear</td>\n",
       "      <td>4575588528974610257</td>\n",
       "      <td>1564029816</td>\n",
       "      <td>246</td>\n",
       "      <td>2019-07-25 04:43:36</td>\n",
       "      <td>2019-07-25</td>\n",
       "    </tr>\n",
       "    <tr>\n",
       "      <th>1</th>\n",
       "      <td>MainScreenAppear</td>\n",
       "      <td>7416695313311560658</td>\n",
       "      <td>1564053102</td>\n",
       "      <td>246</td>\n",
       "      <td>2019-07-25 11:11:42</td>\n",
       "      <td>2019-07-25</td>\n",
       "    </tr>\n",
       "    <tr>\n",
       "      <th>2</th>\n",
       "      <td>PaymentScreenSuccessful</td>\n",
       "      <td>3518123091307005509</td>\n",
       "      <td>1564054127</td>\n",
       "      <td>248</td>\n",
       "      <td>2019-07-25 11:28:47</td>\n",
       "      <td>2019-07-25</td>\n",
       "    </tr>\n",
       "    <tr>\n",
       "      <th>3</th>\n",
       "      <td>CartScreenAppear</td>\n",
       "      <td>3518123091307005509</td>\n",
       "      <td>1564054127</td>\n",
       "      <td>248</td>\n",
       "      <td>2019-07-25 11:28:47</td>\n",
       "      <td>2019-07-25</td>\n",
       "    </tr>\n",
       "    <tr>\n",
       "      <th>4</th>\n",
       "      <td>PaymentScreenSuccessful</td>\n",
       "      <td>6217807653094995999</td>\n",
       "      <td>1564055322</td>\n",
       "      <td>248</td>\n",
       "      <td>2019-07-25 11:48:42</td>\n",
       "      <td>2019-07-25</td>\n",
       "    </tr>\n",
       "  </tbody>\n",
       "</table>\n",
       "</div>"
      ],
      "text/plain": [
       "                event_name              id_user   time_unix  id_exp  \\\n",
       "0         MainScreenAppear  4575588528974610257  1564029816     246   \n",
       "1         MainScreenAppear  7416695313311560658  1564053102     246   \n",
       "2  PaymentScreenSuccessful  3518123091307005509  1564054127     248   \n",
       "3         CartScreenAppear  3518123091307005509  1564054127     248   \n",
       "4  PaymentScreenSuccessful  6217807653094995999  1564055322     248   \n",
       "\n",
       "                 time       date  \n",
       "0 2019-07-25 04:43:36 2019-07-25  \n",
       "1 2019-07-25 11:11:42 2019-07-25  \n",
       "2 2019-07-25 11:28:47 2019-07-25  \n",
       "3 2019-07-25 11:28:47 2019-07-25  \n",
       "4 2019-07-25 11:48:42 2019-07-25  "
      ]
     },
     "execution_count": 14,
     "metadata": {},
     "output_type": "execute_result"
    }
   ],
   "source": [
    "data.head()"
   ]
  },
  {
   "cell_type": "markdown",
   "metadata": {},
   "source": [
    "---"
   ]
  },
  {
   "cell_type": "markdown",
   "metadata": {},
   "source": [
    "<a id =\"stage_3\"></a>\n",
    "\n",
    "# Шаг 3. Изучите и проверьте данные\n",
    "\n",
    "[К оглавлению](#title)"
   ]
  },
  {
   "cell_type": "markdown",
   "metadata": {},
   "source": [
    "---"
   ]
  },
  {
   "cell_type": "markdown",
   "metadata": {},
   "source": [
    "<a id =\"stage_3_1\"></a>\n",
    "\n",
    "### 3.1. Сколько всего событий в логе?\n",
    "\n",
    "[К оглавлению](#title)"
   ]
  },
  {
   "cell_type": "code",
   "execution_count": 15,
   "metadata": {},
   "outputs": [
    {
     "name": "stdout",
     "output_type": "stream",
     "text": [
      "В логе 5 уникальных событий\n",
      "В логе всего 243713 событий\n"
     ]
    }
   ],
   "source": [
    "how_much_unique = len(data['event_name'].unique())\n",
    "how_much = len(data['event_name'])\n",
    "\n",
    "print(f'В логе {how_much_unique} уникальных событий')\n",
    "print(f'В логе всего {how_much} событий')"
   ]
  },
  {
   "cell_type": "markdown",
   "metadata": {},
   "source": [
    "---"
   ]
  },
  {
   "cell_type": "markdown",
   "metadata": {},
   "source": [
    "<a id =\"stage_3_2\"></a>\n",
    "\n",
    "### 3.2. Сколько всего пользователей в логе?\n",
    "\n",
    "[К оглавлению](#title)"
   ]
  },
  {
   "cell_type": "code",
   "execution_count": 16,
   "metadata": {},
   "outputs": [
    {
     "name": "stdout",
     "output_type": "stream",
     "text": [
      "Всего пользователей в логе: 7551\n"
     ]
    }
   ],
   "source": [
    "users_count = data['id_user'].nunique()\n",
    "print(f'Всего пользователей в логе: {users_count}')"
   ]
  },
  {
   "cell_type": "markdown",
   "metadata": {},
   "source": [
    "---"
   ]
  },
  {
   "cell_type": "markdown",
   "metadata": {},
   "source": [
    "<a id =\"stage_3_3\"></a>\n",
    "\n",
    "### 3.3. Сколько в среднем событий приходится на пользователя?\n",
    "\n",
    "[К оглавлению](#title)"
   ]
  },
  {
   "cell_type": "code",
   "execution_count": 17,
   "metadata": {},
   "outputs": [
    {
     "data": {
      "text/plain": [
       "event_name    32.0\n",
       "dtype: float64"
      ]
     },
     "execution_count": 17,
     "metadata": {},
     "output_type": "execute_result"
    }
   ],
   "source": [
    "data.groupby('id_user').agg({'event_name': 'count'}).mean().round()"
   ]
  },
  {
   "cell_type": "markdown",
   "metadata": {},
   "source": [
    "В среднем на пользователя - 32 события"
   ]
  },
  {
   "cell_type": "markdown",
   "metadata": {},
   "source": [
    "---"
   ]
  },
  {
   "cell_type": "markdown",
   "metadata": {},
   "source": [
    "<a id =\"stage_3_4\"></a>\n",
    "\n",
    "### 3.4. Данными за какой период вы располагаете? Найдите максимальную и минимальную дату. Постройте гистограмму по дате и времени. Можно ли быть уверенным, что у вас одинаково полные данные за весь период? Технически в логи новых дней по некоторым пользователям могут «доезжать» события из прошлого — это может «перекашивать данные». Определите, с какого момента данные полные и отбросьте более старые. Данными за какой период времени вы располагаете на самом деле?\n",
    "\n",
    "[К оглавлению](#title)"
   ]
  },
  {
   "cell_type": "markdown",
   "metadata": {},
   "source": [
    "#### 3.4.1. Данными за какой период вы располагаете?"
   ]
  },
  {
   "cell_type": "code",
   "execution_count": 18,
   "metadata": {},
   "outputs": [
    {
     "name": "stdout",
     "output_type": "stream",
     "text": [
      "Мы располагаем данными с 2019-07-25 04:43:36 - 2019-08-07 21:15:17\n",
      "Это временной отрезок длиной: 13 days 16:31:41\n"
     ]
    }
   ],
   "source": [
    "start = data['time'].min()\n",
    "finish = data['time'].max()\n",
    "print(f'Мы располагаем данными с {start} - {finish}')\n",
    "\n",
    "delta = finish - start\n",
    "print(f'Это временной отрезок длиной: {delta}')"
   ]
  },
  {
   "cell_type": "markdown",
   "metadata": {},
   "source": [
    "#### 3.4.2. Постройте гистограмму по дате и времени."
   ]
  },
  {
   "cell_type": "code",
   "execution_count": 19,
   "metadata": {},
   "outputs": [
    {
     "data": {
      "image/png": "[encoded data removed]",
      "text/plain": [
       "<Figure size 1000x500 with 1 Axes>"
      ]
     },
     "metadata": {},
     "output_type": "display_data"
    }
   ],
   "source": [
    "plt.figure(figsize=(10, 5))\n",
    "ax = \\\n",
    "data['time'].hist(bins = 50)\n",
    "plt.grid(axis = 'x')\n",
    "plt.xticks(rotation = 45)\n",
    "plt.xlabel('время')\n",
    "plt.ylabel('частота')\n",
    "plt.title('Гистограмма распределения времени событий \\n')\n",
    "ax.set_axisbelow(True)"
   ]
  },
  {
   "cell_type": "markdown",
   "metadata": {},
   "source": [
    "Данные сгруппированы, в основном,  в августе"
   ]
  },
  {
   "cell_type": "markdown",
   "metadata": {},
   "source": [
    "#### 3.4.3. Можно ли быть уверенным, что у вас одинаково полные данные за весь период? Технически в логи новых дней по некоторым пользователям могут «доезжать» события из прошлого — это может «перекашивать данные». Определите, с какого момента данные полные и отбросьте более старые. Данными за какой период времени вы располагаете на самом деле?"
   ]
  },
  {
   "cell_type": "code",
   "execution_count": 20,
   "metadata": {},
   "outputs": [
    {
     "data": {
      "text/plain": [
       "date\n",
       "2019-08-01    36141\n",
       "2019-08-05    36058\n",
       "2019-08-06    35788\n",
       "2019-08-02    35554\n",
       "2019-08-03    33282\n",
       "2019-08-04    32968\n",
       "2019-08-07    31096\n",
       "2019-07-31     2030\n",
       "2019-07-30      412\n",
       "2019-07-29      184\n",
       "2019-07-28      105\n",
       "2019-07-27       55\n",
       "2019-07-26       31\n",
       "2019-07-25        9\n",
       "Name: count, dtype: int64"
      ]
     },
     "execution_count": 20,
     "metadata": {},
     "output_type": "execute_result"
    }
   ],
   "source": [
    "data['date'].value_counts()"
   ]
  },
  {
   "cell_type": "code",
   "execution_count": 21,
   "metadata": {},
   "outputs": [
    {
     "data": {
      "text/html": [
       "<div>\n",
       "<style scoped>\n",
       "    .dataframe tbody tr th:only-of-type {\n",
       "        vertical-align: middle;\n",
       "    }\n",
       "\n",
       "    .dataframe tbody tr th {\n",
       "        vertical-align: top;\n",
       "    }\n",
       "\n",
       "    .dataframe thead th {\n",
       "        text-align: right;\n",
       "    }\n",
       "</style>\n",
       "<table border=\"1\" class=\"dataframe\">\n",
       "  <thead>\n",
       "    <tr style=\"text-align: right;\">\n",
       "      <th></th>\n",
       "      <th>date</th>\n",
       "      <th>date_count</th>\n",
       "      <th>percent_count_cumsum</th>\n",
       "    </tr>\n",
       "  </thead>\n",
       "  <tbody>\n",
       "    <tr>\n",
       "      <th>0</th>\n",
       "      <td>2019-07-25</td>\n",
       "      <td>9</td>\n",
       "      <td>0.00</td>\n",
       "    </tr>\n",
       "    <tr>\n",
       "      <th>1</th>\n",
       "      <td>2019-07-26</td>\n",
       "      <td>31</td>\n",
       "      <td>0.02</td>\n",
       "    </tr>\n",
       "    <tr>\n",
       "      <th>2</th>\n",
       "      <td>2019-07-27</td>\n",
       "      <td>55</td>\n",
       "      <td>0.04</td>\n",
       "    </tr>\n",
       "    <tr>\n",
       "      <th>3</th>\n",
       "      <td>2019-07-28</td>\n",
       "      <td>105</td>\n",
       "      <td>0.08</td>\n",
       "    </tr>\n",
       "    <tr>\n",
       "      <th>4</th>\n",
       "      <td>2019-07-29</td>\n",
       "      <td>184</td>\n",
       "      <td>0.16</td>\n",
       "    </tr>\n",
       "    <tr>\n",
       "      <th>5</th>\n",
       "      <td>2019-07-30</td>\n",
       "      <td>412</td>\n",
       "      <td>0.33</td>\n",
       "    </tr>\n",
       "    <tr>\n",
       "      <th>6</th>\n",
       "      <td>2019-07-31</td>\n",
       "      <td>2030</td>\n",
       "      <td>1.16</td>\n",
       "    </tr>\n",
       "    <tr>\n",
       "      <th>7</th>\n",
       "      <td>2019-08-01</td>\n",
       "      <td>36141</td>\n",
       "      <td>15.99</td>\n",
       "    </tr>\n",
       "    <tr>\n",
       "      <th>8</th>\n",
       "      <td>2019-08-02</td>\n",
       "      <td>35554</td>\n",
       "      <td>30.58</td>\n",
       "    </tr>\n",
       "    <tr>\n",
       "      <th>9</th>\n",
       "      <td>2019-08-03</td>\n",
       "      <td>33282</td>\n",
       "      <td>44.23</td>\n",
       "    </tr>\n",
       "    <tr>\n",
       "      <th>10</th>\n",
       "      <td>2019-08-04</td>\n",
       "      <td>32968</td>\n",
       "      <td>57.76</td>\n",
       "    </tr>\n",
       "    <tr>\n",
       "      <th>11</th>\n",
       "      <td>2019-08-05</td>\n",
       "      <td>36058</td>\n",
       "      <td>72.56</td>\n",
       "    </tr>\n",
       "    <tr>\n",
       "      <th>12</th>\n",
       "      <td>2019-08-06</td>\n",
       "      <td>35788</td>\n",
       "      <td>87.24</td>\n",
       "    </tr>\n",
       "    <tr>\n",
       "      <th>13</th>\n",
       "      <td>2019-08-07</td>\n",
       "      <td>31096</td>\n",
       "      <td>100.00</td>\n",
       "    </tr>\n",
       "  </tbody>\n",
       "</table>\n",
       "</div>"
      ],
      "text/plain": [
       "         date  date_count  percent_count_cumsum\n",
       "0  2019-07-25           9                  0.00\n",
       "1  2019-07-26          31                  0.02\n",
       "2  2019-07-27          55                  0.04\n",
       "3  2019-07-28         105                  0.08\n",
       "4  2019-07-29         184                  0.16\n",
       "5  2019-07-30         412                  0.33\n",
       "6  2019-07-31        2030                  1.16\n",
       "7  2019-08-01       36141                 15.99\n",
       "8  2019-08-02       35554                 30.58\n",
       "9  2019-08-03       33282                 44.23\n",
       "10 2019-08-04       32968                 57.76\n",
       "11 2019-08-05       36058                 72.56\n",
       "12 2019-08-06       35788                 87.24\n",
       "13 2019-08-07       31096                100.00"
      ]
     },
     "execution_count": 21,
     "metadata": {},
     "output_type": "execute_result"
    }
   ],
   "source": [
    "date_count = \\\n",
    "data.groupby('date').agg({'date':'count'}) \\\n",
    "                    .rename({'date':'date_count'}, axis = 1) \\\n",
    "                    .reset_index()\n",
    "\n",
    "# Для полноты картины векторно просумируем\n",
    "sum_count_events = date_count['date_count'].sum()\n",
    "date_count['percent_count_cumsum'] = date_count['date_count'].map(lambda x: (x/sum_count_events)*100).cumsum().round(2)\n",
    "date_count"
   ]
  },
  {
   "cell_type": "markdown",
   "metadata": {},
   "source": [
    "Видим, данные, влияющие на выборку начинаются с 2019-08-01 --> отсортируем их"
   ]
  },
  {
   "cell_type": "code",
   "execution_count": 22,
   "metadata": {},
   "outputs": [
    {
     "data": {
      "text/plain": [
       "(240887, 243713)"
      ]
     },
     "execution_count": 22,
     "metadata": {},
     "output_type": "execute_result"
    }
   ],
   "source": [
    "data_clear = data[data['date'] >= '2019-08-01']\n",
    "data_clear.shape[0], data.shape[0]"
   ]
  },
  {
   "cell_type": "markdown",
   "metadata": {},
   "source": [
    "Видим, что данные сократились всего на 3000 --> приемлимо при такой большой выборке"
   ]
  },
  {
   "cell_type": "markdown",
   "metadata": {},
   "source": [
    "---"
   ]
  },
  {
   "cell_type": "markdown",
   "metadata": {},
   "source": [
    "<a id =\"stage_3_5\"></a>\n",
    "\n",
    "### 3.5. Много ли событий и пользователей вы потеряли, отбросив старые данные?\n",
    "\n",
    "[К оглавлению](#title)"
   ]
  },
  {
   "cell_type": "code",
   "execution_count": 23,
   "metadata": {},
   "outputs": [
    {
     "name": "stdout",
     "output_type": "stream",
     "text": [
      "2826 событий потеряно из общей массы\n",
      "5 типов событий было\n",
      "5 типов событий стало\n"
     ]
    }
   ],
   "source": [
    "# события\n",
    "delta_events = data.shape[0] - data_clear.shape[0]\n",
    "print(f'{delta_events} событий потеряно из общей массы')\n",
    "\n",
    "count_type_events_dirty = len(data['event_name'].unique())\n",
    "count_type_events_clear = len(data_clear['event_name'].unique())\n",
    "\n",
    "print(f'{count_type_events_dirty} типов событий было')\n",
    "print(f'{count_type_events_clear} типов событий стало')"
   ]
  },
  {
   "cell_type": "code",
   "execution_count": 24,
   "metadata": {},
   "outputs": [
    {
     "name": "stdout",
     "output_type": "stream",
     "text": [
      "7551 пользователей было\n",
      "7534 пользователей стало\n",
      "0.23% потерянных пользователей после чистки данных\n"
     ]
    }
   ],
   "source": [
    "# пользователи\n",
    "count_user_dirty = len(data['id_user'].unique())\n",
    "count_user_clear = len(data_clear['id_user'].unique())\n",
    "\n",
    "print(f'{count_user_dirty} пользователей было')\n",
    "print(f'{count_user_clear} пользователей стало')\n",
    "\n",
    "percent_lost = (((count_user_dirty - count_user_clear) / count_user_dirty )*100).__round__(2)\n",
    "\n",
    "print(f'{percent_lost}% потерянных пользователей после чистки данных')"
   ]
  },
  {
   "cell_type": "markdown",
   "metadata": {},
   "source": [
    "---"
   ]
  },
  {
   "cell_type": "markdown",
   "metadata": {},
   "source": [
    "<a id =\"stage_3_6\"></a>\n",
    "\n",
    "### 3.6. Проверьте, что у вас есть пользователи из всех трёх экспериментальных групп\n",
    "\n",
    "[К оглавлению](#title)"
   ]
  },
  {
   "cell_type": "code",
   "execution_count": 25,
   "metadata": {},
   "outputs": [
    {
     "data": {
      "text/html": [
       "<div>\n",
       "<style scoped>\n",
       "    .dataframe tbody tr th:only-of-type {\n",
       "        vertical-align: middle;\n",
       "    }\n",
       "\n",
       "    .dataframe tbody tr th {\n",
       "        vertical-align: top;\n",
       "    }\n",
       "\n",
       "    .dataframe thead th {\n",
       "        text-align: right;\n",
       "    }\n",
       "</style>\n",
       "<table border=\"1\" class=\"dataframe\">\n",
       "  <thead>\n",
       "    <tr style=\"text-align: right;\">\n",
       "      <th></th>\n",
       "      <th>id_user</th>\n",
       "    </tr>\n",
       "    <tr>\n",
       "      <th>id_exp</th>\n",
       "      <th></th>\n",
       "    </tr>\n",
       "  </thead>\n",
       "  <tbody>\n",
       "    <tr>\n",
       "      <th>246</th>\n",
       "      <td>2484</td>\n",
       "    </tr>\n",
       "    <tr>\n",
       "      <th>247</th>\n",
       "      <td>2513</td>\n",
       "    </tr>\n",
       "    <tr>\n",
       "      <th>248</th>\n",
       "      <td>2537</td>\n",
       "    </tr>\n",
       "  </tbody>\n",
       "</table>\n",
       "</div>"
      ],
      "text/plain": [
       "        id_user\n",
       "id_exp         \n",
       "246        2484\n",
       "247        2513\n",
       "248        2537"
      ]
     },
     "execution_count": 25,
     "metadata": {},
     "output_type": "execute_result"
    }
   ],
   "source": [
    "data_clear.groupby('id_exp').agg({'id_user': 'nunique'})"
   ]
  },
  {
   "cell_type": "markdown",
   "metadata": {},
   "source": [
    "Пользователи есть во всех группах"
   ]
  },
  {
   "cell_type": "markdown",
   "metadata": {},
   "source": [
    "---"
   ]
  },
  {
   "cell_type": "markdown",
   "metadata": {},
   "source": [
    "<a id =\"stage_4\"></a>\n",
    "\n",
    "# Шаг 4. Изучите воронку событий\n",
    "\n",
    "[К оглавлению](#title)"
   ]
  },
  {
   "cell_type": "markdown",
   "metadata": {},
   "source": [
    "---"
   ]
  },
  {
   "cell_type": "markdown",
   "metadata": {},
   "source": [
    "<a id =\"stage_4_1\"></a>\n",
    "\n",
    "### 4.1. Посмотрите, какие события есть в логах, как часто они встречаются. Отсортируйте события по частоте\n",
    "\n",
    "[К оглавлению](#title)"
   ]
  },
  {
   "cell_type": "code",
   "execution_count": 26,
   "metadata": {},
   "outputs": [
    {
     "data": {
      "text/plain": [
       "Text(0.5, 1.0, 'Количество событий (распределенные по типу) \\n')"
      ]
     },
     "execution_count": 26,
     "metadata": {},
     "output_type": "execute_result"
    },
    {
     "data": {
      "image/png": "[encoded data removed]",
      "text/plain": [
       "<Figure size 640x480 with 1 Axes>"
      ]
     },
     "metadata": {},
     "output_type": "display_data"
    }
   ],
   "source": [
    "data_events = \\\n",
    "data_clear['event_name'].value_counts().reset_index()\n",
    "\n",
    "data_events.columns = ['event_name', 'event_count']\n",
    "\n",
    "ax = \\\n",
    "sns.barplot(data = data_events,\n",
    "            x = 'event_count',\n",
    "            y = 'event_name')\n",
    "plt.grid(axis = 'x')\n",
    "ax.set_axisbelow(True)\n",
    "plt.xlabel('\\n количество событий')\n",
    "plt.ylabel('название события')\n",
    "plt.title('Количество событий (распределенные по типу) \\n')"
   ]
  },
  {
   "cell_type": "markdown",
   "metadata": {},
   "source": [
    "---"
   ]
  },
  {
   "cell_type": "markdown",
   "metadata": {},
   "source": [
    "<a id =\"stage_4_2\"></a>\n",
    "\n",
    "### 4.2. Посчитайте, сколько пользователей совершали каждое из этих событий. Отсортируйте события по числу пользователей. Посчитайте долю пользователей, которые хоть раз совершали событие\n",
    "\n",
    "[К оглавлению](#title)"
   ]
  },
  {
   "cell_type": "code",
   "execution_count": 27,
   "metadata": {},
   "outputs": [
    {
     "data": {
      "text/html": [
       "<div>\n",
       "<style scoped>\n",
       "    .dataframe tbody tr th:only-of-type {\n",
       "        vertical-align: middle;\n",
       "    }\n",
       "\n",
       "    .dataframe tbody tr th {\n",
       "        vertical-align: top;\n",
       "    }\n",
       "\n",
       "    .dataframe thead th {\n",
       "        text-align: right;\n",
       "    }\n",
       "</style>\n",
       "<table border=\"1\" class=\"dataframe\">\n",
       "  <thead>\n",
       "    <tr style=\"text-align: right;\">\n",
       "      <th></th>\n",
       "      <th>event_name</th>\n",
       "      <th>unique_user_count</th>\n",
       "    </tr>\n",
       "  </thead>\n",
       "  <tbody>\n",
       "    <tr>\n",
       "      <th>1</th>\n",
       "      <td>MainScreenAppear</td>\n",
       "      <td>7419</td>\n",
       "    </tr>\n",
       "    <tr>\n",
       "      <th>2</th>\n",
       "      <td>OffersScreenAppear</td>\n",
       "      <td>4593</td>\n",
       "    </tr>\n",
       "    <tr>\n",
       "      <th>0</th>\n",
       "      <td>CartScreenAppear</td>\n",
       "      <td>3734</td>\n",
       "    </tr>\n",
       "    <tr>\n",
       "      <th>3</th>\n",
       "      <td>PaymentScreenSuccessful</td>\n",
       "      <td>3539</td>\n",
       "    </tr>\n",
       "    <tr>\n",
       "      <th>4</th>\n",
       "      <td>Tutorial</td>\n",
       "      <td>840</td>\n",
       "    </tr>\n",
       "  </tbody>\n",
       "</table>\n",
       "</div>"
      ],
      "text/plain": [
       "                event_name  unique_user_count\n",
       "1         MainScreenAppear               7419\n",
       "2       OffersScreenAppear               4593\n",
       "0         CartScreenAppear               3734\n",
       "3  PaymentScreenSuccessful               3539\n",
       "4                 Tutorial                840"
      ]
     },
     "execution_count": 27,
     "metadata": {},
     "output_type": "execute_result"
    }
   ],
   "source": [
    "user_event_count =\\\n",
    "data_clear.groupby('event_name').agg({'id_user': 'nunique'}) \\\n",
    "                                .reset_index() \\\n",
    "                                .rename({'id_user': 'unique_user_count'}, axis = 1) \\\n",
    "                                .sort_values(by = 'unique_user_count', ascending=False)\n",
    "\n",
    "user_event_count"
   ]
  },
  {
   "cell_type": "code",
   "execution_count": 28,
   "metadata": {},
   "outputs": [
    {
     "data": {
      "text/html": [
       "<div>\n",
       "<style scoped>\n",
       "    .dataframe tbody tr th:only-of-type {\n",
       "        vertical-align: middle;\n",
       "    }\n",
       "\n",
       "    .dataframe tbody tr th {\n",
       "        vertical-align: top;\n",
       "    }\n",
       "\n",
       "    .dataframe thead th {\n",
       "        text-align: right;\n",
       "    }\n",
       "</style>\n",
       "<table border=\"1\" class=\"dataframe\">\n",
       "  <thead>\n",
       "    <tr style=\"text-align: right;\">\n",
       "      <th></th>\n",
       "      <th>event_name</th>\n",
       "      <th>unique_user_count</th>\n",
       "      <th>percent</th>\n",
       "    </tr>\n",
       "  </thead>\n",
       "  <tbody>\n",
       "    <tr>\n",
       "      <th>1</th>\n",
       "      <td>MainScreenAppear</td>\n",
       "      <td>7419</td>\n",
       "      <td>36.86</td>\n",
       "    </tr>\n",
       "    <tr>\n",
       "      <th>2</th>\n",
       "      <td>OffersScreenAppear</td>\n",
       "      <td>4593</td>\n",
       "      <td>22.82</td>\n",
       "    </tr>\n",
       "    <tr>\n",
       "      <th>0</th>\n",
       "      <td>CartScreenAppear</td>\n",
       "      <td>3734</td>\n",
       "      <td>18.55</td>\n",
       "    </tr>\n",
       "    <tr>\n",
       "      <th>3</th>\n",
       "      <td>PaymentScreenSuccessful</td>\n",
       "      <td>3539</td>\n",
       "      <td>17.59</td>\n",
       "    </tr>\n",
       "    <tr>\n",
       "      <th>4</th>\n",
       "      <td>Tutorial</td>\n",
       "      <td>840</td>\n",
       "      <td>4.17</td>\n",
       "    </tr>\n",
       "  </tbody>\n",
       "</table>\n",
       "</div>"
      ],
      "text/plain": [
       "                event_name  unique_user_count  percent\n",
       "1         MainScreenAppear               7419    36.86\n",
       "2       OffersScreenAppear               4593    22.82\n",
       "0         CartScreenAppear               3734    18.55\n",
       "3  PaymentScreenSuccessful               3539    17.59\n",
       "4                 Tutorial                840     4.17"
      ]
     },
     "execution_count": 28,
     "metadata": {},
     "output_type": "execute_result"
    }
   ],
   "source": [
    "user_event_count['percent'] = user_event_count['unique_user_count'].map(lambda x: (x/user_event_count['unique_user_count'].sum()) * 100).round(2)\n",
    "user_event_count"
   ]
  },
  {
   "cell_type": "markdown",
   "metadata": {},
   "source": [
    "---"
   ]
  },
  {
   "cell_type": "markdown",
   "metadata": {},
   "source": [
    "<a id =\"stage_4_3\"></a>\n",
    "\n",
    "### 4.3. Предположите, в каком порядке происходят события. Все ли они выстраиваются в последовательную цепочку?\n",
    "\n",
    "[К оглавлению](#title)"
   ]
  },
  {
   "cell_type": "markdown",
   "metadata": {},
   "source": [
    "Последовательность: \n",
    "\n",
    "- MainScreenAppear\n",
    "- OffersScreenAppear\n",
    "- CartScreenAppear\n",
    "- PaymentScreenSuccessful\n",
    "\n",
    "\n",
    "Tutorial - может быть на любом этапе\n",
    "\n",
    "Логично, что отсортированное кол-во событий (по убыванию) - дает ту же последовательность"
   ]
  },
  {
   "cell_type": "markdown",
   "metadata": {},
   "source": [
    "---"
   ]
  },
  {
   "cell_type": "markdown",
   "metadata": {},
   "source": [
    "<a id =\"stage_4_4\"></a>\n",
    "\n",
    "### 4.4. По воронке событий посчитайте, какая доля пользователей проходит на следующий шаг воронки (от числа пользователей на предыдущем). То есть для последовательности событий A → B → C, посчитайте отношение числа пользователей с событием B к количеству пользователей с событием A\n",
    "\n",
    "[К оглавлению](#title)"
   ]
  },
  {
   "cell_type": "code",
   "execution_count": 29,
   "metadata": {},
   "outputs": [
    {
     "data": {
      "text/html": [
       "<div>\n",
       "<style scoped>\n",
       "    .dataframe tbody tr th:only-of-type {\n",
       "        vertical-align: middle;\n",
       "    }\n",
       "\n",
       "    .dataframe tbody tr th {\n",
       "        vertical-align: top;\n",
       "    }\n",
       "\n",
       "    .dataframe thead th {\n",
       "        text-align: right;\n",
       "    }\n",
       "</style>\n",
       "<table border=\"1\" class=\"dataframe\">\n",
       "  <thead>\n",
       "    <tr style=\"text-align: right;\">\n",
       "      <th></th>\n",
       "      <th>event_name</th>\n",
       "      <th>unique_user_count</th>\n",
       "    </tr>\n",
       "  </thead>\n",
       "  <tbody>\n",
       "    <tr>\n",
       "      <th>1</th>\n",
       "      <td>MainScreenAppear</td>\n",
       "      <td>7419</td>\n",
       "    </tr>\n",
       "    <tr>\n",
       "      <th>2</th>\n",
       "      <td>OffersScreenAppear</td>\n",
       "      <td>4593</td>\n",
       "    </tr>\n",
       "    <tr>\n",
       "      <th>0</th>\n",
       "      <td>CartScreenAppear</td>\n",
       "      <td>3734</td>\n",
       "    </tr>\n",
       "    <tr>\n",
       "      <th>3</th>\n",
       "      <td>PaymentScreenSuccessful</td>\n",
       "      <td>3539</td>\n",
       "    </tr>\n",
       "  </tbody>\n",
       "</table>\n",
       "</div>"
      ],
      "text/plain": [
       "                event_name  unique_user_count\n",
       "1         MainScreenAppear               7419\n",
       "2       OffersScreenAppear               4593\n",
       "0         CartScreenAppear               3734\n",
       "3  PaymentScreenSuccessful               3539"
      ]
     },
     "execution_count": 29,
     "metadata": {},
     "output_type": "execute_result"
    }
   ],
   "source": [
    "# уберем туториал из воронки событий\n",
    "user_event_count_4_4 = user_event_count.iloc[:4, :2]\n",
    "user_event_count_4_4"
   ]
  },
  {
   "cell_type": "code",
   "execution_count": 30,
   "metadata": {},
   "outputs": [
    {
     "data": {
      "text/plain": [
       "[100.0, 61.908613020622724, 81.29762682342695, 94.7777182645956]"
      ]
     },
     "execution_count": 30,
     "metadata": {},
     "output_type": "execute_result"
    }
   ],
   "source": [
    "key_start = user_event_count_4_4['unique_user_count'].to_list()[0]\n",
    "percent_spisok = []\n",
    "for key in user_event_count_4_4['unique_user_count'].to_list():\n",
    "    key_percent = (key/key_start)*100\n",
    "    percent_spisok.append(key_percent)\n",
    "    key_start = key\n",
    "\n",
    "percent_spisok"
   ]
  },
  {
   "cell_type": "code",
   "execution_count": 31,
   "metadata": {},
   "outputs": [
    {
     "data": {
      "text/html": [
       "<div>\n",
       "<style scoped>\n",
       "    .dataframe tbody tr th:only-of-type {\n",
       "        vertical-align: middle;\n",
       "    }\n",
       "\n",
       "    .dataframe tbody tr th {\n",
       "        vertical-align: top;\n",
       "    }\n",
       "\n",
       "    .dataframe thead th {\n",
       "        text-align: right;\n",
       "    }\n",
       "</style>\n",
       "<table border=\"1\" class=\"dataframe\">\n",
       "  <thead>\n",
       "    <tr style=\"text-align: right;\">\n",
       "      <th></th>\n",
       "      <th>event_name</th>\n",
       "      <th>unique_user_count</th>\n",
       "      <th>доля_переходящих_пользователей_по_воронке_событий</th>\n",
       "    </tr>\n",
       "  </thead>\n",
       "  <tbody>\n",
       "    <tr>\n",
       "      <th>1</th>\n",
       "      <td>MainScreenAppear</td>\n",
       "      <td>7419</td>\n",
       "      <td>100.00</td>\n",
       "    </tr>\n",
       "    <tr>\n",
       "      <th>2</th>\n",
       "      <td>OffersScreenAppear</td>\n",
       "      <td>4593</td>\n",
       "      <td>61.91</td>\n",
       "    </tr>\n",
       "    <tr>\n",
       "      <th>0</th>\n",
       "      <td>CartScreenAppear</td>\n",
       "      <td>3734</td>\n",
       "      <td>81.30</td>\n",
       "    </tr>\n",
       "    <tr>\n",
       "      <th>3</th>\n",
       "      <td>PaymentScreenSuccessful</td>\n",
       "      <td>3539</td>\n",
       "      <td>94.78</td>\n",
       "    </tr>\n",
       "  </tbody>\n",
       "</table>\n",
       "</div>"
      ],
      "text/plain": [
       "                event_name  unique_user_count  \\\n",
       "1         MainScreenAppear               7419   \n",
       "2       OffersScreenAppear               4593   \n",
       "0         CartScreenAppear               3734   \n",
       "3  PaymentScreenSuccessful               3539   \n",
       "\n",
       "   доля_переходящих_пользователей_по_воронке_событий  \n",
       "1                                             100.00  \n",
       "2                                              61.91  \n",
       "0                                              81.30  \n",
       "3                                              94.78  "
      ]
     },
     "execution_count": 31,
     "metadata": {},
     "output_type": "execute_result"
    }
   ],
   "source": [
    "user_event_count_4_4['доля_переходящих_пользователей_по_воронке_событий'] = percent_spisok\n",
    "user_event_count_4_4.round(2)"
   ]
  },
  {
   "cell_type": "code",
   "execution_count": 32,
   "metadata": {},
   "outputs": [
    {
     "data": {
      "application/vnd.plotly.v1+json": {
       "config": {
        "plotlyServerURL": "https://plot.ly"
       },
       "data": [
        {
         "type": "funnel",
         "x": [
          7419,
          4593,
          3734,
          3539
         ],
         "y": [
          "MainScreenAppear",
          "OffersScreenAppear",
          "CartScreenAppear",
          "PaymentScreenSuccessful"
         ]
        }
       ],
       "layout": {
        "template": {
         "data": {
          "bar": [
           {
            "error_x": {
             "color": "#2a3f5f"
            },
            "error_y": {
             "color": "#2a3f5f"
            },
            "marker": {
             "line": {
              "color": "#E5ECF6",
              "width": 0.5
             },
             "pattern": {
              "fillmode": "overlay",
              "size": 10,
              "solidity": 0.2
             }
            },
            "type": "bar"
           }
          ],
          "barpolar": [
           {
            "marker": {
             "line": {
              "color": "#E5ECF6",
              "width": 0.5
             },
             "pattern": {
              "fillmode": "overlay",
              "size": 10,
              "solidity": 0.2
             }
            },
            "type": "barpolar"
           }
          ],
          "carpet": [
           {
            "aaxis": {
             "endlinecolor": "#2a3f5f",
             "gridcolor": "white",
             "linecolor": "white",
             "minorgridcolor": "white",
             "startlinecolor": "#2a3f5f"
            },
            "baxis": {
             "endlinecolor": "#2a3f5f",
             "gridcolor": "white",
             "linecolor": "white",
             "minorgridcolor": "white",
             "startlinecolor": "#2a3f5f"
            },
            "type": "carpet"
           }
          ],
          "choropleth": [
           {
            "colorbar": {
             "outlinewidth": 0,
             "ticks": ""
            },
            "type": "choropleth"
           }
          ],
          "contour": [
           {
            "colorbar": {
             "outlinewidth": 0,
             "ticks": ""
            },
            "colorscale": [
             [
              0,
              "#0d0887"
             ],
             [
              0.1111111111111111,
              "#46039f"
             ],
             [
              0.2222222222222222,
              "#7201a8"
             ],
             [
              0.3333333333333333,
              "#9c179e"
             ],
             [
              0.4444444444444444,
              "#bd3786"
             ],
             [
              0.5555555555555556,
              "#d8576b"
             ],
             [
              0.6666666666666666,
              "#ed7953"
             ],
             [
              0.7777777777777778,
              "#fb9f3a"
             ],
             [
              0.8888888888888888,
              "#fdca26"
             ],
             [
              1,
              "#f0f921"
             ]
            ],
            "type": "contour"
           }
          ],
          "contourcarpet": [
           {
            "colorbar": {
             "outlinewidth": 0,
             "ticks": ""
            },
            "type": "contourcarpet"
           }
          ],
          "heatmap": [
           {
            "colorbar": {
             "outlinewidth": 0,
             "ticks": ""
            },
            "colorscale": [
             [
              0,
              "#0d0887"
             ],
             [
              0.1111111111111111,
              "#46039f"
             ],
             [
              0.2222222222222222,
              "#7201a8"
             ],
             [
              0.3333333333333333,
              "#9c179e"
             ],
             [
              0.4444444444444444,
              "#bd3786"
             ],
             [
              0.5555555555555556,
              "#d8576b"
             ],
             [
              0.6666666666666666,
              "#ed7953"
             ],
             [
              0.7777777777777778,
              "#fb9f3a"
             ],
             [
              0.8888888888888888,
              "#fdca26"
             ],
             [
              1,
              "#f0f921"
             ]
            ],
            "type": "heatmap"
           }
          ],
          "heatmapgl": [
           {
            "colorbar": {
             "outlinewidth": 0,
             "ticks": ""
            },
            "colorscale": [
             [
              0,
              "#0d0887"
             ],
             [
              0.1111111111111111,
              "#46039f"
             ],
             [
              0.2222222222222222,
              "#7201a8"
             ],
             [
              0.3333333333333333,
              "#9c179e"
             ],
             [
              0.4444444444444444,
              "#bd3786"
             ],
             [
              0.5555555555555556,
              "#d8576b"
             ],
             [
              0.6666666666666666,
              "#ed7953"
             ],
             [
              0.7777777777777778,
              "#fb9f3a"
             ],
             [
              0.8888888888888888,
              "#fdca26"
             ],
             [
              1,
              "#f0f921"
             ]
            ],
            "type": "heatmapgl"
           }
          ],
          "histogram": [
           {
            "marker": {
             "pattern": {
              "fillmode": "overlay",
              "size": 10,
              "solidity": 0.2
             }
            },
            "type": "histogram"
           }
          ],
          "histogram2d": [
           {
            "colorbar": {
             "outlinewidth": 0,
             "ticks": ""
            },
            "colorscale": [
             [
              0,
              "#0d0887"
             ],
             [
              0.1111111111111111,
              "#46039f"
             ],
             [
              0.2222222222222222,
              "#7201a8"
             ],
             [
              0.3333333333333333,
              "#9c179e"
             ],
             [
              0.4444444444444444,
              "#bd3786"
             ],
             [
              0.5555555555555556,
              "#d8576b"
             ],
             [
              0.6666666666666666,
              "#ed7953"
             ],
             [
              0.7777777777777778,
              "#fb9f3a"
             ],
             [
              0.8888888888888888,
              "#fdca26"
             ],
             [
              1,
              "#f0f921"
             ]
            ],
            "type": "histogram2d"
           }
          ],
          "histogram2dcontour": [
           {
            "colorbar": {
             "outlinewidth": 0,
             "ticks": ""
            },
            "colorscale": [
             [
              0,
              "#0d0887"
             ],
             [
              0.1111111111111111,
              "#46039f"
             ],
             [
              0.2222222222222222,
              "#7201a8"
             ],
             [
              0.3333333333333333,
              "#9c179e"
             ],
             [
              0.4444444444444444,
              "#bd3786"
             ],
             [
              0.5555555555555556,
              "#d8576b"
             ],
             [
              0.6666666666666666,
              "#ed7953"
             ],
             [
              0.7777777777777778,
              "#fb9f3a"
             ],
             [
              0.8888888888888888,
              "#fdca26"
             ],
             [
              1,
              "#f0f921"
             ]
            ],
            "type": "histogram2dcontour"
           }
          ],
          "mesh3d": [
           {
            "colorbar": {
             "outlinewidth": 0,
             "ticks": ""
            },
            "type": "mesh3d"
           }
          ],
          "parcoords": [
           {
            "line": {
             "colorbar": {
              "outlinewidth": 0,
              "ticks": ""
             }
            },
            "type": "parcoords"
           }
          ],
          "pie": [
           {
            "automargin": true,
            "type": "pie"
           }
          ],
          "scatter": [
           {
            "fillpattern": {
             "fillmode": "overlay",
             "size": 10,
             "solidity": 0.2
            },
            "type": "scatter"
           }
          ],
          "scatter3d": [
           {
            "line": {
             "colorbar": {
              "outlinewidth": 0,
              "ticks": ""
             }
            },
            "marker": {
             "colorbar": {
              "outlinewidth": 0,
              "ticks": ""
             }
            },
            "type": "scatter3d"
           }
          ],
          "scattercarpet": [
           {
            "marker": {
             "colorbar": {
              "outlinewidth": 0,
              "ticks": ""
             }
            },
            "type": "scattercarpet"
           }
          ],
          "scattergeo": [
           {
            "marker": {
             "colorbar": {
              "outlinewidth": 0,
              "ticks": ""
             }
            },
            "type": "scattergeo"
           }
          ],
          "scattergl": [
           {
            "marker": {
             "colorbar": {
              "outlinewidth": 0,
              "ticks": ""
             }
            },
            "type": "scattergl"
           }
          ],
          "scattermapbox": [
           {
            "marker": {
             "colorbar": {
              "outlinewidth": 0,
              "ticks": ""
             }
            },
            "type": "scattermapbox"
           }
          ],
          "scatterpolar": [
           {
            "marker": {
             "colorbar": {
              "outlinewidth": 0,
              "ticks": ""
             }
            },
            "type": "scatterpolar"
           }
          ],
          "scatterpolargl": [
           {
            "marker": {
             "colorbar": {
              "outlinewidth": 0,
              "ticks": ""
             }
            },
            "type": "scatterpolargl"
           }
          ],
          "scatterternary": [
           {
            "marker": {
             "colorbar": {
              "outlinewidth": 0,
              "ticks": ""
             }
            },
            "type": "scatterternary"
           }
          ],
          "surface": [
           {
            "colorbar": {
             "outlinewidth": 0,
             "ticks": ""
            },
            "colorscale": [
             [
              0,
              "#0d0887"
             ],
             [
              0.1111111111111111,
              "#46039f"
             ],
             [
              0.2222222222222222,
              "#7201a8"
             ],
             [
              0.3333333333333333,
              "#9c179e"
             ],
             [
              0.4444444444444444,
              "#bd3786"
             ],
             [
              0.5555555555555556,
              "#d8576b"
             ],
             [
              0.6666666666666666,
              "#ed7953"
             ],
             [
              0.7777777777777778,
              "#fb9f3a"
             ],
             [
              0.8888888888888888,
              "#fdca26"
             ],
             [
              1,
              "#f0f921"
             ]
            ],
            "type": "surface"
           }
          ],
          "table": [
           {
            "cells": {
             "fill": {
              "color": "#EBF0F8"
             },
             "line": {
              "color": "white"
             }
            },
            "header": {
             "fill": {
              "color": "#C8D4E3"
             },
             "line": {
              "color": "white"
             }
            },
            "type": "table"
           }
          ]
         },
         "layout": {
          "annotationdefaults": {
           "arrowcolor": "#2a3f5f",
           "arrowhead": 0,
           "arrowwidth": 1
          },
          "autotypenumbers": "strict",
          "coloraxis": {
           "colorbar": {
            "outlinewidth": 0,
            "ticks": ""
           }
          },
          "colorscale": {
           "diverging": [
            [
             0,
             "#8e0152"
            ],
            [
             0.1,
             "#c51b7d"
            ],
            [
             0.2,
             "#de77ae"
            ],
            [
             0.3,
             "#f1b6da"
            ],
            [
             0.4,
             "#fde0ef"
            ],
            [
             0.5,
             "#f7f7f7"
            ],
            [
             0.6,
             "#e6f5d0"
            ],
            [
             0.7,
             "#b8e186"
            ],
            [
             0.8,
             "#7fbc41"
            ],
            [
             0.9,
             "#4d9221"
            ],
            [
             1,
             "#276419"
            ]
           ],
           "sequential": [
            [
             0,
             "#0d0887"
            ],
            [
             0.1111111111111111,
             "#46039f"
            ],
            [
             0.2222222222222222,
             "#7201a8"
            ],
            [
             0.3333333333333333,
             "#9c179e"
            ],
            [
             0.4444444444444444,
             "#bd3786"
            ],
            [
             0.5555555555555556,
             "#d8576b"
            ],
            [
             0.6666666666666666,
             "#ed7953"
            ],
            [
             0.7777777777777778,
             "#fb9f3a"
            ],
            [
             0.8888888888888888,
             "#fdca26"
            ],
            [
             1,
             "#f0f921"
            ]
           ],
           "sequentialminus": [
            [
             0,
             "#0d0887"
            ],
            [
             0.1111111111111111,
             "#46039f"
            ],
            [
             0.2222222222222222,
             "#7201a8"
            ],
            [
             0.3333333333333333,
             "#9c179e"
            ],
            [
             0.4444444444444444,
             "#bd3786"
            ],
            [
             0.5555555555555556,
             "#d8576b"
            ],
            [
             0.6666666666666666,
             "#ed7953"
            ],
            [
             0.7777777777777778,
             "#fb9f3a"
            ],
            [
             0.8888888888888888,
             "#fdca26"
            ],
            [
             1,
             "#f0f921"
            ]
           ]
          },
          "colorway": [
           "#636efa",
           "#EF553B",
           "#00cc96",
           "#ab63fa",
           "#FFA15A",
           "#19d3f3",
           "#FF6692",
           "#B6E880",
           "#FF97FF",
           "#FECB52"
          ],
          "font": {
           "color": "#2a3f5f"
          },
          "geo": {
           "bgcolor": "white",
           "lakecolor": "white",
           "landcolor": "#E5ECF6",
           "showlakes": true,
           "showland": true,
           "subunitcolor": "white"
          },
          "hoverlabel": {
           "align": "left"
          },
          "hovermode": "closest",
          "mapbox": {
           "style": "light"
          },
          "paper_bgcolor": "white",
          "plot_bgcolor": "#E5ECF6",
          "polar": {
           "angularaxis": {
            "gridcolor": "white",
            "linecolor": "white",
            "ticks": ""
           },
           "bgcolor": "#E5ECF6",
           "radialaxis": {
            "gridcolor": "white",
            "linecolor": "white",
            "ticks": ""
           }
          },
          "scene": {
           "xaxis": {
            "backgroundcolor": "#E5ECF6",
            "gridcolor": "white",
            "gridwidth": 2,
            "linecolor": "white",
            "showbackground": true,
            "ticks": "",
            "zerolinecolor": "white"
           },
           "yaxis": {
            "backgroundcolor": "#E5ECF6",
            "gridcolor": "white",
            "gridwidth": 2,
            "linecolor": "white",
            "showbackground": true,
            "ticks": "",
            "zerolinecolor": "white"
           },
           "zaxis": {
            "backgroundcolor": "#E5ECF6",
            "gridcolor": "white",
            "gridwidth": 2,
            "linecolor": "white",
            "showbackground": true,
            "ticks": "",
            "zerolinecolor": "white"
           }
          },
          "shapedefaults": {
           "line": {
            "color": "#2a3f5f"
           }
          },
          "ternary": {
           "aaxis": {
            "gridcolor": "white",
            "linecolor": "white",
            "ticks": ""
           },
           "baxis": {
            "gridcolor": "white",
            "linecolor": "white",
            "ticks": ""
           },
           "bgcolor": "#E5ECF6",
           "caxis": {
            "gridcolor": "white",
            "linecolor": "white",
            "ticks": ""
           }
          },
          "title": {
           "x": 0.05
          },
          "xaxis": {
           "automargin": true,
           "gridcolor": "white",
           "linecolor": "white",
           "ticks": "",
           "title": {
            "standoff": 15
           },
           "zerolinecolor": "white",
           "zerolinewidth": 2
          },
          "yaxis": {
           "automargin": true,
           "gridcolor": "white",
           "linecolor": "white",
           "ticks": "",
           "title": {
            "standoff": 15
           },
           "zerolinecolor": "white",
           "zerolinewidth": 2
          }
         }
        }
       }
      }
     },
     "metadata": {},
     "output_type": "display_data"
    }
   ],
   "source": [
    "from plotly import graph_objects as go\n",
    "\n",
    "fig = go.Figure()\n",
    "fig = go.Figure(go.Funnel(\n",
    "    y = user_event_count_4_4['event_name'],\n",
    "    x = user_event_count_4_4['unique_user_count']))\n",
    "fig.show()"
   ]
  },
  {
   "cell_type": "markdown",
   "metadata": {},
   "source": [
    "---"
   ]
  },
  {
   "cell_type": "markdown",
   "metadata": {},
   "source": [
    "<a id =\"stage_4_5\"></a>\n",
    "\n",
    "### 4.5. На каком шаге теряете больше всего пользователей?\n",
    "\n",
    "[К оглавлению](#title)"
   ]
  },
  {
   "cell_type": "code",
   "execution_count": 33,
   "metadata": {},
   "outputs": [
    {
     "data": {
      "text/html": [
       "<div>\n",
       "<style scoped>\n",
       "    .dataframe tbody tr th:only-of-type {\n",
       "        vertical-align: middle;\n",
       "    }\n",
       "\n",
       "    .dataframe tbody tr th {\n",
       "        vertical-align: top;\n",
       "    }\n",
       "\n",
       "    .dataframe thead th {\n",
       "        text-align: right;\n",
       "    }\n",
       "</style>\n",
       "<table border=\"1\" class=\"dataframe\">\n",
       "  <thead>\n",
       "    <tr style=\"text-align: right;\">\n",
       "      <th></th>\n",
       "      <th>event_name</th>\n",
       "      <th>unique_user_count</th>\n",
       "      <th>потеря_пользователей (кол-во)</th>\n",
       "    </tr>\n",
       "  </thead>\n",
       "  <tbody>\n",
       "    <tr>\n",
       "      <th>1</th>\n",
       "      <td>MainScreenAppear</td>\n",
       "      <td>7419</td>\n",
       "      <td>0</td>\n",
       "    </tr>\n",
       "    <tr>\n",
       "      <th>2</th>\n",
       "      <td>OffersScreenAppear</td>\n",
       "      <td>4593</td>\n",
       "      <td>2826</td>\n",
       "    </tr>\n",
       "    <tr>\n",
       "      <th>0</th>\n",
       "      <td>CartScreenAppear</td>\n",
       "      <td>3734</td>\n",
       "      <td>859</td>\n",
       "    </tr>\n",
       "    <tr>\n",
       "      <th>3</th>\n",
       "      <td>PaymentScreenSuccessful</td>\n",
       "      <td>3539</td>\n",
       "      <td>195</td>\n",
       "    </tr>\n",
       "  </tbody>\n",
       "</table>\n",
       "</div>"
      ],
      "text/plain": [
       "                event_name  unique_user_count  потеря_пользователей (кол-во)\n",
       "1         MainScreenAppear               7419                              0\n",
       "2       OffersScreenAppear               4593                           2826\n",
       "0         CartScreenAppear               3734                            859\n",
       "3  PaymentScreenSuccessful               3539                            195"
      ]
     },
     "execution_count": 33,
     "metadata": {},
     "output_type": "execute_result"
    }
   ],
   "source": [
    "user_event_count_4_5 = user_event_count_4_4[['event_name', 'unique_user_count']]\n",
    "\n",
    "key_start = user_event_count_4_5['unique_user_count'].to_list()[0]\n",
    "\n",
    "delta_spisok = []\n",
    "for key in user_event_count_4_5['unique_user_count'].to_list():\n",
    "    key_to_spisok = key_start - key\n",
    "    delta_spisok.append(key_to_spisok)\n",
    "    key_start = key\n",
    "\n",
    "user_event_count_4_5['потеря_пользователей (кол-во)'] = delta_spisok\n",
    "user_event_count_4_5"
   ]
  },
  {
   "cell_type": "markdown",
   "metadata": {},
   "source": [
    "Большая потеря происходит при переходе MainScreenAppear --> OffersScreenAppear"
   ]
  },
  {
   "cell_type": "markdown",
   "metadata": {},
   "source": [
    "---"
   ]
  },
  {
   "cell_type": "markdown",
   "metadata": {},
   "source": [
    "<a id =\"stage_4_6\"></a>\n",
    "\n",
    "### 4.6. Какая доля пользователей доходит от первого события до оплаты?\n",
    "\n",
    "[К оглавлению](#title)"
   ]
  },
  {
   "cell_type": "code",
   "execution_count": 34,
   "metadata": {},
   "outputs": [
    {
     "data": {
      "text/plain": [
       "47.7"
      ]
     },
     "execution_count": 34,
     "metadata": {},
     "output_type": "execute_result"
    }
   ],
   "source": [
    "user_event_count_4_6 = user_event_count_4_5[['event_name', 'unique_user_count']]\n",
    "\n",
    "dolya = \\\n",
    "((user_event_count_4_6['unique_user_count'].to_list()[-1] / user_event_count_4_6['unique_user_count'].to_list()[0])*100).__round__(1)\n",
    "dolya"
   ]
  },
  {
   "cell_type": "markdown",
   "metadata": {},
   "source": [
    "47.7% пользователей доходит ло оплаты"
   ]
  },
  {
   "cell_type": "markdown",
   "metadata": {},
   "source": [
    "---"
   ]
  },
  {
   "cell_type": "markdown",
   "metadata": {},
   "source": [
    "<a id =\"stage_5\"></a>\n",
    "\n",
    "# Шаг 5. Изучите результаты эксперимента\n",
    "\n",
    "[К оглавлению](#title)"
   ]
  },
  {
   "cell_type": "markdown",
   "metadata": {},
   "source": [
    "---"
   ]
  },
  {
   "cell_type": "markdown",
   "metadata": {},
   "source": [
    "<a id =\"stage_5_1\"></a>\n",
    "\n",
    "### 5.1. Сколько пользователей в каждой экспериментальной группе?\n",
    "\n",
    "[К оглавлению](#title)"
   ]
  },
  {
   "cell_type": "code",
   "execution_count": 35,
   "metadata": {},
   "outputs": [
    {
     "data": {
      "text/html": [
       "<div>\n",
       "<style scoped>\n",
       "    .dataframe tbody tr th:only-of-type {\n",
       "        vertical-align: middle;\n",
       "    }\n",
       "\n",
       "    .dataframe tbody tr th {\n",
       "        vertical-align: top;\n",
       "    }\n",
       "\n",
       "    .dataframe thead th {\n",
       "        text-align: right;\n",
       "    }\n",
       "</style>\n",
       "<table border=\"1\" class=\"dataframe\">\n",
       "  <thead>\n",
       "    <tr style=\"text-align: right;\">\n",
       "      <th></th>\n",
       "      <th>id_user</th>\n",
       "    </tr>\n",
       "    <tr>\n",
       "      <th>id_exp</th>\n",
       "      <th></th>\n",
       "    </tr>\n",
       "  </thead>\n",
       "  <tbody>\n",
       "    <tr>\n",
       "      <th>246</th>\n",
       "      <td>2484</td>\n",
       "    </tr>\n",
       "    <tr>\n",
       "      <th>247</th>\n",
       "      <td>2513</td>\n",
       "    </tr>\n",
       "    <tr>\n",
       "      <th>248</th>\n",
       "      <td>2537</td>\n",
       "    </tr>\n",
       "  </tbody>\n",
       "</table>\n",
       "</div>"
      ],
      "text/plain": [
       "        id_user\n",
       "id_exp         \n",
       "246        2484\n",
       "247        2513\n",
       "248        2537"
      ]
     },
     "execution_count": 35,
     "metadata": {},
     "output_type": "execute_result"
    }
   ],
   "source": [
    "data_clear.groupby('id_exp').agg({'id_user': 'nunique'})"
   ]
  },
  {
   "cell_type": "markdown",
   "metadata": {},
   "source": [
    "---"
   ]
  },
  {
   "cell_type": "markdown",
   "metadata": {},
   "source": [
    "<a id =\"stage_5_2\"></a>\n",
    "\n",
    "### 5.2. Есть 2 контрольные группы для А/А-эксперимента, чтобы проверить корректность всех механизмов и расчётов. Проверьте, находят ли статистические критерии разницу между выборками 246 и 247.\n",
    "\n",
    "[К оглавлению](#title)"
   ]
  },
  {
   "cell_type": "markdown",
   "metadata": {},
   "source": [
    "#### Для успешного A/A теста:\n",
    "\n",
    "- разница в кол-ве образцов (пользователей) не более 0.5 - 1 %\n",
    "- сравниваются одинаковые показатели\n",
    "- разница в метриках не более чем 1 % + нет статистической значимости (этот пункт не относится к вопросу 5.2)\n",
    "- пользователь остается в одной и той же группе исследования в течении всего теста"
   ]
  },
  {
   "cell_type": "code",
   "execution_count": 36,
   "metadata": {},
   "outputs": [],
   "source": [
    "exp_246 = data_clear[(data_clear['id_exp'] == 246) & (data_clear['event_name'] != 'Tutorial')]\n",
    "exp_247 = data_clear[(data_clear['id_exp'] == 247) & (data_clear['event_name'] != 'Tutorial')]\n",
    "exp_248 = data_clear[(data_clear['id_exp'] == 248) & (data_clear['event_name'] != 'Tutorial')]"
   ]
  },
  {
   "cell_type": "markdown",
   "metadata": {},
   "source": [
    "#### 1. ПРОВЕРКА УСЛОВИЯ: разница в кол-ве образцов (пользователей) не более 0.5 - 1 % "
   ]
  },
  {
   "cell_type": "code",
   "execution_count": 37,
   "metadata": {},
   "outputs": [
    {
     "name": "stdout",
     "output_type": "stream",
     "text": [
      "Разность долей выборок в 246 и 247 группах: 0.58% \n"
     ]
    },
    {
     "data": {
      "text/html": [
       "<div>\n",
       "<style scoped>\n",
       "    .dataframe tbody tr th:only-of-type {\n",
       "        vertical-align: middle;\n",
       "    }\n",
       "\n",
       "    .dataframe tbody tr th {\n",
       "        vertical-align: top;\n",
       "    }\n",
       "\n",
       "    .dataframe thead th {\n",
       "        text-align: right;\n",
       "    }\n",
       "</style>\n",
       "<table border=\"1\" class=\"dataframe\">\n",
       "  <thead>\n",
       "    <tr style=\"text-align: right;\">\n",
       "      <th></th>\n",
       "      <th>id_exp</th>\n",
       "      <th>count_unique_users</th>\n",
       "      <th>percent</th>\n",
       "    </tr>\n",
       "  </thead>\n",
       "  <tbody>\n",
       "    <tr>\n",
       "      <th>0</th>\n",
       "      <td>246</td>\n",
       "      <td>2484</td>\n",
       "      <td>49.71</td>\n",
       "    </tr>\n",
       "    <tr>\n",
       "      <th>1</th>\n",
       "      <td>247</td>\n",
       "      <td>2513</td>\n",
       "      <td>50.29</td>\n",
       "    </tr>\n",
       "  </tbody>\n",
       "</table>\n",
       "</div>"
      ],
      "text/plain": [
       "   id_exp  count_unique_users  percent\n",
       "0     246                2484    49.71\n",
       "1     247                2513    50.29"
      ]
     },
     "execution_count": 37,
     "metadata": {},
     "output_type": "execute_result"
    }
   ],
   "source": [
    "data_clear_67 = data_clear[(data_clear['id_exp'] == 246) | (data_clear['id_exp'] == 247)]\n",
    "\n",
    "data_clear_67_count_users = \\\n",
    "data_clear_67.groupby('id_exp').agg({'id_user': 'nunique'}).reset_index()\n",
    "\n",
    "data_clear_67_count_users.columns = ['id_exp', 'count_unique_users']\n",
    "\n",
    "summ = data_clear_67_count_users['count_unique_users'].sum()\n",
    "\n",
    "data_clear_67_count_users['percent'] = data_clear_67_count_users['count_unique_users'].map(lambda x: (x/summ)*100).round(2)\n",
    "\n",
    "delta = abs(data_clear_67_count_users['percent'][0] - data_clear_67_count_users['percent'][1]).__round__(2)\n",
    "\n",
    "print(f'Разность долей выборок в 246 и 247 группах: {delta}% ')\n",
    "data_clear_67_count_users"
   ]
  },
  {
   "cell_type": "markdown",
   "metadata": {},
   "source": [
    "Но это по всем событиям, посморим - равно ли распределены данные по отдельным событиям"
   ]
  },
  {
   "cell_type": "code",
   "execution_count": 38,
   "metadata": {},
   "outputs": [
    {
     "data": {
      "text/html": [
       "<div>\n",
       "<style scoped>\n",
       "    .dataframe tbody tr th:only-of-type {\n",
       "        vertical-align: middle;\n",
       "    }\n",
       "\n",
       "    .dataframe tbody tr th {\n",
       "        vertical-align: top;\n",
       "    }\n",
       "\n",
       "    .dataframe thead th {\n",
       "        text-align: right;\n",
       "    }\n",
       "</style>\n",
       "<table border=\"1\" class=\"dataframe\">\n",
       "  <thead>\n",
       "    <tr style=\"text-align: right;\">\n",
       "      <th></th>\n",
       "      <th>count_unique_users_246</th>\n",
       "      <th>count_unique_users_247</th>\n",
       "      <th>доля_246</th>\n",
       "      <th>доля_247</th>\n",
       "      <th>delta_percent</th>\n",
       "    </tr>\n",
       "    <tr>\n",
       "      <th>event_name</th>\n",
       "      <th></th>\n",
       "      <th></th>\n",
       "      <th></th>\n",
       "      <th></th>\n",
       "      <th></th>\n",
       "    </tr>\n",
       "  </thead>\n",
       "  <tbody>\n",
       "    <tr>\n",
       "      <th>CartScreenAppear</th>\n",
       "      <td>1266</td>\n",
       "      <td>1238</td>\n",
       "      <td>50.56</td>\n",
       "      <td>49.44</td>\n",
       "      <td>1.12</td>\n",
       "    </tr>\n",
       "    <tr>\n",
       "      <th>MainScreenAppear</th>\n",
       "      <td>2450</td>\n",
       "      <td>2476</td>\n",
       "      <td>49.74</td>\n",
       "      <td>50.26</td>\n",
       "      <td>0.53</td>\n",
       "    </tr>\n",
       "    <tr>\n",
       "      <th>OffersScreenAppear</th>\n",
       "      <td>1542</td>\n",
       "      <td>1520</td>\n",
       "      <td>50.36</td>\n",
       "      <td>49.64</td>\n",
       "      <td>0.72</td>\n",
       "    </tr>\n",
       "    <tr>\n",
       "      <th>PaymentScreenSuccessful</th>\n",
       "      <td>1200</td>\n",
       "      <td>1158</td>\n",
       "      <td>50.89</td>\n",
       "      <td>49.11</td>\n",
       "      <td>1.78</td>\n",
       "    </tr>\n",
       "  </tbody>\n",
       "</table>\n",
       "</div>"
      ],
      "text/plain": [
       "                         count_unique_users_246  count_unique_users_247  \\\n",
       "event_name                                                                \n",
       "CartScreenAppear                           1266                    1238   \n",
       "MainScreenAppear                           2450                    2476   \n",
       "OffersScreenAppear                         1542                    1520   \n",
       "PaymentScreenSuccessful                    1200                    1158   \n",
       "\n",
       "                         доля_246  доля_247  delta_percent  \n",
       "event_name                                                  \n",
       "CartScreenAppear            50.56     49.44           1.12  \n",
       "MainScreenAppear            49.74     50.26           0.53  \n",
       "OffersScreenAppear          50.36     49.64           0.72  \n",
       "PaymentScreenSuccessful     50.89     49.11           1.78  "
      ]
     },
     "execution_count": 38,
     "metadata": {},
     "output_type": "execute_result"
    }
   ],
   "source": [
    "concat_future_246 = exp_246.groupby('event_name').agg({'id_user': 'nunique'}).rename({'id_user': 'count_unique_users_246'}, axis=1)\n",
    "concat_future_247 = exp_247.groupby('event_name').agg({'id_user': 'nunique'}).rename({'id_user': 'count_unique_users_247'}, axis=1)\n",
    "\n",
    "event_group_246_247_data = \\\n",
    "pd.concat([concat_future_246, concat_future_247],\n",
    "          axis=1)\n",
    "\n",
    "def percent_row(row):\n",
    "    summ = row['count_unique_users_246'] + row['count_unique_users_247']\n",
    "    return (row['count_unique_users_246'] / summ)*100\n",
    "\n",
    "def percent_row_1(row):\n",
    "    summ = row['count_unique_users_246'] + row['count_unique_users_247']\n",
    "    return (row['count_unique_users_247'] / summ)*100\n",
    "\n",
    "event_group_246_247_data['доля_246'] = event_group_246_247_data.apply(lambda row: percent_row(row), axis=1)\n",
    "event_group_246_247_data['доля_247'] = event_group_246_247_data.apply(lambda row: percent_row_1(row), axis=1)\n",
    "event_group_246_247_data['delta_percent'] = abs(event_group_246_247_data['доля_246'] - event_group_246_247_data['доля_247'])\n",
    "event_group_246_247_data.round(2)"
   ]
  },
  {
   "cell_type": "code",
   "execution_count": 39,
   "metadata": {},
   "outputs": [
    {
     "data": {
      "application/vnd.plotly.v1+json": {
       "config": {
        "plotlyServerURL": "https://plot.ly"
       },
       "data": [
        {
         "name": "группа 246",
         "type": "funnel",
         "x": [
          1266,
          2450,
          1542,
          1200
         ],
         "y": [
          "CartScreenAppear",
          "MainScreenAppear",
          "OffersScreenAppear",
          "PaymentScreenSuccessful"
         ]
        },
        {
         "name": "группа 247",
         "type": "funnel",
         "x": [
          1238,
          2476,
          1520,
          1158
         ],
         "y": [
          "CartScreenAppear",
          "MainScreenAppear",
          "OffersScreenAppear",
          "PaymentScreenSuccessful"
         ]
        }
       ],
       "layout": {
        "template": {
         "data": {
          "bar": [
           {
            "error_x": {
             "color": "#2a3f5f"
            },
            "error_y": {
             "color": "#2a3f5f"
            },
            "marker": {
             "line": {
              "color": "#E5ECF6",
              "width": 0.5
             },
             "pattern": {
              "fillmode": "overlay",
              "size": 10,
              "solidity": 0.2
             }
            },
            "type": "bar"
           }
          ],
          "barpolar": [
           {
            "marker": {
             "line": {
              "color": "#E5ECF6",
              "width": 0.5
             },
             "pattern": {
              "fillmode": "overlay",
              "size": 10,
              "solidity": 0.2
             }
            },
            "type": "barpolar"
           }
          ],
          "carpet": [
           {
            "aaxis": {
             "endlinecolor": "#2a3f5f",
             "gridcolor": "white",
             "linecolor": "white",
             "minorgridcolor": "white",
             "startlinecolor": "#2a3f5f"
            },
            "baxis": {
             "endlinecolor": "#2a3f5f",
             "gridcolor": "white",
             "linecolor": "white",
             "minorgridcolor": "white",
             "startlinecolor": "#2a3f5f"
            },
            "type": "carpet"
           }
          ],
          "choropleth": [
           {
            "colorbar": {
             "outlinewidth": 0,
             "ticks": ""
            },
            "type": "choropleth"
           }
          ],
          "contour": [
           {
            "colorbar": {
             "outlinewidth": 0,
             "ticks": ""
            },
            "colorscale": [
             [
              0,
              "#0d0887"
             ],
             [
              0.1111111111111111,
              "#46039f"
             ],
             [
              0.2222222222222222,
              "#7201a8"
             ],
             [
              0.3333333333333333,
              "#9c179e"
             ],
             [
              0.4444444444444444,
              "#bd3786"
             ],
             [
              0.5555555555555556,
              "#d8576b"
             ],
             [
              0.6666666666666666,
              "#ed7953"
             ],
             [
              0.7777777777777778,
              "#fb9f3a"
             ],
             [
              0.8888888888888888,
              "#fdca26"
             ],
             [
              1,
              "#f0f921"
             ]
            ],
            "type": "contour"
           }
          ],
          "contourcarpet": [
           {
            "colorbar": {
             "outlinewidth": 0,
             "ticks": ""
            },
            "type": "contourcarpet"
           }
          ],
          "heatmap": [
           {
            "colorbar": {
             "outlinewidth": 0,
             "ticks": ""
            },
            "colorscale": [
             [
              0,
              "#0d0887"
             ],
             [
              0.1111111111111111,
              "#46039f"
             ],
             [
              0.2222222222222222,
              "#7201a8"
             ],
             [
              0.3333333333333333,
              "#9c179e"
             ],
             [
              0.4444444444444444,
              "#bd3786"
             ],
             [
              0.5555555555555556,
              "#d8576b"
             ],
             [
              0.6666666666666666,
              "#ed7953"
             ],
             [
              0.7777777777777778,
              "#fb9f3a"
             ],
             [
              0.8888888888888888,
              "#fdca26"
             ],
             [
              1,
              "#f0f921"
             ]
            ],
            "type": "heatmap"
           }
          ],
          "heatmapgl": [
           {
            "colorbar": {
             "outlinewidth": 0,
             "ticks": ""
            },
            "colorscale": [
             [
              0,
              "#0d0887"
             ],
             [
              0.1111111111111111,
              "#46039f"
             ],
             [
              0.2222222222222222,
              "#7201a8"
             ],
             [
              0.3333333333333333,
              "#9c179e"
             ],
             [
              0.4444444444444444,
              "#bd3786"
             ],
             [
              0.5555555555555556,
              "#d8576b"
             ],
             [
              0.6666666666666666,
              "#ed7953"
             ],
             [
              0.7777777777777778,
              "#fb9f3a"
             ],
             [
              0.8888888888888888,
              "#fdca26"
             ],
             [
              1,
              "#f0f921"
             ]
            ],
            "type": "heatmapgl"
           }
          ],
          "histogram": [
           {
            "marker": {
             "pattern": {
              "fillmode": "overlay",
              "size": 10,
              "solidity": 0.2
             }
            },
            "type": "histogram"
           }
          ],
          "histogram2d": [
           {
            "colorbar": {
             "outlinewidth": 0,
             "ticks": ""
            },
            "colorscale": [
             [
              0,
              "#0d0887"
             ],
             [
              0.1111111111111111,
              "#46039f"
             ],
             [
              0.2222222222222222,
              "#7201a8"
             ],
             [
              0.3333333333333333,
              "#9c179e"
             ],
             [
              0.4444444444444444,
              "#bd3786"
             ],
             [
              0.5555555555555556,
              "#d8576b"
             ],
             [
              0.6666666666666666,
              "#ed7953"
             ],
             [
              0.7777777777777778,
              "#fb9f3a"
             ],
             [
              0.8888888888888888,
              "#fdca26"
             ],
             [
              1,
              "#f0f921"
             ]
            ],
            "type": "histogram2d"
           }
          ],
          "histogram2dcontour": [
           {
            "colorbar": {
             "outlinewidth": 0,
             "ticks": ""
            },
            "colorscale": [
             [
              0,
              "#0d0887"
             ],
             [
              0.1111111111111111,
              "#46039f"
             ],
             [
              0.2222222222222222,
              "#7201a8"
             ],
             [
              0.3333333333333333,
              "#9c179e"
             ],
             [
              0.4444444444444444,
              "#bd3786"
             ],
             [
              0.5555555555555556,
              "#d8576b"
             ],
             [
              0.6666666666666666,
              "#ed7953"
             ],
             [
              0.7777777777777778,
              "#fb9f3a"
             ],
             [
              0.8888888888888888,
              "#fdca26"
             ],
             [
              1,
              "#f0f921"
             ]
            ],
            "type": "histogram2dcontour"
           }
          ],
          "mesh3d": [
           {
            "colorbar": {
             "outlinewidth": 0,
             "ticks": ""
            },
            "type": "mesh3d"
           }
          ],
          "parcoords": [
           {
            "line": {
             "colorbar": {
              "outlinewidth": 0,
              "ticks": ""
             }
            },
            "type": "parcoords"
           }
          ],
          "pie": [
           {
            "automargin": true,
            "type": "pie"
           }
          ],
          "scatter": [
           {
            "fillpattern": {
             "fillmode": "overlay",
             "size": 10,
             "solidity": 0.2
            },
            "type": "scatter"
           }
          ],
          "scatter3d": [
           {
            "line": {
             "colorbar": {
              "outlinewidth": 0,
              "ticks": ""
             }
            },
            "marker": {
             "colorbar": {
              "outlinewidth": 0,
              "ticks": ""
             }
            },
            "type": "scatter3d"
           }
          ],
          "scattercarpet": [
           {
            "marker": {
             "colorbar": {
              "outlinewidth": 0,
              "ticks": ""
             }
            },
            "type": "scattercarpet"
           }
          ],
          "scattergeo": [
           {
            "marker": {
             "colorbar": {
              "outlinewidth": 0,
              "ticks": ""
             }
            },
            "type": "scattergeo"
           }
          ],
          "scattergl": [
           {
            "marker": {
             "colorbar": {
              "outlinewidth": 0,
              "ticks": ""
             }
            },
            "type": "scattergl"
           }
          ],
          "scattermapbox": [
           {
            "marker": {
             "colorbar": {
              "outlinewidth": 0,
              "ticks": ""
             }
            },
            "type": "scattermapbox"
           }
          ],
          "scatterpolar": [
           {
            "marker": {
             "colorbar": {
              "outlinewidth": 0,
              "ticks": ""
             }
            },
            "type": "scatterpolar"
           }
          ],
          "scatterpolargl": [
           {
            "marker": {
             "colorbar": {
              "outlinewidth": 0,
              "ticks": ""
             }
            },
            "type": "scatterpolargl"
           }
          ],
          "scatterternary": [
           {
            "marker": {
             "colorbar": {
              "outlinewidth": 0,
              "ticks": ""
             }
            },
            "type": "scatterternary"
           }
          ],
          "surface": [
           {
            "colorbar": {
             "outlinewidth": 0,
             "ticks": ""
            },
            "colorscale": [
             [
              0,
              "#0d0887"
             ],
             [
              0.1111111111111111,
              "#46039f"
             ],
             [
              0.2222222222222222,
              "#7201a8"
             ],
             [
              0.3333333333333333,
              "#9c179e"
             ],
             [
              0.4444444444444444,
              "#bd3786"
             ],
             [
              0.5555555555555556,
              "#d8576b"
             ],
             [
              0.6666666666666666,
              "#ed7953"
             ],
             [
              0.7777777777777778,
              "#fb9f3a"
             ],
             [
              0.8888888888888888,
              "#fdca26"
             ],
             [
              1,
              "#f0f921"
             ]
            ],
            "type": "surface"
           }
          ],
          "table": [
           {
            "cells": {
             "fill": {
              "color": "#EBF0F8"
             },
             "line": {
              "color": "white"
             }
            },
            "header": {
             "fill": {
              "color": "#C8D4E3"
             },
             "line": {
              "color": "white"
             }
            },
            "type": "table"
           }
          ]
         },
         "layout": {
          "annotationdefaults": {
           "arrowcolor": "#2a3f5f",
           "arrowhead": 0,
           "arrowwidth": 1
          },
          "autotypenumbers": "strict",
          "coloraxis": {
           "colorbar": {
            "outlinewidth": 0,
            "ticks": ""
           }
          },
          "colorscale": {
           "diverging": [
            [
             0,
             "#8e0152"
            ],
            [
             0.1,
             "#c51b7d"
            ],
            [
             0.2,
             "#de77ae"
            ],
            [
             0.3,
             "#f1b6da"
            ],
            [
             0.4,
             "#fde0ef"
            ],
            [
             0.5,
             "#f7f7f7"
            ],
            [
             0.6,
             "#e6f5d0"
            ],
            [
             0.7,
             "#b8e186"
            ],
            [
             0.8,
             "#7fbc41"
            ],
            [
             0.9,
             "#4d9221"
            ],
            [
             1,
             "#276419"
            ]
           ],
           "sequential": [
            [
             0,
             "#0d0887"
            ],
            [
             0.1111111111111111,
             "#46039f"
            ],
            [
             0.2222222222222222,
             "#7201a8"
            ],
            [
             0.3333333333333333,
             "#9c179e"
            ],
            [
             0.4444444444444444,
             "#bd3786"
            ],
            [
             0.5555555555555556,
             "#d8576b"
            ],
            [
             0.6666666666666666,
             "#ed7953"
            ],
            [
             0.7777777777777778,
             "#fb9f3a"
            ],
            [
             0.8888888888888888,
             "#fdca26"
            ],
            [
             1,
             "#f0f921"
            ]
           ],
           "sequentialminus": [
            [
             0,
             "#0d0887"
            ],
            [
             0.1111111111111111,
             "#46039f"
            ],
            [
             0.2222222222222222,
             "#7201a8"
            ],
            [
             0.3333333333333333,
             "#9c179e"
            ],
            [
             0.4444444444444444,
             "#bd3786"
            ],
            [
             0.5555555555555556,
             "#d8576b"
            ],
            [
             0.6666666666666666,
             "#ed7953"
            ],
            [
             0.7777777777777778,
             "#fb9f3a"
            ],
            [
             0.8888888888888888,
             "#fdca26"
            ],
            [
             1,
             "#f0f921"
            ]
           ]
          },
          "colorway": [
           "#636efa",
           "#EF553B",
           "#00cc96",
           "#ab63fa",
           "#FFA15A",
           "#19d3f3",
           "#FF6692",
           "#B6E880",
           "#FF97FF",
           "#FECB52"
          ],
          "font": {
           "color": "#2a3f5f"
          },
          "geo": {
           "bgcolor": "white",
           "lakecolor": "white",
           "landcolor": "#E5ECF6",
           "showlakes": true,
           "showland": true,
           "subunitcolor": "white"
          },
          "hoverlabel": {
           "align": "left"
          },
          "hovermode": "closest",
          "mapbox": {
           "style": "light"
          },
          "paper_bgcolor": "white",
          "plot_bgcolor": "#E5ECF6",
          "polar": {
           "angularaxis": {
            "gridcolor": "white",
            "linecolor": "white",
            "ticks": ""
           },
           "bgcolor": "#E5ECF6",
           "radialaxis": {
            "gridcolor": "white",
            "linecolor": "white",
            "ticks": ""
           }
          },
          "scene": {
           "xaxis": {
            "backgroundcolor": "#E5ECF6",
            "gridcolor": "white",
            "gridwidth": 2,
            "linecolor": "white",
            "showbackground": true,
            "ticks": "",
            "zerolinecolor": "white"
           },
           "yaxis": {
            "backgroundcolor": "#E5ECF6",
            "gridcolor": "white",
            "gridwidth": 2,
            "linecolor": "white",
            "showbackground": true,
            "ticks": "",
            "zerolinecolor": "white"
           },
           "zaxis": {
            "backgroundcolor": "#E5ECF6",
            "gridcolor": "white",
            "gridwidth": 2,
            "linecolor": "white",
            "showbackground": true,
            "ticks": "",
            "zerolinecolor": "white"
           }
          },
          "shapedefaults": {
           "line": {
            "color": "#2a3f5f"
           }
          },
          "ternary": {
           "aaxis": {
            "gridcolor": "white",
            "linecolor": "white",
            "ticks": ""
           },
           "baxis": {
            "gridcolor": "white",
            "linecolor": "white",
            "ticks": ""
           },
           "bgcolor": "#E5ECF6",
           "caxis": {
            "gridcolor": "white",
            "linecolor": "white",
            "ticks": ""
           }
          },
          "title": {
           "x": 0.05
          },
          "xaxis": {
           "automargin": true,
           "gridcolor": "white",
           "linecolor": "white",
           "ticks": "",
           "title": {
            "standoff": 15
           },
           "zerolinecolor": "white",
           "zerolinewidth": 2
          },
          "yaxis": {
           "automargin": true,
           "gridcolor": "white",
           "linecolor": "white",
           "ticks": "",
           "title": {
            "standoff": 15
           },
           "zerolinecolor": "white",
           "zerolinewidth": 2
          }
         }
        }
       }
      }
     },
     "metadata": {},
     "output_type": "display_data"
    }
   ],
   "source": [
    "fig = go.Figure()\n",
    "\n",
    "fig.add_trace(go.Funnel(\n",
    "    name = 'группа 246',\n",
    "    y = event_group_246_247_data.index,\n",
    "    x = event_group_246_247_data['count_unique_users_246'],\n",
    "    ))\n",
    "\n",
    "fig.add_trace(go.Funnel(\n",
    "    name = 'группа 247',\n",
    "    y = event_group_246_247_data.index,\n",
    "    x = event_group_246_247_data['count_unique_users_247'],\n",
    "    ))\n",
    "\n",
    "\n",
    "fig.show()\n"
   ]
  },
  {
   "cell_type": "markdown",
   "metadata": {},
   "source": [
    "#### ПРОВЕРКА УСЛОВИЯ: пользователь остается в одной и той же группе исследования в течении всего теста"
   ]
  },
  {
   "cell_type": "code",
   "execution_count": 40,
   "metadata": {},
   "outputs": [
    {
     "data": {
      "text/html": [
       "<div>\n",
       "<style scoped>\n",
       "    .dataframe tbody tr th:only-of-type {\n",
       "        vertical-align: middle;\n",
       "    }\n",
       "\n",
       "    .dataframe tbody tr th {\n",
       "        vertical-align: top;\n",
       "    }\n",
       "\n",
       "    .dataframe thead th {\n",
       "        text-align: right;\n",
       "    }\n",
       "</style>\n",
       "<table border=\"1\" class=\"dataframe\">\n",
       "  <thead>\n",
       "    <tr style=\"text-align: right;\">\n",
       "      <th></th>\n",
       "      <th>в скольких группах ?</th>\n",
       "    </tr>\n",
       "    <tr>\n",
       "      <th>id_user</th>\n",
       "      <th></th>\n",
       "    </tr>\n",
       "  </thead>\n",
       "  <tbody>\n",
       "  </tbody>\n",
       "</table>\n",
       "</div>"
      ],
      "text/plain": [
       "Empty DataFrame\n",
       "Columns: [в скольких группах ?]\n",
       "Index: []"
      ]
     },
     "execution_count": 40,
     "metadata": {},
     "output_type": "execute_result"
    }
   ],
   "source": [
    "data_proverka = \\\n",
    "data_clear.groupby('id_user').agg({'id_exp': 'nunique'}).rename({'id_exp': 'в скольких группах ?'}, axis=1)\n",
    "\n",
    "data_proverka[data_proverka['в скольких группах ?'] != 1]"
   ]
  },
  {
   "cell_type": "markdown",
   "metadata": {},
   "source": [
    "нет пользователей в нескольких группах\n",
    "\n",
    "Критерии немного выходят за рамки 1% различия, в целом, не критично"
   ]
  },
  {
   "cell_type": "markdown",
   "metadata": {},
   "source": [
    "---"
   ]
  },
  {
   "cell_type": "markdown",
   "metadata": {},
   "source": [
    "<a id =\"stage_5_3\"></a>\n",
    "\n",
    "### 5.3. Выберите самое популярное событие. Посчитайте число пользователей, совершивших это событие в каждой из контрольных групп. Посчитайте долю пользователей, совершивших это событие. Проверьте, будет ли отличие между группами статистически достоверным. Проделайте то же самое для всех других событий (удобно обернуть проверку в отдельную функцию). Можно ли сказать, что разбиение на группы работает корректно?\n",
    "\n",
    "[К оглавлению](#title)"
   ]
  },
  {
   "cell_type": "markdown",
   "metadata": {},
   "source": [
    "#### 5.3.1. Выберите самое популярное событие."
   ]
  },
  {
   "cell_type": "code",
   "execution_count": 41,
   "metadata": {},
   "outputs": [
    {
     "name": "stdout",
     "output_type": "stream",
     "text": [
      "Самое популярное событие: MainScreenAppear\n"
     ]
    },
    {
     "data": {
      "text/html": [
       "<div>\n",
       "<style scoped>\n",
       "    .dataframe tbody tr th:only-of-type {\n",
       "        vertical-align: middle;\n",
       "    }\n",
       "\n",
       "    .dataframe tbody tr th {\n",
       "        vertical-align: top;\n",
       "    }\n",
       "\n",
       "    .dataframe thead th {\n",
       "        text-align: right;\n",
       "    }\n",
       "</style>\n",
       "<table border=\"1\" class=\"dataframe\">\n",
       "  <thead>\n",
       "    <tr style=\"text-align: right;\">\n",
       "      <th></th>\n",
       "      <th>event_name</th>\n",
       "      <th>id_user</th>\n",
       "      <th>time_unix</th>\n",
       "      <th>id_exp</th>\n",
       "      <th>time</th>\n",
       "      <th>date</th>\n",
       "    </tr>\n",
       "  </thead>\n",
       "  <tbody>\n",
       "    <tr>\n",
       "      <th>2827</th>\n",
       "      <td>MainScreenAppear</td>\n",
       "      <td>3737462046622621720</td>\n",
       "      <td>1564618080</td>\n",
       "      <td>246</td>\n",
       "      <td>2019-08-01 00:08:00</td>\n",
       "      <td>2019-08-01</td>\n",
       "    </tr>\n",
       "    <tr>\n",
       "      <th>2828</th>\n",
       "      <td>MainScreenAppear</td>\n",
       "      <td>3737462046622621720</td>\n",
       "      <td>1564618135</td>\n",
       "      <td>246</td>\n",
       "      <td>2019-08-01 00:08:55</td>\n",
       "      <td>2019-08-01</td>\n",
       "    </tr>\n",
       "    <tr>\n",
       "      <th>2830</th>\n",
       "      <td>MainScreenAppear</td>\n",
       "      <td>1433840883824088890</td>\n",
       "      <td>1564618139</td>\n",
       "      <td>247</td>\n",
       "      <td>2019-08-01 00:08:59</td>\n",
       "      <td>2019-08-01</td>\n",
       "    </tr>\n",
       "    <tr>\n",
       "      <th>2831</th>\n",
       "      <td>MainScreenAppear</td>\n",
       "      <td>4899590676214355127</td>\n",
       "      <td>1564618215</td>\n",
       "      <td>247</td>\n",
       "      <td>2019-08-01 00:10:15</td>\n",
       "      <td>2019-08-01</td>\n",
       "    </tr>\n",
       "    <tr>\n",
       "      <th>2833</th>\n",
       "      <td>MainScreenAppear</td>\n",
       "      <td>3737462046622621720</td>\n",
       "      <td>1564618247</td>\n",
       "      <td>246</td>\n",
       "      <td>2019-08-01 00:10:47</td>\n",
       "      <td>2019-08-01</td>\n",
       "    </tr>\n",
       "  </tbody>\n",
       "</table>\n",
       "</div>"
      ],
      "text/plain": [
       "            event_name              id_user   time_unix  id_exp  \\\n",
       "2827  MainScreenAppear  3737462046622621720  1564618080     246   \n",
       "2828  MainScreenAppear  3737462046622621720  1564618135     246   \n",
       "2830  MainScreenAppear  1433840883824088890  1564618139     247   \n",
       "2831  MainScreenAppear  4899590676214355127  1564618215     247   \n",
       "2833  MainScreenAppear  3737462046622621720  1564618247     246   \n",
       "\n",
       "                    time       date  \n",
       "2827 2019-08-01 00:08:00 2019-08-01  \n",
       "2828 2019-08-01 00:08:55 2019-08-01  \n",
       "2830 2019-08-01 00:08:59 2019-08-01  \n",
       "2831 2019-08-01 00:10:15 2019-08-01  \n",
       "2833 2019-08-01 00:10:47 2019-08-01  "
      ]
     },
     "execution_count": 41,
     "metadata": {},
     "output_type": "execute_result"
    }
   ],
   "source": [
    "most_popular_event = data_clear['event_name'].value_counts().index[0]\n",
    "print(f'Самое популярное событие: {most_popular_event}')\n",
    "\n",
    "data_clear_most_popular_event = data_clear[data_clear['event_name'] == most_popular_event]\n",
    "data_clear_most_popular_event.head()"
   ]
  },
  {
   "cell_type": "markdown",
   "metadata": {},
   "source": [
    "#### 5.3.2. Посчитайте число пользователей, совершивших это событие в каждой из контрольных групп."
   ]
  },
  {
   "cell_type": "code",
   "execution_count": 42,
   "metadata": {},
   "outputs": [
    {
     "data": {
      "text/html": [
       "<div>\n",
       "<style scoped>\n",
       "    .dataframe tbody tr th:only-of-type {\n",
       "        vertical-align: middle;\n",
       "    }\n",
       "\n",
       "    .dataframe tbody tr th {\n",
       "        vertical-align: top;\n",
       "    }\n",
       "\n",
       "    .dataframe thead th {\n",
       "        text-align: right;\n",
       "    }\n",
       "</style>\n",
       "<table border=\"1\" class=\"dataframe\">\n",
       "  <thead>\n",
       "    <tr style=\"text-align: right;\">\n",
       "      <th></th>\n",
       "      <th>Кол-во пользователей по событию MainScreenAppear</th>\n",
       "    </tr>\n",
       "    <tr>\n",
       "      <th>id_exp</th>\n",
       "      <th></th>\n",
       "    </tr>\n",
       "  </thead>\n",
       "  <tbody>\n",
       "    <tr>\n",
       "      <th>246</th>\n",
       "      <td>2450</td>\n",
       "    </tr>\n",
       "    <tr>\n",
       "      <th>247</th>\n",
       "      <td>2476</td>\n",
       "    </tr>\n",
       "    <tr>\n",
       "      <th>248</th>\n",
       "      <td>2493</td>\n",
       "    </tr>\n",
       "  </tbody>\n",
       "</table>\n",
       "</div>"
      ],
      "text/plain": [
       "        Кол-во пользователей по событию MainScreenAppear\n",
       "id_exp                                                  \n",
       "246                                                 2450\n",
       "247                                                 2476\n",
       "248                                                 2493"
      ]
     },
     "execution_count": 42,
     "metadata": {},
     "output_type": "execute_result"
    }
   ],
   "source": [
    "count_most_popular_event = \\\n",
    "data_clear_most_popular_event.groupby('id_exp').agg({'id_user': 'nunique'}).rename({'id_user': f'Кол-во пользователей по событию {most_popular_event}'}, axis = 1)\n",
    "\n",
    "count_most_popular_event"
   ]
  },
  {
   "cell_type": "markdown",
   "metadata": {},
   "source": [
    "#### 5.3.3. Посчитайте долю пользователей, совершивших это событие."
   ]
  },
  {
   "cell_type": "code",
   "execution_count": 43,
   "metadata": {},
   "outputs": [
    {
     "data": {
      "text/html": [
       "<div>\n",
       "<style scoped>\n",
       "    .dataframe tbody tr th:only-of-type {\n",
       "        vertical-align: middle;\n",
       "    }\n",
       "\n",
       "    .dataframe tbody tr th {\n",
       "        vertical-align: top;\n",
       "    }\n",
       "\n",
       "    .dataframe thead th {\n",
       "        text-align: right;\n",
       "    }\n",
       "</style>\n",
       "<table border=\"1\" class=\"dataframe\">\n",
       "  <thead>\n",
       "    <tr style=\"text-align: right;\">\n",
       "      <th></th>\n",
       "      <th>Кол-во пользователей по событию MainScreenAppear</th>\n",
       "      <th>total_user</th>\n",
       "      <th>доля от всех пользователей (%)</th>\n",
       "    </tr>\n",
       "    <tr>\n",
       "      <th>id_exp</th>\n",
       "      <th></th>\n",
       "      <th></th>\n",
       "      <th></th>\n",
       "    </tr>\n",
       "  </thead>\n",
       "  <tbody>\n",
       "    <tr>\n",
       "      <th>246</th>\n",
       "      <td>2450</td>\n",
       "      <td>2484</td>\n",
       "      <td>98.63</td>\n",
       "    </tr>\n",
       "    <tr>\n",
       "      <th>247</th>\n",
       "      <td>2476</td>\n",
       "      <td>2513</td>\n",
       "      <td>98.53</td>\n",
       "    </tr>\n",
       "    <tr>\n",
       "      <th>248</th>\n",
       "      <td>2493</td>\n",
       "      <td>2537</td>\n",
       "      <td>98.27</td>\n",
       "    </tr>\n",
       "  </tbody>\n",
       "</table>\n",
       "</div>"
      ],
      "text/plain": [
       "        Кол-во пользователей по событию MainScreenAppear  total_user  \\\n",
       "id_exp                                                                 \n",
       "246                                                 2450        2484   \n",
       "247                                                 2476        2513   \n",
       "248                                                 2493        2537   \n",
       "\n",
       "        доля от всех пользователей (%)  \n",
       "id_exp                                  \n",
       "246                              98.63  \n",
       "247                              98.53  \n",
       "248                              98.27  "
      ]
     },
     "execution_count": 43,
     "metadata": {},
     "output_type": "execute_result"
    }
   ],
   "source": [
    "count = data_clear.groupby('id_exp').agg({'id_user': 'nunique'})\n",
    "count_most_popular_event['total_user'] = count['id_user']\n",
    "\n",
    "count_most_popular_event['доля от всех пользователей (%)'] = (count_most_popular_event['Кол-во пользователей по событию MainScreenAppear'] / count_most_popular_event['total_user'])*100\n",
    "count_most_popular_event.round(2)"
   ]
  },
  {
   "cell_type": "markdown",
   "metadata": {},
   "source": [
    "#### 5.3.4 Проверьте, будет ли отличие между группами статистически достоверным."
   ]
  },
  {
   "cell_type": "markdown",
   "metadata": {},
   "source": [
    "Используем Z-критерий для двух долей т.к.:\n",
    "\n",
    "- Данные носят количественный характер\n",
    "- Данные подчиняются закону нормального распределния (выборка большая)\n",
    "- Необходимо сравнить две выборки\n",
    "\n",
    "\n",
    "Сформулируем гипотезы:\n",
    "\n",
    "- H0: НЕТ отличия между группами 246 и 247 \n",
    "- H1: ЕСТЬ отличие между группами 246 и 247"
   ]
  },
  {
   "cell_type": "code",
   "execution_count": 44,
   "metadata": {},
   "outputs": [
    {
     "name": "stdout",
     "output_type": "stream",
     "text": [
      "Используем Z-критерий для двух долей\n",
      "\n",
      "\n",
      "Данные статистического теста:\n",
      "Статистика: 0.31\n",
      "p-значение: 0.76\n",
      "Уровень значимости (граничный): 0.05\n",
      "\n",
      "\n",
      "Итог теста:\n",
      "Не получилось отвергнуть нулевую гипотезу\n",
      "НЕТ отличия между группами 246 и 247\n"
     ]
    },
    {
     "data": {
      "text/plain": [
       "z_value                                0.309344\n",
       "p_value                                 0.75706\n",
       "alpha                                      0.05\n",
       "Итог       НЕТ отличия между группами 246 и 247\n",
       "dtype: object"
      ]
     },
     "execution_count": 44,
     "metadata": {},
     "output_type": "execute_result"
    }
   ],
   "source": [
    "H0 = 'НЕТ отличия между группами 246 и 247'\n",
    "H1 = 'ЕСТЬ отличие между группами 246 и 247'\n",
    "\n",
    "def z_test(kol_vo_1, # числитель первой доли\n",
    "           kol_vo_2, # числитель второй доли\n",
    "           all__kol_vo_1,   # знаменатель первой доли\n",
    "           all__kol_vo_2,   # знаменатель второй доли\n",
    "           alpha):  # уровень значимости\n",
    "    \n",
    "    '''\n",
    "    Формулировка гипотез должна быть следующая: \n",
    "\n",
    "    H0: две доли РАВНЫ\n",
    "    H1: две доли НЕ РАВНЫ ( Или величина одной выборки больше/меньше величины другой )\n",
    "    '''\n",
    "    \n",
    "\n",
    "    dolya_1 = kol_vo_1 / all__kol_vo_1\n",
    "    dolya_2 = kol_vo_2 / all__kol_vo_2\n",
    "    diff = dolya_1 - dolya_2\n",
    "    dolya_combo = (kol_vo_1 + kol_vo_2) / (all__kol_vo_1 + all__kol_vo_2)\n",
    "\n",
    "    z_value = diff / np.sqrt((dolya_combo*(1-dolya_combo))*((1/all__kol_vo_1) + (1/all__kol_vo_2)))\n",
    "    distr = st.norm(0, 1)\n",
    "    p_value = (1 - distr.cdf(abs(z_value))) * 2\n",
    "\n",
    "    print('Используем Z-критерий для двух долей')\n",
    "    print('\\n')\n",
    "    print('Данные статистического теста:')\n",
    "    print(f'Статистика: {z_value.round(2)}')\n",
    "    print(f'p-значение: {p_value.round(2)}')\n",
    "    print(f'Уровень значимости (граничный): {alpha}')\n",
    "    print('\\n')\n",
    "    print('Итог теста:')\n",
    "    if p_value < alpha:\n",
    "        print(f'На уровне значимости {alpha} - отвергаем нулевую гипотезу')\n",
    "        print(H1)\n",
    "        itog = H1\n",
    "    else:\n",
    "        print('Не получилось отвергнуть нулевую гипотезу')\n",
    "        print(H0)\n",
    "        itog = H0\n",
    "    \n",
    "    slovar = {'z_value': z_value,\n",
    "              'p_value': p_value,\n",
    "              'alpha': alpha,\n",
    "              'Итог': itog}\n",
    "    data_z_test = pd.Series(slovar)\n",
    "    return data_z_test\n",
    "    \n",
    "\n",
    "\n",
    "z_test(kol_vo_1 = count_most_popular_event.iloc[0,0],\n",
    "       kol_vo_2 = count_most_popular_event.iloc[1,0],\n",
    "       all__kol_vo_1 = count_most_popular_event.iloc[0,1],\n",
    "       all__kol_vo_2 = count_most_popular_event.iloc[1,1],\n",
    "       alpha = 0.05)"
   ]
  },
  {
   "cell_type": "markdown",
   "metadata": {},
   "source": [
    "Вывод: \n",
    "\n",
    "Отличие между 246 и 247 отсутствует (на уровне значимости 0.05)"
   ]
  },
  {
   "cell_type": "markdown",
   "metadata": {},
   "source": [
    "#### 5.3.5. Проделайте то же самое для всех других событий."
   ]
  },
  {
   "cell_type": "code",
   "execution_count": 45,
   "metadata": {},
   "outputs": [
    {
     "data": {
      "text/html": [
       "<div>\n",
       "<style scoped>\n",
       "    .dataframe tbody tr th:only-of-type {\n",
       "        vertical-align: middle;\n",
       "    }\n",
       "\n",
       "    .dataframe tbody tr th {\n",
       "        vertical-align: top;\n",
       "    }\n",
       "\n",
       "    .dataframe thead th {\n",
       "        text-align: right;\n",
       "    }\n",
       "</style>\n",
       "<table border=\"1\" class=\"dataframe\">\n",
       "  <thead>\n",
       "    <tr style=\"text-align: right;\">\n",
       "      <th></th>\n",
       "      <th>event_name</th>\n",
       "      <th>id_exp</th>\n",
       "      <th>count_unique_users</th>\n",
       "    </tr>\n",
       "  </thead>\n",
       "  <tbody>\n",
       "    <tr>\n",
       "      <th>0</th>\n",
       "      <td>MainScreenAppear</td>\n",
       "      <td>247</td>\n",
       "      <td>2476</td>\n",
       "    </tr>\n",
       "    <tr>\n",
       "      <th>1</th>\n",
       "      <td>MainScreenAppear</td>\n",
       "      <td>246</td>\n",
       "      <td>2450</td>\n",
       "    </tr>\n",
       "    <tr>\n",
       "      <th>2</th>\n",
       "      <td>OffersScreenAppear</td>\n",
       "      <td>246</td>\n",
       "      <td>1542</td>\n",
       "    </tr>\n",
       "    <tr>\n",
       "      <th>3</th>\n",
       "      <td>OffersScreenAppear</td>\n",
       "      <td>247</td>\n",
       "      <td>1520</td>\n",
       "    </tr>\n",
       "    <tr>\n",
       "      <th>4</th>\n",
       "      <td>CartScreenAppear</td>\n",
       "      <td>246</td>\n",
       "      <td>1266</td>\n",
       "    </tr>\n",
       "    <tr>\n",
       "      <th>5</th>\n",
       "      <td>CartScreenAppear</td>\n",
       "      <td>247</td>\n",
       "      <td>1238</td>\n",
       "    </tr>\n",
       "    <tr>\n",
       "      <th>6</th>\n",
       "      <td>PaymentScreenSuccessful</td>\n",
       "      <td>246</td>\n",
       "      <td>1200</td>\n",
       "    </tr>\n",
       "    <tr>\n",
       "      <th>7</th>\n",
       "      <td>PaymentScreenSuccessful</td>\n",
       "      <td>247</td>\n",
       "      <td>1158</td>\n",
       "    </tr>\n",
       "  </tbody>\n",
       "</table>\n",
       "</div>"
      ],
      "text/plain": [
       "                event_name  id_exp  count_unique_users\n",
       "0         MainScreenAppear     247                2476\n",
       "1         MainScreenAppear     246                2450\n",
       "2       OffersScreenAppear     246                1542\n",
       "3       OffersScreenAppear     247                1520\n",
       "4         CartScreenAppear     246                1266\n",
       "5         CartScreenAppear     247                1238\n",
       "6  PaymentScreenSuccessful     246                1200\n",
       "7  PaymentScreenSuccessful     247                1158"
      ]
     },
     "execution_count": 45,
     "metadata": {},
     "output_type": "execute_result"
    }
   ],
   "source": [
    "# Выделяем данные без туториала и без 248 группы\n",
    "data_clear_stats = data_clear[(data_clear['event_name'] != 'Tutorial') & (data_clear['id_exp'] != 248)]\n",
    "# группировка\n",
    "data_clear_stats_exp_event = \\\n",
    "data_clear_stats.groupby(['event_name', 'id_exp']).agg({'id_user':'nunique'}) \\\n",
    "                                                  .sort_values(by = 'id_user', ascending = False) \\\n",
    "                                                  .rename({'id_user': 'count_unique_users'}, axis = 1) \\\n",
    "                                                  .reset_index()\n",
    "\n",
    "data_clear_stats_exp_event"
   ]
  },
  {
   "cell_type": "code",
   "execution_count": 46,
   "metadata": {},
   "outputs": [
    {
     "data": {
      "text/html": [
       "<div>\n",
       "<style scoped>\n",
       "    .dataframe tbody tr th:only-of-type {\n",
       "        vertical-align: middle;\n",
       "    }\n",
       "\n",
       "    .dataframe tbody tr th {\n",
       "        vertical-align: top;\n",
       "    }\n",
       "\n",
       "    .dataframe thead th {\n",
       "        text-align: right;\n",
       "    }\n",
       "</style>\n",
       "<table border=\"1\" class=\"dataframe\">\n",
       "  <thead>\n",
       "    <tr style=\"text-align: right;\">\n",
       "      <th></th>\n",
       "      <th>id_exp</th>\n",
       "      <th>total_users</th>\n",
       "    </tr>\n",
       "  </thead>\n",
       "  <tbody>\n",
       "    <tr>\n",
       "      <th>0</th>\n",
       "      <td>246</td>\n",
       "      <td>2483</td>\n",
       "    </tr>\n",
       "    <tr>\n",
       "      <th>1</th>\n",
       "      <td>247</td>\n",
       "      <td>2512</td>\n",
       "    </tr>\n",
       "  </tbody>\n",
       "</table>\n",
       "</div>"
      ],
      "text/plain": [
       "   id_exp  total_users\n",
       "0     246         2483\n",
       "1     247         2512"
      ]
     },
     "execution_count": 46,
     "metadata": {},
     "output_type": "execute_result"
    }
   ],
   "source": [
    "data_clear_stats_count = \\\n",
    "data_clear_stats.groupby('id_exp').agg({'id_user':'nunique'}).reset_index().rename({'id_user': 'total_users'}, axis = 1)\n",
    "\n",
    "data_clear_stats_count"
   ]
  },
  {
   "cell_type": "code",
   "execution_count": 47,
   "metadata": {},
   "outputs": [
    {
     "data": {
      "text/html": [
       "<div>\n",
       "<style scoped>\n",
       "    .dataframe tbody tr th:only-of-type {\n",
       "        vertical-align: middle;\n",
       "    }\n",
       "\n",
       "    .dataframe tbody tr th {\n",
       "        vertical-align: top;\n",
       "    }\n",
       "\n",
       "    .dataframe thead th {\n",
       "        text-align: right;\n",
       "    }\n",
       "</style>\n",
       "<table border=\"1\" class=\"dataframe\">\n",
       "  <thead>\n",
       "    <tr style=\"text-align: right;\">\n",
       "      <th></th>\n",
       "      <th>event_name</th>\n",
       "      <th>id_exp</th>\n",
       "      <th>count_unique_users</th>\n",
       "      <th>total_users</th>\n",
       "    </tr>\n",
       "  </thead>\n",
       "  <tbody>\n",
       "    <tr>\n",
       "      <th>0</th>\n",
       "      <td>MainScreenAppear</td>\n",
       "      <td>247</td>\n",
       "      <td>2476</td>\n",
       "      <td>2512</td>\n",
       "    </tr>\n",
       "    <tr>\n",
       "      <th>1</th>\n",
       "      <td>OffersScreenAppear</td>\n",
       "      <td>247</td>\n",
       "      <td>1520</td>\n",
       "      <td>2512</td>\n",
       "    </tr>\n",
       "    <tr>\n",
       "      <th>2</th>\n",
       "      <td>CartScreenAppear</td>\n",
       "      <td>247</td>\n",
       "      <td>1238</td>\n",
       "      <td>2512</td>\n",
       "    </tr>\n",
       "    <tr>\n",
       "      <th>3</th>\n",
       "      <td>PaymentScreenSuccessful</td>\n",
       "      <td>247</td>\n",
       "      <td>1158</td>\n",
       "      <td>2512</td>\n",
       "    </tr>\n",
       "    <tr>\n",
       "      <th>4</th>\n",
       "      <td>MainScreenAppear</td>\n",
       "      <td>246</td>\n",
       "      <td>2450</td>\n",
       "      <td>2483</td>\n",
       "    </tr>\n",
       "    <tr>\n",
       "      <th>5</th>\n",
       "      <td>OffersScreenAppear</td>\n",
       "      <td>246</td>\n",
       "      <td>1542</td>\n",
       "      <td>2483</td>\n",
       "    </tr>\n",
       "    <tr>\n",
       "      <th>6</th>\n",
       "      <td>CartScreenAppear</td>\n",
       "      <td>246</td>\n",
       "      <td>1266</td>\n",
       "      <td>2483</td>\n",
       "    </tr>\n",
       "    <tr>\n",
       "      <th>7</th>\n",
       "      <td>PaymentScreenSuccessful</td>\n",
       "      <td>246</td>\n",
       "      <td>1200</td>\n",
       "      <td>2483</td>\n",
       "    </tr>\n",
       "  </tbody>\n",
       "</table>\n",
       "</div>"
      ],
      "text/plain": [
       "                event_name  id_exp  count_unique_users  total_users\n",
       "0         MainScreenAppear     247                2476         2512\n",
       "1       OffersScreenAppear     247                1520         2512\n",
       "2         CartScreenAppear     247                1238         2512\n",
       "3  PaymentScreenSuccessful     247                1158         2512\n",
       "4         MainScreenAppear     246                2450         2483\n",
       "5       OffersScreenAppear     246                1542         2483\n",
       "6         CartScreenAppear     246                1266         2483\n",
       "7  PaymentScreenSuccessful     246                1200         2483"
      ]
     },
     "execution_count": 47,
     "metadata": {},
     "output_type": "execute_result"
    }
   ],
   "source": [
    "data_for_z_test = \\\n",
    "pd.merge(data_clear_stats_exp_event,\n",
    "         data_clear_stats_count,\n",
    "         on = 'id_exp')\n",
    "\n",
    "data_for_z_test"
   ]
  },
  {
   "cell_type": "code",
   "execution_count": 48,
   "metadata": {},
   "outputs": [
    {
     "name": "stdout",
     "output_type": "stream",
     "text": [
      "Используем Z-критерий для двух долей\n",
      "\n",
      "\n",
      "Данные статистического теста:\n",
      "Статистика: 0.32\n",
      "p-значение: 0.75\n",
      "Уровень значимости (граничный): 0.05\n",
      "\n",
      "\n",
      "Итог теста:\n",
      "Не получилось отвергнуть нулевую гипотезу\n",
      "НЕТ отличия между группами 246 и 247\n",
      "\n",
      "\n",
      "Используем Z-критерий для двух долей\n",
      "\n",
      "\n",
      "Данные статистического теста:\n",
      "Статистика: 1.16\n",
      "p-значение: 0.25\n",
      "Уровень значимости (граничный): 0.05\n",
      "\n",
      "\n",
      "Итог теста:\n",
      "Не получилось отвергнуть нулевую гипотезу\n",
      "НЕТ отличия между группами 246 и 247\n",
      "\n",
      "\n",
      "Используем Z-критерий для двух долей\n",
      "\n",
      "\n",
      "Данные статистического теста:\n",
      "Статистика: 1.2\n",
      "p-значение: 0.23\n",
      "Уровень значимости (граничный): 0.05\n",
      "\n",
      "\n",
      "Итог теста:\n",
      "Не получилось отвергнуть нулевую гипотезу\n",
      "НЕТ отличия между группами 246 и 247\n",
      "\n",
      "\n",
      "Используем Z-критерий для двух долей\n",
      "\n",
      "\n",
      "Данные статистического теста:\n",
      "Статистика: 1.58\n",
      "p-значение: 0.11\n",
      "Уровень значимости (граничный): 0.05\n",
      "\n",
      "\n",
      "Итог теста:\n",
      "Не получилось отвергнуть нулевую гипотезу\n",
      "НЕТ отличия между группами 246 и 247\n",
      "\n",
      "\n"
     ]
    },
    {
     "data": {
      "text/html": [
       "<div>\n",
       "<style scoped>\n",
       "    .dataframe tbody tr th:only-of-type {\n",
       "        vertical-align: middle;\n",
       "    }\n",
       "\n",
       "    .dataframe tbody tr th {\n",
       "        vertical-align: top;\n",
       "    }\n",
       "\n",
       "    .dataframe thead th {\n",
       "        text-align: right;\n",
       "    }\n",
       "</style>\n",
       "<table border=\"1\" class=\"dataframe\">\n",
       "  <thead>\n",
       "    <tr style=\"text-align: right;\">\n",
       "      <th></th>\n",
       "      <th>MainScreenAppear</th>\n",
       "      <th>OffersScreenAppear</th>\n",
       "      <th>CartScreenAppear</th>\n",
       "      <th>PaymentScreenSuccessful</th>\n",
       "    </tr>\n",
       "    <tr>\n",
       "      <th>Наименование</th>\n",
       "      <th></th>\n",
       "      <th></th>\n",
       "      <th></th>\n",
       "      <th></th>\n",
       "    </tr>\n",
       "  </thead>\n",
       "  <tbody>\n",
       "    <tr>\n",
       "      <th>z_value</th>\n",
       "      <td>0.31512</td>\n",
       "      <td>1.155561</td>\n",
       "      <td>1.203775</td>\n",
       "      <td>1.578433</td>\n",
       "    </tr>\n",
       "    <tr>\n",
       "      <th>p_value</th>\n",
       "      <td>0.75267</td>\n",
       "      <td>0.247861</td>\n",
       "      <td>0.228676</td>\n",
       "      <td>0.114466</td>\n",
       "    </tr>\n",
       "    <tr>\n",
       "      <th>alpha</th>\n",
       "      <td>0.05</td>\n",
       "      <td>0.05</td>\n",
       "      <td>0.05</td>\n",
       "      <td>0.05</td>\n",
       "    </tr>\n",
       "    <tr>\n",
       "      <th>Итог</th>\n",
       "      <td>НЕТ отличия между группами 246 и 247</td>\n",
       "      <td>НЕТ отличия между группами 246 и 247</td>\n",
       "      <td>НЕТ отличия между группами 246 и 247</td>\n",
       "      <td>НЕТ отличия между группами 246 и 247</td>\n",
       "    </tr>\n",
       "  </tbody>\n",
       "</table>\n",
       "</div>"
      ],
      "text/plain": [
       "                                  MainScreenAppear  \\\n",
       "Наименование                                         \n",
       "z_value                                    0.31512   \n",
       "p_value                                    0.75267   \n",
       "alpha                                         0.05   \n",
       "Итог          НЕТ отличия между группами 246 и 247   \n",
       "\n",
       "                                OffersScreenAppear  \\\n",
       "Наименование                                         \n",
       "z_value                                   1.155561   \n",
       "p_value                                   0.247861   \n",
       "alpha                                         0.05   \n",
       "Итог          НЕТ отличия между группами 246 и 247   \n",
       "\n",
       "                                  CartScreenAppear  \\\n",
       "Наименование                                         \n",
       "z_value                                   1.203775   \n",
       "p_value                                   0.228676   \n",
       "alpha                                         0.05   \n",
       "Итог          НЕТ отличия между группами 246 и 247   \n",
       "\n",
       "                           PaymentScreenSuccessful  \n",
       "Наименование                                        \n",
       "z_value                                   1.578433  \n",
       "p_value                                   0.114466  \n",
       "alpha                                         0.05  \n",
       "Итог          НЕТ отличия между группами 246 и 247  "
      ]
     },
     "execution_count": 48,
     "metadata": {},
     "output_type": "execute_result"
    }
   ],
   "source": [
    "spisok_tests = []\n",
    "for event_name in data_for_z_test['event_name'].unique():\n",
    "    data_event_z = data_for_z_test[data_for_z_test['event_name'] == event_name].sort_values(by = 'id_exp')\n",
    "    data_test = \\\n",
    "    z_test(kol_vo_1 = data_event_z.iloc[0,2],\n",
    "           kol_vo_2 = data_event_z.iloc[1,2],\n",
    "           all__kol_vo_1 = data_event_z.iloc[0,3],\n",
    "           all__kol_vo_2 = data_event_z.iloc[1,3],\n",
    "           alpha = 0.05).reset_index().rename({'index': 'Наименование', 0: event_name}, axis=1).set_index('Наименование')\n",
    "    spisok_tests.append(data_test)\n",
    "    print('\\n')\n",
    "\n",
    "data_itog_z_tests = \\\n",
    "pd.concat(spisok_tests, axis = 1)\n",
    "\n",
    "data_itog_z_tests"
   ]
  },
  {
   "cell_type": "markdown",
   "metadata": {},
   "source": [
    "Можно считать, что разбиение на группы - корректное"
   ]
  },
  {
   "cell_type": "markdown",
   "metadata": {},
   "source": [
    "---"
   ]
  },
  {
   "cell_type": "markdown",
   "metadata": {},
   "source": [
    "<a id =\"stage_5_4\"></a>\n",
    "\n",
    "### 5.4. Аналогично поступите с группой с изменённым шрифтом. Сравните результаты с каждой из контрольных групп в отдельности по каждому событию. Сравните результаты с объединённой контрольной группой. Какие выводы из эксперимента можно сделать?\n",
    "\n",
    "[К оглавлению](#title)"
   ]
  },
  {
   "cell_type": "code",
   "execution_count": 49,
   "metadata": {},
   "outputs": [
    {
     "data": {
      "text/html": [
       "<div>\n",
       "<style scoped>\n",
       "    .dataframe tbody tr th:only-of-type {\n",
       "        vertical-align: middle;\n",
       "    }\n",
       "\n",
       "    .dataframe tbody tr th {\n",
       "        vertical-align: top;\n",
       "    }\n",
       "\n",
       "    .dataframe thead th {\n",
       "        text-align: right;\n",
       "    }\n",
       "</style>\n",
       "<table border=\"1\" class=\"dataframe\">\n",
       "  <thead>\n",
       "    <tr style=\"text-align: right;\">\n",
       "      <th></th>\n",
       "      <th>event_name</th>\n",
       "      <th>count_unique_users</th>\n",
       "    </tr>\n",
       "  </thead>\n",
       "  <tbody>\n",
       "    <tr>\n",
       "      <th>0</th>\n",
       "      <td>MainScreenAppear</td>\n",
       "      <td>2493</td>\n",
       "    </tr>\n",
       "    <tr>\n",
       "      <th>1</th>\n",
       "      <td>OffersScreenAppear</td>\n",
       "      <td>1531</td>\n",
       "    </tr>\n",
       "    <tr>\n",
       "      <th>2</th>\n",
       "      <td>CartScreenAppear</td>\n",
       "      <td>1230</td>\n",
       "    </tr>\n",
       "    <tr>\n",
       "      <th>3</th>\n",
       "      <td>PaymentScreenSuccessful</td>\n",
       "      <td>1181</td>\n",
       "    </tr>\n",
       "  </tbody>\n",
       "</table>\n",
       "</div>"
      ],
      "text/plain": [
       "                event_name  count_unique_users\n",
       "0         MainScreenAppear                2493\n",
       "1       OffersScreenAppear                1531\n",
       "2         CartScreenAppear                1230\n",
       "3  PaymentScreenSuccessful                1181"
      ]
     },
     "execution_count": 49,
     "metadata": {},
     "output_type": "execute_result"
    }
   ],
   "source": [
    "# Собираем данные по 248 группе ( уникальные пользователи по каждому событию )\n",
    "\n",
    "data_clear_248 = data_clear[(data_clear['id_exp'] == 248) & (data_clear['event_name'] != 'Tutorial')]\n",
    "\n",
    "data_for_z_test_248 = \\\n",
    "data_clear_248.groupby('event_name').agg({'id_user': 'nunique'}).sort_values(by = 'id_user', ascending=False).rename({'id_user': 'count_unique_users'}, axis = 1).reset_index()\n",
    "\n",
    "data_for_z_test_248"
   ]
  },
  {
   "cell_type": "code",
   "execution_count": 50,
   "metadata": {},
   "outputs": [
    {
     "data": {
      "text/html": [
       "<div>\n",
       "<style scoped>\n",
       "    .dataframe tbody tr th:only-of-type {\n",
       "        vertical-align: middle;\n",
       "    }\n",
       "\n",
       "    .dataframe tbody tr th {\n",
       "        vertical-align: top;\n",
       "    }\n",
       "\n",
       "    .dataframe thead th {\n",
       "        text-align: right;\n",
       "    }\n",
       "</style>\n",
       "<table border=\"1\" class=\"dataframe\">\n",
       "  <thead>\n",
       "    <tr style=\"text-align: right;\">\n",
       "      <th></th>\n",
       "      <th>event_name</th>\n",
       "      <th>id_exp</th>\n",
       "      <th>count_unique_users</th>\n",
       "      <th>total_users</th>\n",
       "    </tr>\n",
       "  </thead>\n",
       "  <tbody>\n",
       "    <tr>\n",
       "      <th>0</th>\n",
       "      <td>MainScreenAppear</td>\n",
       "      <td>247</td>\n",
       "      <td>2476</td>\n",
       "      <td>2512</td>\n",
       "    </tr>\n",
       "    <tr>\n",
       "      <th>1</th>\n",
       "      <td>OffersScreenAppear</td>\n",
       "      <td>247</td>\n",
       "      <td>1520</td>\n",
       "      <td>2512</td>\n",
       "    </tr>\n",
       "    <tr>\n",
       "      <th>2</th>\n",
       "      <td>CartScreenAppear</td>\n",
       "      <td>247</td>\n",
       "      <td>1238</td>\n",
       "      <td>2512</td>\n",
       "    </tr>\n",
       "    <tr>\n",
       "      <th>3</th>\n",
       "      <td>PaymentScreenSuccessful</td>\n",
       "      <td>247</td>\n",
       "      <td>1158</td>\n",
       "      <td>2512</td>\n",
       "    </tr>\n",
       "    <tr>\n",
       "      <th>4</th>\n",
       "      <td>MainScreenAppear</td>\n",
       "      <td>246</td>\n",
       "      <td>2450</td>\n",
       "      <td>2483</td>\n",
       "    </tr>\n",
       "    <tr>\n",
       "      <th>5</th>\n",
       "      <td>OffersScreenAppear</td>\n",
       "      <td>246</td>\n",
       "      <td>1542</td>\n",
       "      <td>2483</td>\n",
       "    </tr>\n",
       "    <tr>\n",
       "      <th>6</th>\n",
       "      <td>CartScreenAppear</td>\n",
       "      <td>246</td>\n",
       "      <td>1266</td>\n",
       "      <td>2483</td>\n",
       "    </tr>\n",
       "    <tr>\n",
       "      <th>7</th>\n",
       "      <td>PaymentScreenSuccessful</td>\n",
       "      <td>246</td>\n",
       "      <td>1200</td>\n",
       "      <td>2483</td>\n",
       "    </tr>\n",
       "    <tr>\n",
       "      <th>0</th>\n",
       "      <td>MainScreenAppear</td>\n",
       "      <td>248</td>\n",
       "      <td>2493</td>\n",
       "      <td>2535</td>\n",
       "    </tr>\n",
       "    <tr>\n",
       "      <th>1</th>\n",
       "      <td>OffersScreenAppear</td>\n",
       "      <td>248</td>\n",
       "      <td>1531</td>\n",
       "      <td>2535</td>\n",
       "    </tr>\n",
       "    <tr>\n",
       "      <th>2</th>\n",
       "      <td>CartScreenAppear</td>\n",
       "      <td>248</td>\n",
       "      <td>1230</td>\n",
       "      <td>2535</td>\n",
       "    </tr>\n",
       "    <tr>\n",
       "      <th>3</th>\n",
       "      <td>PaymentScreenSuccessful</td>\n",
       "      <td>248</td>\n",
       "      <td>1181</td>\n",
       "      <td>2535</td>\n",
       "    </tr>\n",
       "  </tbody>\n",
       "</table>\n",
       "</div>"
      ],
      "text/plain": [
       "                event_name  id_exp  count_unique_users  total_users\n",
       "0         MainScreenAppear     247                2476         2512\n",
       "1       OffersScreenAppear     247                1520         2512\n",
       "2         CartScreenAppear     247                1238         2512\n",
       "3  PaymentScreenSuccessful     247                1158         2512\n",
       "4         MainScreenAppear     246                2450         2483\n",
       "5       OffersScreenAppear     246                1542         2483\n",
       "6         CartScreenAppear     246                1266         2483\n",
       "7  PaymentScreenSuccessful     246                1200         2483\n",
       "0         MainScreenAppear     248                2493         2535\n",
       "1       OffersScreenAppear     248                1531         2535\n",
       "2         CartScreenAppear     248                1230         2535\n",
       "3  PaymentScreenSuccessful     248                1181         2535"
      ]
     },
     "execution_count": 50,
     "metadata": {},
     "output_type": "execute_result"
    }
   ],
   "source": [
    "# Считаем всего пользователей по группе 248\n",
    "count_unique_user_248 = data_clear_248['id_user'].nunique()\n",
    "\n",
    "# Подгон под таблицу 246 и 247 группы\n",
    "data_for_z_test_248['total_users'] = count_unique_user_248\n",
    "data_for_z_test_248['id_exp'] = 248\n",
    "\n",
    "# Соединение таблиц 246, 247, 248 групп\n",
    "data_for_z_test = \\\n",
    "pd.concat([data_for_z_test,\n",
    "           data_for_z_test_248],\n",
    "           axis = 0)\n",
    "\n",
    "data_for_z_test"
   ]
  },
  {
   "cell_type": "code",
   "execution_count": 53,
   "metadata": {},
   "outputs": [
    {
     "data": {
      "text/html": [
       "<div>\n",
       "<style scoped>\n",
       "    .dataframe tbody tr th:only-of-type {\n",
       "        vertical-align: middle;\n",
       "    }\n",
       "\n",
       "    .dataframe tbody tr th {\n",
       "        vertical-align: top;\n",
       "    }\n",
       "\n",
       "    .dataframe thead th {\n",
       "        text-align: right;\n",
       "    }\n",
       "</style>\n",
       "<table border=\"1\" class=\"dataframe\">\n",
       "  <thead>\n",
       "    <tr style=\"text-align: right;\">\n",
       "      <th></th>\n",
       "      <th>MainScreenAppear</th>\n",
       "      <th>OffersScreenAppear</th>\n",
       "      <th>CartScreenAppear</th>\n",
       "      <th>PaymentScreenSuccessful</th>\n",
       "    </tr>\n",
       "    <tr>\n",
       "      <th>Наименование</th>\n",
       "      <th></th>\n",
       "      <th></th>\n",
       "      <th></th>\n",
       "      <th></th>\n",
       "    </tr>\n",
       "  </thead>\n",
       "  <tbody>\n",
       "    <tr>\n",
       "      <th>z_value</th>\n",
       "      <td>0.956714</td>\n",
       "      <td>1.24149</td>\n",
       "      <td>1.746791</td>\n",
       "      <td>1.234732</td>\n",
       "    </tr>\n",
       "    <tr>\n",
       "      <th>p_value</th>\n",
       "      <td>0.338711</td>\n",
       "      <td>0.214425</td>\n",
       "      <td>0.080674</td>\n",
       "      <td>0.21693</td>\n",
       "    </tr>\n",
       "    <tr>\n",
       "      <th>alpha</th>\n",
       "      <td>0.05</td>\n",
       "      <td>0.05</td>\n",
       "      <td>0.05</td>\n",
       "      <td>0.05</td>\n",
       "    </tr>\n",
       "    <tr>\n",
       "      <th>Итог</th>\n",
       "      <td>НЕТ отличия между группами 246 и 248</td>\n",
       "      <td>НЕТ отличия между группами 246 и 248</td>\n",
       "      <td>НЕТ отличия между группами 246 и 248</td>\n",
       "      <td>НЕТ отличия между группами 246 и 248</td>\n",
       "    </tr>\n",
       "  </tbody>\n",
       "</table>\n",
       "</div>"
      ],
      "text/plain": [
       "                                  MainScreenAppear  \\\n",
       "Наименование                                         \n",
       "z_value                                   0.956714   \n",
       "p_value                                   0.338711   \n",
       "alpha                                         0.05   \n",
       "Итог          НЕТ отличия между группами 246 и 248   \n",
       "\n",
       "                                OffersScreenAppear  \\\n",
       "Наименование                                         \n",
       "z_value                                    1.24149   \n",
       "p_value                                   0.214425   \n",
       "alpha                                         0.05   \n",
       "Итог          НЕТ отличия между группами 246 и 248   \n",
       "\n",
       "                                  CartScreenAppear  \\\n",
       "Наименование                                         \n",
       "z_value                                   1.746791   \n",
       "p_value                                   0.080674   \n",
       "alpha                                         0.05   \n",
       "Итог          НЕТ отличия между группами 246 и 248   \n",
       "\n",
       "                           PaymentScreenSuccessful  \n",
       "Наименование                                        \n",
       "z_value                                   1.234732  \n",
       "p_value                                    0.21693  \n",
       "alpha                                         0.05  \n",
       "Итог          НЕТ отличия между группами 246 и 248  "
      ]
     },
     "execution_count": 53,
     "metadata": {},
     "output_type": "execute_result"
    }
   ],
   "source": [
    "H0 = 'НЕТ отличия между группами 246 и 248'\n",
    "H1 = 'ЕСТЬ отличие между группами 246 и 248'\n",
    "\n",
    "\n",
    "# Убрем все принты из функции z_теста\n",
    "\n",
    "def z_test(kol_vo_1, # числитель первой доли\n",
    "           kol_vo_2, # числитель второй доли\n",
    "           all__kol_vo_1,   # знаменатель первой доли\n",
    "           all__kol_vo_2,   # знаменатель второй доли\n",
    "           alpha):  # уровень значимости\n",
    "    \n",
    "    '''\n",
    "    Формулировка гипотез должна быть следующая: \n",
    "\n",
    "    H0: две доли РАВНЫ\n",
    "    H1: две доли НЕ РАВНЫ ( Или величина одной выборки больше/меньше величины другой )\n",
    "    '''\n",
    "    \n",
    "\n",
    "    dolya_1 = kol_vo_1 / all__kol_vo_1\n",
    "    dolya_2 = kol_vo_2 / all__kol_vo_2\n",
    "    diff = dolya_1 - dolya_2\n",
    "    dolya_combo = (kol_vo_1 + kol_vo_2) / (all__kol_vo_1 + all__kol_vo_2)\n",
    "\n",
    "    z_value = diff / np.sqrt((dolya_combo*(1-dolya_combo))*((1/all__kol_vo_1) + (1/all__kol_vo_2)))\n",
    "    distr = st.norm(0,1)\n",
    "    p_value = (1 - distr.cdf(abs(z_value))) * 2\n",
    "\n",
    "    '''print('Используем Z-критерий для двух долей')\n",
    "    print('\\n')\n",
    "    print('Данные статистического теста:')\n",
    "    print(f'Статистика: {z_value.round(2)}')\n",
    "    print(f'p-значение: {p_value.round(2)}')\n",
    "    print(f'Уровень значимости: {alpha}')\n",
    "    print('\\n')\n",
    "    print('Итог теста:')'''\n",
    "    if p_value < alpha:\n",
    "        '''print(f'На уровне значимости {alpha} - отвергаем нулевую гипотезу')\n",
    "        print(H1)'''\n",
    "        itog = H1\n",
    "    else:\n",
    "        '''print('Не получилось отвергнуть нулевую гипотезу')\n",
    "        print(H0)'''\n",
    "        itog = H0\n",
    "    \n",
    "    slovar = {'z_value': z_value,\n",
    "              'p_value': p_value,\n",
    "              'alpha': alpha,\n",
    "              'Итог': itog}\n",
    "    data_z_test = pd.Series(slovar)\n",
    "    return data_z_test\n",
    "\n",
    "\n",
    "\n",
    "\n",
    "# Проверка гипотез\n",
    "\n",
    "spisok_tests = []\n",
    "for event_name in data_for_z_test['event_name'].unique():\n",
    "    data_event_z = data_for_z_test[(data_for_z_test['event_name'] == event_name) & (data_for_z_test['id_exp'] != 247)].sort_values(by = 'id_exp')\n",
    "    '''print(f'Проведем тест для события {event_name}')'''\n",
    "    data_test = \\\n",
    "    z_test(kol_vo_1 = data_event_z.iloc[0,2],\n",
    "           kol_vo_2 = data_event_z.iloc[1,2],\n",
    "           all__kol_vo_1 = data_event_z.iloc[0,3],\n",
    "           all__kol_vo_2 = data_event_z.iloc[1,3],\n",
    "           alpha = 0.05).reset_index().rename({'index': 'Наименование', 0: event_name}, axis=1).set_index('Наименование')\n",
    "    spisok_tests.append(data_test)\n",
    "\n",
    "data_itog_z_tests = \\\n",
    "pd.concat(spisok_tests, axis = 1)\n",
    "\n",
    "data_itog_z_tests"
   ]
  },
  {
   "cell_type": "code",
   "execution_count": 54,
   "metadata": {},
   "outputs": [
    {
     "data": {
      "text/html": [
       "<div>\n",
       "<style scoped>\n",
       "    .dataframe tbody tr th:only-of-type {\n",
       "        vertical-align: middle;\n",
       "    }\n",
       "\n",
       "    .dataframe tbody tr th {\n",
       "        vertical-align: top;\n",
       "    }\n",
       "\n",
       "    .dataframe thead th {\n",
       "        text-align: right;\n",
       "    }\n",
       "</style>\n",
       "<table border=\"1\" class=\"dataframe\">\n",
       "  <thead>\n",
       "    <tr style=\"text-align: right;\">\n",
       "      <th></th>\n",
       "      <th>MainScreenAppear</th>\n",
       "      <th>OffersScreenAppear</th>\n",
       "      <th>CartScreenAppear</th>\n",
       "      <th>PaymentScreenSuccessful</th>\n",
       "    </tr>\n",
       "    <tr>\n",
       "      <th>Наименование</th>\n",
       "      <th></th>\n",
       "      <th></th>\n",
       "      <th></th>\n",
       "      <th></th>\n",
       "    </tr>\n",
       "  </thead>\n",
       "  <tbody>\n",
       "    <tr>\n",
       "      <th>z_value</th>\n",
       "      <td>0.644122</td>\n",
       "      <td>0.083599</td>\n",
       "      <td>0.541986</td>\n",
       "      <td>-0.348357</td>\n",
       "    </tr>\n",
       "    <tr>\n",
       "      <th>p_value</th>\n",
       "      <td>0.519496</td>\n",
       "      <td>0.933375</td>\n",
       "      <td>0.587828</td>\n",
       "      <td>0.727572</td>\n",
       "    </tr>\n",
       "    <tr>\n",
       "      <th>alpha</th>\n",
       "      <td>0.05</td>\n",
       "      <td>0.05</td>\n",
       "      <td>0.05</td>\n",
       "      <td>0.05</td>\n",
       "    </tr>\n",
       "    <tr>\n",
       "      <th>Итог</th>\n",
       "      <td>НЕТ отличия между группами 247 и 248</td>\n",
       "      <td>НЕТ отличия между группами 247 и 248</td>\n",
       "      <td>НЕТ отличия между группами 247 и 248</td>\n",
       "      <td>НЕТ отличия между группами 247 и 248</td>\n",
       "    </tr>\n",
       "  </tbody>\n",
       "</table>\n",
       "</div>"
      ],
      "text/plain": [
       "                                  MainScreenAppear  \\\n",
       "Наименование                                         \n",
       "z_value                                   0.644122   \n",
       "p_value                                   0.519496   \n",
       "alpha                                         0.05   \n",
       "Итог          НЕТ отличия между группами 247 и 248   \n",
       "\n",
       "                                OffersScreenAppear  \\\n",
       "Наименование                                         \n",
       "z_value                                   0.083599   \n",
       "p_value                                   0.933375   \n",
       "alpha                                         0.05   \n",
       "Итог          НЕТ отличия между группами 247 и 248   \n",
       "\n",
       "                                  CartScreenAppear  \\\n",
       "Наименование                                         \n",
       "z_value                                   0.541986   \n",
       "p_value                                   0.587828   \n",
       "alpha                                         0.05   \n",
       "Итог          НЕТ отличия между группами 247 и 248   \n",
       "\n",
       "                           PaymentScreenSuccessful  \n",
       "Наименование                                        \n",
       "z_value                                  -0.348357  \n",
       "p_value                                   0.727572  \n",
       "alpha                                         0.05  \n",
       "Итог          НЕТ отличия между группами 247 и 248  "
      ]
     },
     "execution_count": 54,
     "metadata": {},
     "output_type": "execute_result"
    }
   ],
   "source": [
    "H0 = 'НЕТ отличия между группами 247 и 248'\n",
    "H1 = 'ЕСТЬ отличие между группами 247 и 248'\n",
    "\n",
    "spisok_tests = []\n",
    "for event_name in data_for_z_test['event_name'].unique():\n",
    "    data_event_z = data_for_z_test[(data_for_z_test['event_name'] == event_name) & (data_for_z_test['id_exp'] != 246)].sort_values(by = 'id_exp')\n",
    "    '''print(f'Проведем тест для события {event_name}')'''\n",
    "    data_test = \\\n",
    "    z_test(kol_vo_1 = data_event_z.iloc[0,2],\n",
    "           kol_vo_2 = data_event_z.iloc[1,2],\n",
    "           all__kol_vo_1 = data_event_z.iloc[0,3],\n",
    "           all__kol_vo_2 = data_event_z.iloc[1,3],\n",
    "           alpha = 0.05).reset_index().rename({'index': 'Наименование', 0: event_name}, axis=1).set_index('Наименование')\n",
    "    spisok_tests.append(data_test)\n",
    "\n",
    "data_itog_z_tests = \\\n",
    "pd.concat(spisok_tests, axis = 1)\n",
    "\n",
    "data_itog_z_tests"
   ]
  }
 ],
 "metadata": {
  "kernelspec": {
   "display_name": "cringe_player_env",
   "language": "python",
   "name": "python3"
  },
  "language_info": {
   "codemirror_mode": {
    "name": "ipython",
    "version": 3
   },
   "file_extension": ".py",
   "mimetype": "text/x-python",
   "name": "python",
   "nbconvert_exporter": "python",
   "pygments_lexer": "ipython3",
   "version": "3.8.17"
  },
  "orig_nbformat": 4
 },
 "nbformat": 4,
 "nbformat_minor": 2
}
