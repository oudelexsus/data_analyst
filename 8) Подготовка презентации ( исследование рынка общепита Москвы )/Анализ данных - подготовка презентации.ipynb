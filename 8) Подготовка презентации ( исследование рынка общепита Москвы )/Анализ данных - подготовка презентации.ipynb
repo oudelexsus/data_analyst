{
 "cells": [
  {
   "cell_type": "markdown",
   "metadata": {},
   "source": [
    "<a id = 'title'></a>\n",
    "\n",
    "# Контекст\n",
    "Заказчик запланировал открыть небольшое кафе в Москве. Отличительная особенность - обслуживание роботами. \n",
    "Средства на открытие будут привлекаться от инвесторов. Инвесторов интересует текущее положение дел на рынке и насколько перспективно в долгосрочном периоде кафе с роботами-официантами. Наша главная задача - подготовить исследование рынка с использованием информации из открытых источников. Мы имеем два набора данных, один из которых содержит информацию об объектах общепита, а второй - об улицах и районах города.\n",
    "\n",
    "# Задачи исследования\n",
    "\n",
    "# [Шаг №1. Загрузите данные и подготовьте их к анализу](#stage_1)\n",
    "Загрузите данные о заведениях общественного питания Москвы. Убедитесь, что тип данных в каждой колонке — правильный, а также отсутствуют пропущенные значения и дубликаты. При необходимости обработайте их.\n",
    "\n",
    "Файл: rest_data.csv\n",
    "\n",
    "---\n",
    "\n",
    "# [Шаг №2. Анализ данных](#stage_2)\n",
    "Сделайте общий вывод и дайте рекомендации о виде заведения, количестве посадочных мест, а также районе расположения. Прокомментируйте возможность развития сети.\n",
    "\n",
    "1. [Исследуйте соотношение видов объектов общественного питания по количеству. Постройте график](#stage_2_1)\n",
    "\n",
    "2. [Исследуйте соотношение сетевых и несетевых заведений по количеству. Постройте график](#stage_2_2)\n",
    "\n",
    "3. [Для какого вида объекта общественного питания характерно сетевое распространение?](#stage_2_3)\n",
    "\n",
    "4. [Что характерно для сетевых заведений: много заведений с небольшим числом посадочных мест в каждом или мало заведений с большим количеством посадочных мест?](#stage_2_4)\n",
    "\n",
    "5. [Для каждого вида объекта общественного питания опишите среднее количество посадочных мест. Какой вид предоставляет в среднем самое большое количество посадочных мест? Постройте графики](#stage_2_5)\n",
    "\n",
    "6. [Выделите в отдельный столбец информацию об улице из столбца address](#stage_2_6)\n",
    "\n",
    "7. [Постройте график топ-10 улиц по количеству объектов общественного питания. Воспользуйтесь внешней информацией и ответьте на вопрос — в каких районах Москвы находятся эти улицы?](#stage_2_7)\n",
    "\n",
    "8. [Найдите число улиц с одним объектом общественного питания. Воспользуйтесь внешней информацией и ответьте на вопрос — в каких районах Москвы находятся эти улицы?](#stage_2_8)\n",
    "\n",
    "9. [Посмотрите на распределение количества посадочных мест для улиц с большим количеством объектов общественного питания. Какие закономерности можно выявить?](#stage_2_9)\n",
    "\n",
    "---\n",
    "\n",
    "# [Шаг №3. Подготовка презентации](#stage_3)\n",
    "Подготовьте презентацию исследования для инвесторов. Для создания презентации используйте любой удобный инструмент, но отправить презентацию нужно обязательно в формате pdf. Приложите ссылку на презентацию в markdown-ячейке в формате:\n",
    "Презентация: <ссылка на облачное хранилище с презентацией>\n",
    "\n",
    "\n",
    "# Описание данных\n",
    "## Файл rest_data.csv:\n",
    "- object_name — название объекта общественного питания;\n",
    "- chain — сетевой ресторан;\n",
    "- object_type — тип объекта общественного питания;\n",
    "- address — адрес;\n",
    "- number — количество посадочных мест."
   ]
  },
  {
   "cell_type": "markdown",
   "metadata": {},
   "source": [
    "---"
   ]
  },
  {
   "cell_type": "code",
   "execution_count": 1,
   "metadata": {},
   "outputs": [],
   "source": [
    "import pandas as pd\n",
    "import numpy as np\n",
    "import matplotlib.pyplot as plt\n",
    "import seaborn as sns"
   ]
  },
  {
   "cell_type": "markdown",
   "metadata": {},
   "source": [
    "---"
   ]
  },
  {
   "cell_type": "markdown",
   "metadata": {},
   "source": [
    "<a id = 'stage_1'></a>\n",
    "\n",
    "# Шаг №1. Загрузите данные и подготовьте их к анализу\n",
    "\n",
    "[к оглавлению](#title)"
   ]
  },
  {
   "cell_type": "code",
   "execution_count": 2,
   "metadata": {},
   "outputs": [
    {
     "name": "stdout",
     "output_type": "stream",
     "text": [
      "<class 'pandas.core.frame.DataFrame'>\n",
      "RangeIndex: 15366 entries, 0 to 15365\n",
      "Data columns (total 6 columns):\n",
      " #   Column       Non-Null Count  Dtype \n",
      "---  ------       --------------  ----- \n",
      " 0   id           15366 non-null  int64 \n",
      " 1   object_name  15366 non-null  object\n",
      " 2   chain        15366 non-null  object\n",
      " 3   object_type  15366 non-null  object\n",
      " 4   address      15366 non-null  object\n",
      " 5   number       15366 non-null  int64 \n",
      "dtypes: int64(2), object(4)\n",
      "memory usage: 720.4+ KB\n"
     ]
    }
   ],
   "source": [
    "data = pd.read_csv('rest_data.csv')\n",
    "data.info()"
   ]
  },
  {
   "cell_type": "code",
   "execution_count": 3,
   "metadata": {},
   "outputs": [
    {
     "data": {
      "text/plain": [
       "array(['кафе', 'столовая', 'закусочная',\n",
       "       'предприятие быстрого обслуживания', 'ресторан', 'кафетерий',\n",
       "       'буфет', 'бар', 'магазин (отдел кулинарии)'], dtype=object)"
      ]
     },
     "execution_count": 3,
     "metadata": {},
     "output_type": "execute_result"
    }
   ],
   "source": [
    "data['object_type'].unique()"
   ]
  },
  {
   "cell_type": "code",
   "execution_count": 4,
   "metadata": {},
   "outputs": [
    {
     "data": {
      "text/html": [
       "<div>\n",
       "<style scoped>\n",
       "    .dataframe tbody tr th:only-of-type {\n",
       "        vertical-align: middle;\n",
       "    }\n",
       "\n",
       "    .dataframe tbody tr th {\n",
       "        vertical-align: top;\n",
       "    }\n",
       "\n",
       "    .dataframe thead th {\n",
       "        text-align: right;\n",
       "    }\n",
       "</style>\n",
       "<table border=\"1\" class=\"dataframe\">\n",
       "  <thead>\n",
       "    <tr style=\"text-align: right;\">\n",
       "      <th></th>\n",
       "      <th>id</th>\n",
       "      <th>object_name</th>\n",
       "      <th>chain</th>\n",
       "      <th>object_type</th>\n",
       "      <th>address</th>\n",
       "      <th>number</th>\n",
       "    </tr>\n",
       "  </thead>\n",
       "  <tbody>\n",
       "    <tr>\n",
       "      <th>16</th>\n",
       "      <td>144107</td>\n",
       "      <td>Суши Wok</td>\n",
       "      <td>да</td>\n",
       "      <td>предприятие быстрого обслуживания</td>\n",
       "      <td>город Москва, Азовская улица, дом 3</td>\n",
       "      <td>7</td>\n",
       "    </tr>\n",
       "    <tr>\n",
       "      <th>17</th>\n",
       "      <td>154654</td>\n",
       "      <td>Донер Кебаб</td>\n",
       "      <td>нет</td>\n",
       "      <td>предприятие быстрого обслуживания</td>\n",
       "      <td>город Москва, Азовская улица, дом 4</td>\n",
       "      <td>2</td>\n",
       "    </tr>\n",
       "    <tr>\n",
       "      <th>95</th>\n",
       "      <td>127674</td>\n",
       "      <td>СУШИ SHOP</td>\n",
       "      <td>нет</td>\n",
       "      <td>предприятие быстрого обслуживания</td>\n",
       "      <td>город Москва, улица Маршала Бирюзова, дом 13</td>\n",
       "      <td>12</td>\n",
       "    </tr>\n",
       "    <tr>\n",
       "      <th>120</th>\n",
       "      <td>26075</td>\n",
       "      <td>МАКДОНАЛДС</td>\n",
       "      <td>да</td>\n",
       "      <td>предприятие быстрого обслуживания</td>\n",
       "      <td>город Москва, Большая Бронная улица, дом 29</td>\n",
       "      <td>580</td>\n",
       "    </tr>\n",
       "    <tr>\n",
       "      <th>154</th>\n",
       "      <td>152556</td>\n",
       "      <td>Шаурма в пите</td>\n",
       "      <td>нет</td>\n",
       "      <td>предприятие быстрого обслуживания</td>\n",
       "      <td>город Москва, Варшавское шоссе, дом 72, корпус 2</td>\n",
       "      <td>0</td>\n",
       "    </tr>\n",
       "  </tbody>\n",
       "</table>\n",
       "</div>"
      ],
      "text/plain": [
       "         id    object_name chain                        object_type  \\\n",
       "16   144107       Суши Wok    да  предприятие быстрого обслуживания   \n",
       "17   154654    Донер Кебаб   нет  предприятие быстрого обслуживания   \n",
       "95   127674      СУШИ SHOP   нет  предприятие быстрого обслуживания   \n",
       "120   26075     МАКДОНАЛДС    да  предприятие быстрого обслуживания   \n",
       "154  152556  Шаурма в пите   нет  предприятие быстрого обслуживания   \n",
       "\n",
       "                                              address  number  \n",
       "16                город Москва, Азовская улица, дом 3       7  \n",
       "17                город Москва, Азовская улица, дом 4       2  \n",
       "95       город Москва, улица Маршала Бирюзова, дом 13      12  \n",
       "120       город Москва, Большая Бронная улица, дом 29     580  \n",
       "154  город Москва, Варшавское шоссе, дом 72, корпус 2       0  "
      ]
     },
     "execution_count": 4,
     "metadata": {},
     "output_type": "execute_result"
    }
   ],
   "source": [
    "data[data['object_type'] == 'предприятие быстрого обслуживания'].head()    # заменим на фастфуд (название слишком длинное)"
   ]
  },
  {
   "cell_type": "code",
   "execution_count": 5,
   "metadata": {},
   "outputs": [
    {
     "data": {
      "text/plain": [
       "array(['кафе', 'столовая', 'закусочная', 'фастфуд', 'ресторан',\n",
       "       'кафетерий', 'буфет', 'бар', 'магазин (отдел кулинарии)'],\n",
       "      dtype=object)"
      ]
     },
     "execution_count": 5,
     "metadata": {},
     "output_type": "execute_result"
    }
   ],
   "source": [
    "def zamena(x):\n",
    "    if x == 'предприятие быстрого обслуживания':\n",
    "        return 'фастфуд'\n",
    "    else:\n",
    "        return x\n",
    "\n",
    "data['object_type'] = data['object_type'].map(zamena)\n",
    "data['object_type'].unique()"
   ]
  },
  {
   "cell_type": "code",
   "execution_count": 6,
   "metadata": {},
   "outputs": [
    {
     "data": {
      "text/plain": [
       "array(['несетевое', 'сетевое'], dtype=object)"
      ]
     },
     "execution_count": 6,
     "metadata": {},
     "output_type": "execute_result"
    }
   ],
   "source": [
    "def zamena1(x):\n",
    "    if x == 'да':\n",
    "        return 'сетевое'\n",
    "    else:\n",
    "        return 'несетевое'\n",
    "\n",
    "data['chain'] = data['chain'].map(zamena1)\n",
    "data['chain'].unique()"
   ]
  },
  {
   "cell_type": "code",
   "execution_count": 7,
   "metadata": {},
   "outputs": [
    {
     "data": {
      "text/plain": [
       "array(['Шоколадница', 'Шоколадница Кофе Хаус', 'Кофейня «Шоколадница»',\n",
       "       'Кафе «Шоколадница»', 'КАФЕ «Шоколадница»', 'кафе «Шоколадница»',\n",
       "       'Кофейня Шоколадница', 'Шоколадница Экспресс',\n",
       "       'Шоколадница Кофемания'], dtype=object)"
      ]
     },
     "execution_count": 7,
     "metadata": {},
     "output_type": "execute_result"
    }
   ],
   "source": [
    "# посмотрим сколько разных Шоколадниц у нас в списке\n",
    "spisok =[]\n",
    "for i in data['object_name']:\n",
    "    if 'Шоколадница' in i:\n",
    "        spisok.append(i)\n",
    "\n",
    "pd.Series(spisok).unique()"
   ]
  },
  {
   "cell_type": "code",
   "execution_count": 8,
   "metadata": {},
   "outputs": [
    {
     "data": {
      "text/plain": [
       "array([' ', '«', '»', '.', '№', '-', '(', ')', \"'\", '&', ',', '+'],\n",
       "      dtype=object)"
      ]
     },
     "execution_count": 8,
     "metadata": {},
     "output_type": "execute_result"
    }
   ],
   "source": [
    "# Выявим интересную пунктуацию внутри каждого названия (прекрасно понимаю, что есть модуль, кот. за это отвечает - просто пробую)\n",
    "spisok_ne_bukv =[]\n",
    "alphabet_rus = 'абвгдеёжзийклмнопрстуфхцчшщъьыэюя'\n",
    "alphabet_eng = 'abcdefghijklmnopqrstuvwxyz'\n",
    "zifri = '1234567890'\n",
    "for i in data['object_name']:\n",
    "    i = list(i)\n",
    "    for j in i:\n",
    "        if j not in alphabet_rus and j not in alphabet_rus.upper() and j not in zifri and j not in alphabet_eng and j not in alphabet_eng.upper():\n",
    "            spisok_ne_bukv.append(j)\n",
    "\n",
    "pd.Series(spisok_ne_bukv).unique()"
   ]
  },
  {
   "cell_type": "code",
   "execution_count": 9,
   "metadata": {},
   "outputs": [
    {
     "data": {
      "text/plain": [
       "array(['сметана', 'родник', 'кафеакадемия', ..., 'лаундж-бармятаlounge',\n",
       "       'бармятаlounge', 'мятаloungeоктябрьская'], dtype=object)"
      ]
     },
     "execution_count": 9,
     "metadata": {},
     "output_type": "execute_result"
    }
   ],
   "source": [
    "# + - & №  это отличительные черты названий заведений, поэтому их не трогаем, остальное надо удалить и все в нижний регистр и без пробелов\n",
    "\n",
    "spisok_problem = [' ', '«', '»', '.', '(', ')', \"'\", ',']\n",
    "\n",
    "def normolize_name(x):\n",
    "    x = x.lower()\n",
    "    for i in x:\n",
    "        if i in spisok_problem:\n",
    "            x =  x.replace(i, '')\n",
    "    return x\n",
    "\n",
    "data['object_name'] = data['object_name'].map(normolize_name)\n",
    "data['object_name'].unique()"
   ]
  },
  {
   "cell_type": "code",
   "execution_count": 10,
   "metadata": {},
   "outputs": [
    {
     "data": {
      "text/plain": [
       "0"
      ]
     },
     "execution_count": 10,
     "metadata": {},
     "output_type": "execute_result"
    }
   ],
   "source": [
    "data.duplicated().sum() # Сколько дубликатов"
   ]
  },
  {
   "cell_type": "markdown",
   "metadata": {},
   "source": [
    "---"
   ]
  },
  {
   "cell_type": "markdown",
   "metadata": {},
   "source": [
    "<a id = 'stage_2'></a>\n",
    "\n",
    "# Шаг №2. Анализ данных\n",
    "\n",
    "[к оглавлению](#title)"
   ]
  },
  {
   "cell_type": "markdown",
   "metadata": {},
   "source": [
    "---"
   ]
  },
  {
   "cell_type": "markdown",
   "metadata": {},
   "source": [
    "<a id = 'stage_2_1'></a>\n",
    "\n",
    "### 1. Исследуйте соотношение видов объектов общественного питания по количеству. Постройте график\n",
    "\n",
    "[к оглавлению](#title)"
   ]
  },
  {
   "cell_type": "code",
   "execution_count": 11,
   "metadata": {},
   "outputs": [
    {
     "data": {
      "text/html": [
       "<div>\n",
       "<style scoped>\n",
       "    .dataframe tbody tr th:only-of-type {\n",
       "        vertical-align: middle;\n",
       "    }\n",
       "\n",
       "    .dataframe tbody tr th {\n",
       "        vertical-align: top;\n",
       "    }\n",
       "\n",
       "    .dataframe thead th {\n",
       "        text-align: right;\n",
       "    }\n",
       "</style>\n",
       "<table border=\"1\" class=\"dataframe\">\n",
       "  <thead>\n",
       "    <tr style=\"text-align: right;\">\n",
       "      <th></th>\n",
       "      <th>тип заведения</th>\n",
       "      <th>количество заведений</th>\n",
       "    </tr>\n",
       "  </thead>\n",
       "  <tbody>\n",
       "    <tr>\n",
       "      <th>0</th>\n",
       "      <td>кафе</td>\n",
       "      <td>6099</td>\n",
       "    </tr>\n",
       "    <tr>\n",
       "      <th>1</th>\n",
       "      <td>столовая</td>\n",
       "      <td>2587</td>\n",
       "    </tr>\n",
       "    <tr>\n",
       "      <th>2</th>\n",
       "      <td>ресторан</td>\n",
       "      <td>2285</td>\n",
       "    </tr>\n",
       "    <tr>\n",
       "      <th>3</th>\n",
       "      <td>фастфуд</td>\n",
       "      <td>1923</td>\n",
       "    </tr>\n",
       "    <tr>\n",
       "      <th>4</th>\n",
       "      <td>бар</td>\n",
       "      <td>856</td>\n",
       "    </tr>\n",
       "    <tr>\n",
       "      <th>5</th>\n",
       "      <td>буфет</td>\n",
       "      <td>585</td>\n",
       "    </tr>\n",
       "    <tr>\n",
       "      <th>6</th>\n",
       "      <td>кафетерий</td>\n",
       "      <td>398</td>\n",
       "    </tr>\n",
       "    <tr>\n",
       "      <th>7</th>\n",
       "      <td>закусочная</td>\n",
       "      <td>360</td>\n",
       "    </tr>\n",
       "    <tr>\n",
       "      <th>8</th>\n",
       "      <td>магазин (отдел кулинарии)</td>\n",
       "      <td>273</td>\n",
       "    </tr>\n",
       "  </tbody>\n",
       "</table>\n",
       "</div>"
      ],
      "text/plain": [
       "               тип заведения  количество заведений\n",
       "0                       кафе                  6099\n",
       "1                   столовая                  2587\n",
       "2                   ресторан                  2285\n",
       "3                    фастфуд                  1923\n",
       "4                        бар                   856\n",
       "5                      буфет                   585\n",
       "6                  кафетерий                   398\n",
       "7                 закусочная                   360\n",
       "8  магазин (отдел кулинарии)                   273"
      ]
     },
     "execution_count": 11,
     "metadata": {},
     "output_type": "execute_result"
    },
    {
     "data": {
      "image/png": "[encoded data removed]",
      "text/plain": [
       "<Figure size 640x480 with 1 Axes>"
      ]
     },
     "metadata": {},
     "output_type": "display_data"
    }
   ],
   "source": [
    "# Выборка\n",
    "data_1 = data['object_type']\n",
    "data_1 =\\\n",
    "data_1.value_counts() \\\n",
    "      .to_frame() \\\n",
    "      .reset_index() \\\n",
    "      .rename({'object_type': 'количество заведений', 'index': 'тип заведения'}, axis = 1)\n",
    "\n",
    "# построение\n",
    "plt.figure()\n",
    "ax =\\\n",
    "sns.barplot(data = data_1,\n",
    "            x = 'количество заведений',\n",
    "            y = 'тип заведения')\n",
    "plt.grid()\n",
    "ax.set_axisbelow(b = True)\n",
    "plt.title('Кол-во заведений по каждому типу')\n",
    "\n",
    "data_1"
   ]
  },
  {
   "cell_type": "markdown",
   "metadata": {},
   "source": [
    "- Кафе - самый распространенный тип\n",
    "- Кулинарий в магазинах, закусочных, кафетерий - мало --> до 400\n",
    "- Столовых, ресторанов и фастфудов меньше чем кафе (1900 - 2600 шт.)"
   ]
  },
  {
   "cell_type": "markdown",
   "metadata": {},
   "source": [
    "---"
   ]
  },
  {
   "cell_type": "markdown",
   "metadata": {},
   "source": [
    "<a id = 'stage_2_2'></a>\n",
    "\n",
    "### 2. Исследуйте соотношение сетевых и несетевых заведений по количеству. Постройте график\n",
    "\n",
    "[к оглавлению](#title)"
   ]
  },
  {
   "cell_type": "code",
   "execution_count": 12,
   "metadata": {},
   "outputs": [
    {
     "data": {
      "text/html": [
       "<div>\n",
       "<style scoped>\n",
       "    .dataframe tbody tr th:only-of-type {\n",
       "        vertical-align: middle;\n",
       "    }\n",
       "\n",
       "    .dataframe tbody tr th {\n",
       "        vertical-align: top;\n",
       "    }\n",
       "\n",
       "    .dataframe thead th {\n",
       "        text-align: right;\n",
       "    }\n",
       "</style>\n",
       "<table border=\"1\" class=\"dataframe\">\n",
       "  <thead>\n",
       "    <tr style=\"text-align: right;\">\n",
       "      <th></th>\n",
       "      <th>сеть/не сеть</th>\n",
       "      <th>тип заведения</th>\n",
       "      <th>кол-во заведений</th>\n",
       "    </tr>\n",
       "  </thead>\n",
       "  <tbody>\n",
       "    <tr>\n",
       "      <th>0</th>\n",
       "      <td>несетевое</td>\n",
       "      <td>бар</td>\n",
       "      <td>819</td>\n",
       "    </tr>\n",
       "    <tr>\n",
       "      <th>1</th>\n",
       "      <td>несетевое</td>\n",
       "      <td>буфет</td>\n",
       "      <td>574</td>\n",
       "    </tr>\n",
       "    <tr>\n",
       "      <th>2</th>\n",
       "      <td>несетевое</td>\n",
       "      <td>закусочная</td>\n",
       "      <td>304</td>\n",
       "    </tr>\n",
       "    <tr>\n",
       "      <th>3</th>\n",
       "      <td>несетевое</td>\n",
       "      <td>кафе</td>\n",
       "      <td>4703</td>\n",
       "    </tr>\n",
       "    <tr>\n",
       "      <th>4</th>\n",
       "      <td>несетевое</td>\n",
       "      <td>кафетерий</td>\n",
       "      <td>346</td>\n",
       "    </tr>\n",
       "    <tr>\n",
       "      <th>5</th>\n",
       "      <td>несетевое</td>\n",
       "      <td>магазин (отдел кулинарии)</td>\n",
       "      <td>195</td>\n",
       "    </tr>\n",
       "    <tr>\n",
       "      <th>6</th>\n",
       "      <td>несетевое</td>\n",
       "      <td>ресторан</td>\n",
       "      <td>1741</td>\n",
       "    </tr>\n",
       "    <tr>\n",
       "      <th>7</th>\n",
       "      <td>несетевое</td>\n",
       "      <td>столовая</td>\n",
       "      <td>2584</td>\n",
       "    </tr>\n",
       "    <tr>\n",
       "      <th>8</th>\n",
       "      <td>несетевое</td>\n",
       "      <td>фастфуд</td>\n",
       "      <td>1132</td>\n",
       "    </tr>\n",
       "    <tr>\n",
       "      <th>9</th>\n",
       "      <td>сетевое</td>\n",
       "      <td>бар</td>\n",
       "      <td>37</td>\n",
       "    </tr>\n",
       "    <tr>\n",
       "      <th>10</th>\n",
       "      <td>сетевое</td>\n",
       "      <td>буфет</td>\n",
       "      <td>11</td>\n",
       "    </tr>\n",
       "    <tr>\n",
       "      <th>11</th>\n",
       "      <td>сетевое</td>\n",
       "      <td>закусочная</td>\n",
       "      <td>56</td>\n",
       "    </tr>\n",
       "    <tr>\n",
       "      <th>12</th>\n",
       "      <td>сетевое</td>\n",
       "      <td>кафе</td>\n",
       "      <td>1396</td>\n",
       "    </tr>\n",
       "    <tr>\n",
       "      <th>13</th>\n",
       "      <td>сетевое</td>\n",
       "      <td>кафетерий</td>\n",
       "      <td>52</td>\n",
       "    </tr>\n",
       "    <tr>\n",
       "      <th>14</th>\n",
       "      <td>сетевое</td>\n",
       "      <td>магазин (отдел кулинарии)</td>\n",
       "      <td>78</td>\n",
       "    </tr>\n",
       "    <tr>\n",
       "      <th>15</th>\n",
       "      <td>сетевое</td>\n",
       "      <td>ресторан</td>\n",
       "      <td>544</td>\n",
       "    </tr>\n",
       "    <tr>\n",
       "      <th>16</th>\n",
       "      <td>сетевое</td>\n",
       "      <td>столовая</td>\n",
       "      <td>3</td>\n",
       "    </tr>\n",
       "    <tr>\n",
       "      <th>17</th>\n",
       "      <td>сетевое</td>\n",
       "      <td>фастфуд</td>\n",
       "      <td>791</td>\n",
       "    </tr>\n",
       "  </tbody>\n",
       "</table>\n",
       "</div>"
      ],
      "text/plain": [
       "   сеть/не сеть              тип заведения  кол-во заведений\n",
       "0     несетевое                        бар               819\n",
       "1     несетевое                      буфет               574\n",
       "2     несетевое                 закусочная               304\n",
       "3     несетевое                       кафе              4703\n",
       "4     несетевое                  кафетерий               346\n",
       "5     несетевое  магазин (отдел кулинарии)               195\n",
       "6     несетевое                   ресторан              1741\n",
       "7     несетевое                   столовая              2584\n",
       "8     несетевое                    фастфуд              1132\n",
       "9       сетевое                        бар                37\n",
       "10      сетевое                      буфет                11\n",
       "11      сетевое                 закусочная                56\n",
       "12      сетевое                       кафе              1396\n",
       "13      сетевое                  кафетерий                52\n",
       "14      сетевое  магазин (отдел кулинарии)                78\n",
       "15      сетевое                   ресторан               544\n",
       "16      сетевое                   столовая                 3\n",
       "17      сетевое                    фастфуд               791"
      ]
     },
     "execution_count": 12,
     "metadata": {},
     "output_type": "execute_result"
    },
    {
     "data": {
      "image/png": "[encoded data removed]",
      "text/plain": [
       "<Figure size 640x480 with 1 Axes>"
      ]
     },
     "metadata": {},
     "output_type": "display_data"
    }
   ],
   "source": [
    "# Подготовка датасета под график\n",
    "data2 = \\\n",
    "data.groupby(['chain', 'object_type']) \\\n",
    "    .agg({'chain': 'count'}) \\\n",
    "    .rename({'chain': 'кол-во заведений'}, axis=1) \\\n",
    "    .reset_index() \\\n",
    "    .rename({'chain': 'сеть/не сеть', 'object_type': 'тип заведения'}, axis = 1)\n",
    "\n",
    "# построение\n",
    "plt.figure()\n",
    "ax =\\\n",
    "sns.barplot(data = data2,\n",
    "            x = 'кол-во заведений',\n",
    "            y = 'тип заведения',\n",
    "            hue = 'сеть/не сеть')\n",
    "plt.grid()\n",
    "ax.set_axisbelow(b = True)\n",
    "plt.title('Кол-во заведений по каждому типу')\n",
    "\n",
    "data2"
   ]
  },
  {
   "cell_type": "code",
   "execution_count": 13,
   "metadata": {},
   "outputs": [
    {
     "data": {
      "text/plain": [
       "Text(0.5, 1.0, 'Кол-во заведений по сетевому (несетевому) виду')"
      ]
     },
     "execution_count": 13,
     "metadata": {},
     "output_type": "execute_result"
    },
    {
     "data": {
      "image/png": "[encoded data removed]",
      "text/plain": [
       "<Figure size 640x480 with 1 Axes>"
      ]
     },
     "metadata": {},
     "output_type": "display_data"
    }
   ],
   "source": [
    "data2_dop = data.groupby('chain').agg({'chain': 'count'}).rename({'chain': 'кол-во заведений'}, axis=1).reset_index()\n",
    "sns.barplot(data = data2_dop,\n",
    "            x = 'chain',\n",
    "            y = 'кол-во заведений')\n",
    "plt.xlabel('')\n",
    "plt.title('Кол-во заведений по сетевому (несетевому) виду')"
   ]
  },
  {
   "cell_type": "markdown",
   "metadata": {},
   "source": [
    "- среди сетевых и не сетвых заведений самое популярное - кафе\n",
    "- кол-во сетевых буфетов, столовых, баров, закусочных, кафетерий, кулинарий очень мало\n",
    "- кол-во несетевых заведений гораздо больше"
   ]
  },
  {
   "cell_type": "markdown",
   "metadata": {},
   "source": [
    "---"
   ]
  },
  {
   "cell_type": "markdown",
   "metadata": {},
   "source": [
    "<a id = 'stage_2_3'></a>\n",
    "\n",
    "### 3. Для какого вида объекта общественного питания характерно сетевое распространение?\n",
    "\n",
    "[к оглавлению](#title)"
   ]
  },
  {
   "cell_type": "code",
   "execution_count": 14,
   "metadata": {},
   "outputs": [
    {
     "data": {
      "text/html": [
       "<div>\n",
       "<style scoped>\n",
       "    .dataframe tbody tr th:only-of-type {\n",
       "        vertical-align: middle;\n",
       "    }\n",
       "\n",
       "    .dataframe tbody tr th {\n",
       "        vertical-align: top;\n",
       "    }\n",
       "\n",
       "    .dataframe thead th {\n",
       "        text-align: right;\n",
       "    }\n",
       "</style>\n",
       "<table border=\"1\" class=\"dataframe\">\n",
       "  <thead>\n",
       "    <tr style=\"text-align: right;\">\n",
       "      <th></th>\n",
       "      <th>chain</th>\n",
       "      <th>object_type</th>\n",
       "      <th>count</th>\n",
       "      <th>all_count</th>\n",
       "      <th>dolya</th>\n",
       "    </tr>\n",
       "  </thead>\n",
       "  <tbody>\n",
       "    <tr>\n",
       "      <th>0</th>\n",
       "      <td>несетевое</td>\n",
       "      <td>бар</td>\n",
       "      <td>819</td>\n",
       "      <td>856</td>\n",
       "      <td>96</td>\n",
       "    </tr>\n",
       "    <tr>\n",
       "      <th>1</th>\n",
       "      <td>сетевое</td>\n",
       "      <td>бар</td>\n",
       "      <td>37</td>\n",
       "      <td>856</td>\n",
       "      <td>4</td>\n",
       "    </tr>\n",
       "    <tr>\n",
       "      <th>2</th>\n",
       "      <td>несетевое</td>\n",
       "      <td>буфет</td>\n",
       "      <td>574</td>\n",
       "      <td>585</td>\n",
       "      <td>98</td>\n",
       "    </tr>\n",
       "    <tr>\n",
       "      <th>3</th>\n",
       "      <td>сетевое</td>\n",
       "      <td>буфет</td>\n",
       "      <td>11</td>\n",
       "      <td>585</td>\n",
       "      <td>2</td>\n",
       "    </tr>\n",
       "    <tr>\n",
       "      <th>4</th>\n",
       "      <td>несетевое</td>\n",
       "      <td>закусочная</td>\n",
       "      <td>304</td>\n",
       "      <td>360</td>\n",
       "      <td>84</td>\n",
       "    </tr>\n",
       "    <tr>\n",
       "      <th>5</th>\n",
       "      <td>сетевое</td>\n",
       "      <td>закусочная</td>\n",
       "      <td>56</td>\n",
       "      <td>360</td>\n",
       "      <td>16</td>\n",
       "    </tr>\n",
       "    <tr>\n",
       "      <th>6</th>\n",
       "      <td>несетевое</td>\n",
       "      <td>кафе</td>\n",
       "      <td>4703</td>\n",
       "      <td>6099</td>\n",
       "      <td>77</td>\n",
       "    </tr>\n",
       "    <tr>\n",
       "      <th>7</th>\n",
       "      <td>сетевое</td>\n",
       "      <td>кафе</td>\n",
       "      <td>1396</td>\n",
       "      <td>6099</td>\n",
       "      <td>23</td>\n",
       "    </tr>\n",
       "    <tr>\n",
       "      <th>8</th>\n",
       "      <td>несетевое</td>\n",
       "      <td>кафетерий</td>\n",
       "      <td>346</td>\n",
       "      <td>398</td>\n",
       "      <td>87</td>\n",
       "    </tr>\n",
       "    <tr>\n",
       "      <th>9</th>\n",
       "      <td>сетевое</td>\n",
       "      <td>кафетерий</td>\n",
       "      <td>52</td>\n",
       "      <td>398</td>\n",
       "      <td>13</td>\n",
       "    </tr>\n",
       "    <tr>\n",
       "      <th>10</th>\n",
       "      <td>несетевое</td>\n",
       "      <td>магазин (отдел кулинарии)</td>\n",
       "      <td>195</td>\n",
       "      <td>273</td>\n",
       "      <td>71</td>\n",
       "    </tr>\n",
       "    <tr>\n",
       "      <th>11</th>\n",
       "      <td>сетевое</td>\n",
       "      <td>магазин (отдел кулинарии)</td>\n",
       "      <td>78</td>\n",
       "      <td>273</td>\n",
       "      <td>29</td>\n",
       "    </tr>\n",
       "    <tr>\n",
       "      <th>12</th>\n",
       "      <td>несетевое</td>\n",
       "      <td>ресторан</td>\n",
       "      <td>1741</td>\n",
       "      <td>2285</td>\n",
       "      <td>76</td>\n",
       "    </tr>\n",
       "    <tr>\n",
       "      <th>13</th>\n",
       "      <td>сетевое</td>\n",
       "      <td>ресторан</td>\n",
       "      <td>544</td>\n",
       "      <td>2285</td>\n",
       "      <td>24</td>\n",
       "    </tr>\n",
       "    <tr>\n",
       "      <th>14</th>\n",
       "      <td>несетевое</td>\n",
       "      <td>столовая</td>\n",
       "      <td>2584</td>\n",
       "      <td>2587</td>\n",
       "      <td>100</td>\n",
       "    </tr>\n",
       "    <tr>\n",
       "      <th>15</th>\n",
       "      <td>сетевое</td>\n",
       "      <td>столовая</td>\n",
       "      <td>3</td>\n",
       "      <td>2587</td>\n",
       "      <td>0</td>\n",
       "    </tr>\n",
       "    <tr>\n",
       "      <th>16</th>\n",
       "      <td>несетевое</td>\n",
       "      <td>фастфуд</td>\n",
       "      <td>1132</td>\n",
       "      <td>1923</td>\n",
       "      <td>59</td>\n",
       "    </tr>\n",
       "    <tr>\n",
       "      <th>17</th>\n",
       "      <td>сетевое</td>\n",
       "      <td>фастфуд</td>\n",
       "      <td>791</td>\n",
       "      <td>1923</td>\n",
       "      <td>41</td>\n",
       "    </tr>\n",
       "  </tbody>\n",
       "</table>\n",
       "</div>"
      ],
      "text/plain": [
       "        chain                object_type  count  all_count  dolya\n",
       "0   несетевое                        бар    819        856     96\n",
       "1     сетевое                        бар     37        856      4\n",
       "2   несетевое                      буфет    574        585     98\n",
       "3     сетевое                      буфет     11        585      2\n",
       "4   несетевое                 закусочная    304        360     84\n",
       "5     сетевое                 закусочная     56        360     16\n",
       "6   несетевое                       кафе   4703       6099     77\n",
       "7     сетевое                       кафе   1396       6099     23\n",
       "8   несетевое                  кафетерий    346        398     87\n",
       "9     сетевое                  кафетерий     52        398     13\n",
       "10  несетевое  магазин (отдел кулинарии)    195        273     71\n",
       "11    сетевое  магазин (отдел кулинарии)     78        273     29\n",
       "12  несетевое                   ресторан   1741       2285     76\n",
       "13    сетевое                   ресторан    544       2285     24\n",
       "14  несетевое                   столовая   2584       2587    100\n",
       "15    сетевое                   столовая      3       2587      0\n",
       "16  несетевое                    фастфуд   1132       1923     59\n",
       "17    сетевое                    фастфуд    791       1923     41"
      ]
     },
     "execution_count": 14,
     "metadata": {},
     "output_type": "execute_result"
    }
   ],
   "source": [
    "# подготовка датасета к построению\n",
    "\n",
    "# подсчет кол-ва заведений по каждому типу (кафе, столовая и тд.) и по виду (сеть/не сеть)\n",
    "data3 = \\\n",
    "data.groupby(['chain', 'object_type'])['chain'].count().to_frame().rename({'chain': 'count'}, axis=1).reset_index()\n",
    "\n",
    "# Подсчет всех заведений по типу (кафе, столовая и тд.) для дальнейшего merge с предыдущим датасетом\n",
    "data3_dop =\\\n",
    "data.groupby('object_type')['object_type'].count().to_frame().rename({'object_type': 'all_count'}, axis=1).reset_index()\n",
    "\n",
    "# merge\n",
    "data3 =\\\n",
    "pd.merge(data3,\n",
    "         data3_dop,\n",
    "         on = 'object_type')\n",
    "\n",
    "# посчет доли\n",
    "data3 = data3.eval('dolya = (count / all_count) * 100').round()\n",
    "data3['dolya'] = data3['dolya'].astype(int)\n",
    "data3"
   ]
  },
  {
   "cell_type": "code",
   "execution_count": 15,
   "metadata": {},
   "outputs": [
    {
     "data": {
      "text/plain": [
       "<matplotlib.lines.Line2D at 0x208960ec9d0>"
      ]
     },
     "execution_count": 15,
     "metadata": {},
     "output_type": "execute_result"
    },
    {
     "data": {
      "image/png": "[encoded data removed]",
      "text/plain": [
       "<Figure size 700x500 with 1 Axes>"
      ]
     },
     "metadata": {},
     "output_type": "display_data"
    }
   ],
   "source": [
    "# построение\n",
    "plt.figure(figsize=(7, 5))\n",
    "\n",
    "sns.barplot(data = data3,\n",
    "            x = 'dolya',\n",
    "            y = 'object_type',\n",
    "            hue = 'chain')\n",
    "\n",
    "plt.legend(bbox_to_anchor = (1, 1))\n",
    "plt.xlabel('доля (%)')\n",
    "plt.ylabel('тип заведения')\n",
    "plt.title('Доля сетевых/несетевых по каждому типу заведений')\n",
    "plt.axvline(x = 100,\n",
    "            color = 'red',\n",
    "            linestyle = '--')"
   ]
  },
  {
   "cell_type": "markdown",
   "metadata": {},
   "source": [
    "- больше всего заведений сетевого типа - кафе (фастфуфов и ресторанов тоже много)\n",
    "- сетевых столовых практически нет\n",
    "- доля сетевых заведений по всем видам предприятий меньше чем у несетевых\n",
    "- фастфуд - единственный тип заведения, который хоть как-то борется за сеть (40% против 60% )"
   ]
  },
  {
   "cell_type": "markdown",
   "metadata": {},
   "source": [
    "---"
   ]
  },
  {
   "cell_type": "markdown",
   "metadata": {},
   "source": [
    "<a id = 'stage_2_4'></a>\n",
    "\n",
    "### 4. Что характерно для сетевых заведений: много заведений с небольшим числом посадочных мест в каждом или мало заведений с большим количеством посадочных мест?\n",
    "\n",
    "[к оглавлению](#title)"
   ]
  },
  {
   "cell_type": "code",
   "execution_count": 16,
   "metadata": {},
   "outputs": [
    {
     "data": {
      "image/png": "[encoded data removed]",
      "text/plain": [
       "<Figure size 640x480 with 1 Axes>"
      ]
     },
     "metadata": {},
     "output_type": "display_data"
    }
   ],
   "source": [
    "data4 = data[data['chain'] == 'сетевое']\n",
    "\n",
    "data4['number'].plot(kind = 'hist',\n",
    "           bins = 50)\n",
    "plt.title('Распределение кол-во посадочных мест в сетевых заведениях')\n",
    "plt.ylabel('частота')\n",
    "plt.xlabel('кол-во посадочных мест')\n",
    "plt.grid()"
   ]
  },
  {
   "cell_type": "code",
   "execution_count": 17,
   "metadata": {},
   "outputs": [
    {
     "data": {
      "text/plain": [
       "Text(0.5, 0, 'кол-во посадочных мест')"
      ]
     },
     "execution_count": 17,
     "metadata": {},
     "output_type": "execute_result"
    },
    {
     "data": {
      "image/png": "[encoded data removed]",
      "text/plain": [
       "<Figure size 640x480 with 1 Axes>"
      ]
     },
     "metadata": {},
     "output_type": "display_data"
    }
   ],
   "source": [
    "sns.boxplot(data = data4,\n",
    "            x = 'number')\n",
    "plt.grid(axis = 'x')\n",
    "plt.title('boxplot график кол-ва посадочных мест в сетевых заведениях')\n",
    "plt.xlabel('кол-во посадочных мест')"
   ]
  },
  {
   "cell_type": "markdown",
   "metadata": {},
   "source": [
    "Для сетевых заведений характерны:\n",
    "\n",
    "- мало посадочных мест\n",
    "- много заведений"
   ]
  },
  {
   "cell_type": "markdown",
   "metadata": {},
   "source": [
    "---"
   ]
  },
  {
   "cell_type": "markdown",
   "metadata": {},
   "source": [
    "<a id = 'stage_2_5'></a>\n",
    "\n",
    "### 5. Для каждого вида объекта общественного питания опишите среднее количество посадочных мест. Какой вид предоставляет в среднем самое большое количество посадочных мест? Постройте графики\n",
    "\n",
    "[к оглавлению](#title)"
   ]
  },
  {
   "cell_type": "code",
   "execution_count": 18,
   "metadata": {},
   "outputs": [
    {
     "data": {
      "image/png": "[encoded data removed]",
      "text/plain": [
       "<Figure size 640x480 with 1 Axes>"
      ]
     },
     "metadata": {},
     "output_type": "display_data"
    }
   ],
   "source": [
    "# Построим boxplot график посадочных мест для каждого типа заведения \n",
    "ax =\\\n",
    "sns.boxplot(data = data,\n",
    "            x = 'number',\n",
    "            y = 'object_type')\n",
    "plt.xlim((-30,400))\n",
    "plt.title('Boxplot график по кол-ву посадочных мест среди всех типов заведений')\n",
    "plt.xlabel('кол-во посадочных мест')\n",
    "plt.ylabel('тип заведения')\n",
    "plt.grid(axis = 'x')\n",
    "ax.set_axisbelow(b = True)"
   ]
  },
  {
   "cell_type": "code",
   "execution_count": 19,
   "metadata": {},
   "outputs": [
    {
     "data": {
      "text/html": [
       "<div>\n",
       "<style scoped>\n",
       "    .dataframe tbody tr th:only-of-type {\n",
       "        vertical-align: middle;\n",
       "    }\n",
       "\n",
       "    .dataframe tbody tr th {\n",
       "        vertical-align: top;\n",
       "    }\n",
       "\n",
       "    .dataframe thead th {\n",
       "        text-align: right;\n",
       "    }\n",
       "</style>\n",
       "<table border=\"1\" class=\"dataframe\">\n",
       "  <thead>\n",
       "    <tr style=\"text-align: right;\">\n",
       "      <th></th>\n",
       "      <th>object_type</th>\n",
       "      <th>50%</th>\n",
       "    </tr>\n",
       "  </thead>\n",
       "  <tbody>\n",
       "    <tr>\n",
       "      <th>0</th>\n",
       "      <td>столовая</td>\n",
       "      <td>103.0</td>\n",
       "    </tr>\n",
       "    <tr>\n",
       "      <th>1</th>\n",
       "      <td>ресторан</td>\n",
       "      <td>80.0</td>\n",
       "    </tr>\n",
       "    <tr>\n",
       "      <th>2</th>\n",
       "      <td>бар</td>\n",
       "      <td>35.0</td>\n",
       "    </tr>\n",
       "    <tr>\n",
       "      <th>3</th>\n",
       "      <td>буфет</td>\n",
       "      <td>32.0</td>\n",
       "    </tr>\n",
       "    <tr>\n",
       "      <th>4</th>\n",
       "      <td>кафе</td>\n",
       "      <td>30.0</td>\n",
       "    </tr>\n",
       "    <tr>\n",
       "      <th>5</th>\n",
       "      <td>кафетерий</td>\n",
       "      <td>6.0</td>\n",
       "    </tr>\n",
       "    <tr>\n",
       "      <th>6</th>\n",
       "      <td>фастфуд</td>\n",
       "      <td>5.0</td>\n",
       "    </tr>\n",
       "    <tr>\n",
       "      <th>7</th>\n",
       "      <td>закусочная</td>\n",
       "      <td>0.0</td>\n",
       "    </tr>\n",
       "    <tr>\n",
       "      <th>8</th>\n",
       "      <td>магазин (отдел кулинарии)</td>\n",
       "      <td>0.0</td>\n",
       "    </tr>\n",
       "  </tbody>\n",
       "</table>\n",
       "</div>"
      ],
      "text/plain": [
       "                 object_type    50%\n",
       "0                   столовая  103.0\n",
       "1                   ресторан   80.0\n",
       "2                        бар   35.0\n",
       "3                      буфет   32.0\n",
       "4                       кафе   30.0\n",
       "5                  кафетерий    6.0\n",
       "6                    фастфуд    5.0\n",
       "7                 закусочная    0.0\n",
       "8  магазин (отдел кулинарии)    0.0"
      ]
     },
     "execution_count": 19,
     "metadata": {},
     "output_type": "execute_result"
    },
    {
     "data": {
      "image/png": "[encoded data removed]",
      "text/plain": [
       "<Figure size 640x480 with 1 Axes>"
      ]
     },
     "metadata": {},
     "output_type": "display_data"
    }
   ],
   "source": [
    "data5 =\\\n",
    "data.groupby('object_type')['number'].describe().round(1)['50%'].sort_values(ascending=False).reset_index()\n",
    "sns.barplot(data = data5,\n",
    "            x = '50%',\n",
    "            y = 'object_type',\n",
    "            palette='hls')\n",
    "plt.title('Среднее значение посадочных мест по каждому типу заведений')\n",
    "plt.xlabel('кол-во')\n",
    "plt.ylabel('тип заведения')\n",
    "plt.grid(axis = 'x')\n",
    "data5"
   ]
  },
  {
   "cell_type": "markdown",
   "metadata": {},
   "source": [
    "В столовых и ресторанах больше всего посадочных мест"
   ]
  },
  {
   "cell_type": "markdown",
   "metadata": {},
   "source": [
    "---"
   ]
  },
  {
   "cell_type": "markdown",
   "metadata": {},
   "source": [
    "<a id = 'stage_2_6'></a>\n",
    "\n",
    "### 6. Выделите в отдельный столбец информацию об улице из столбца address\n",
    "\n",
    "[к оглавлению](#title)"
   ]
  },
  {
   "cell_type": "code",
   "execution_count": 20,
   "metadata": {},
   "outputs": [
    {
     "data": {
      "text/plain": [
       "0                                    улица Егора Абакумова\n",
       "1                                         улица Талалихина\n",
       "2                                     Абельмановская улица\n",
       "3                                       Абрамцевская улица\n",
       "4                                       Абрамцевская улица\n",
       "                               ...                        \n",
       "15361                               3-й Крутицкий переулок\n",
       "15362                                   улица Земляной Вал\n",
       "15363                                   улица Земляной Вал\n",
       "15364     поселение Московский, Киевское шоссе, 22-й ки...\n",
       "15365                                    Ходынский бульвар\n",
       "Name: street, Length: 15366, dtype: object"
      ]
     },
     "execution_count": 20,
     "metadata": {},
     "output_type": "execute_result"
    }
   ],
   "source": [
    "def street(x):\n",
    "    index_0 = x.find('город Москва')\n",
    "    index_1 = x.find('дом')\n",
    "\n",
    "    # исправляем косяки - ниже описаны, почему они появились\n",
    "    if 'Талдомская улица' in x:\n",
    "        return 'Талдомская улица'\n",
    "    # если вдруг нет фразы \"город Москва\"\n",
    "    if index_0 == -1:\n",
    "        return x[:index_1-2]\n",
    "    else:\n",
    "        return x[index_0+13:index_1-2]\n",
    "\n",
    "data['street'] = data['address'].map(street)\n",
    "data['street']"
   ]
  },
  {
   "cell_type": "code",
   "execution_count": 21,
   "metadata": {},
   "outputs": [],
   "source": [
    "# вот было проблемное место: в некоторых названия улиц есть слово дом (Домодедовская) , поэтому не переводим в нижний регистр, \n",
    "# также есть проблема: улица Талдомская (тоже \"дом\" в нижнем регистре)"
   ]
  },
  {
   "cell_type": "code",
   "execution_count": 22,
   "metadata": {},
   "outputs": [
    {
     "data": {
      "text/html": [
       "<div>\n",
       "<style scoped>\n",
       "    .dataframe tbody tr th:only-of-type {\n",
       "        vertical-align: middle;\n",
       "    }\n",
       "\n",
       "    .dataframe tbody tr th {\n",
       "        vertical-align: top;\n",
       "    }\n",
       "\n",
       "    .dataframe thead th {\n",
       "        text-align: right;\n",
       "    }\n",
       "</style>\n",
       "<table border=\"1\" class=\"dataframe\">\n",
       "  <thead>\n",
       "    <tr style=\"text-align: right;\">\n",
       "      <th></th>\n",
       "      <th>id</th>\n",
       "      <th>object_name</th>\n",
       "      <th>chain</th>\n",
       "      <th>object_type</th>\n",
       "      <th>address</th>\n",
       "      <th>number</th>\n",
       "      <th>street</th>\n",
       "    </tr>\n",
       "  </thead>\n",
       "  <tbody>\n",
       "    <tr>\n",
       "      <th>0</th>\n",
       "      <td>151635</td>\n",
       "      <td>сметана</td>\n",
       "      <td>несетевое</td>\n",
       "      <td>кафе</td>\n",
       "      <td>город Москва, улица Егора Абакумова, дом 9</td>\n",
       "      <td>48</td>\n",
       "      <td>улица Егора Абакумова</td>\n",
       "    </tr>\n",
       "    <tr>\n",
       "      <th>1</th>\n",
       "      <td>77874</td>\n",
       "      <td>родник</td>\n",
       "      <td>несетевое</td>\n",
       "      <td>кафе</td>\n",
       "      <td>город Москва, улица Талалихина, дом 2/1, корпус 1</td>\n",
       "      <td>35</td>\n",
       "      <td>улица Талалихина</td>\n",
       "    </tr>\n",
       "    <tr>\n",
       "      <th>2</th>\n",
       "      <td>24309</td>\n",
       "      <td>кафеакадемия</td>\n",
       "      <td>несетевое</td>\n",
       "      <td>кафе</td>\n",
       "      <td>город Москва, Абельмановская улица, дом 6</td>\n",
       "      <td>95</td>\n",
       "      <td>Абельмановская улица</td>\n",
       "    </tr>\n",
       "    <tr>\n",
       "      <th>3</th>\n",
       "      <td>21894</td>\n",
       "      <td>пиццетория</td>\n",
       "      <td>сетевое</td>\n",
       "      <td>кафе</td>\n",
       "      <td>город Москва, Абрамцевская улица, дом 1</td>\n",
       "      <td>40</td>\n",
       "      <td>Абрамцевская улица</td>\n",
       "    </tr>\n",
       "    <tr>\n",
       "      <th>4</th>\n",
       "      <td>119365</td>\n",
       "      <td>кафевишневаяметель</td>\n",
       "      <td>несетевое</td>\n",
       "      <td>кафе</td>\n",
       "      <td>город Москва, Абрамцевская улица, дом 9, корпус 1</td>\n",
       "      <td>50</td>\n",
       "      <td>Абрамцевская улица</td>\n",
       "    </tr>\n",
       "  </tbody>\n",
       "</table>\n",
       "</div>"
      ],
      "text/plain": [
       "       id         object_name      chain object_type  \\\n",
       "0  151635             сметана  несетевое        кафе   \n",
       "1   77874              родник  несетевое        кафе   \n",
       "2   24309        кафеакадемия  несетевое        кафе   \n",
       "3   21894          пиццетория    сетевое        кафе   \n",
       "4  119365  кафевишневаяметель  несетевое        кафе   \n",
       "\n",
       "                                             address  number  \\\n",
       "0         город Москва, улица Егора Абакумова, дом 9      48   \n",
       "1  город Москва, улица Талалихина, дом 2/1, корпус 1      35   \n",
       "2          город Москва, Абельмановская улица, дом 6      95   \n",
       "3            город Москва, Абрамцевская улица, дом 1      40   \n",
       "4  город Москва, Абрамцевская улица, дом 9, корпус 1      50   \n",
       "\n",
       "                   street  \n",
       "0   улица Егора Абакумова  \n",
       "1        улица Талалихина  \n",
       "2    Абельмановская улица  \n",
       "3      Абрамцевская улица  \n",
       "4      Абрамцевская улица  "
      ]
     },
     "execution_count": 22,
     "metadata": {},
     "output_type": "execute_result"
    }
   ],
   "source": [
    "# еще есть строки с записью 'владение', их тоже учтем:\n",
    "def street_vladenie(x):\n",
    "    if 'владение' in x:\n",
    "        index_1 = x.find('владение')\n",
    "        x = x[:index_1-2]\n",
    "        return x\n",
    "    else:\n",
    "        return x\n",
    "\n",
    "data['street'] = data['street'].map(street_vladenie)\n",
    "data.head()\n"
   ]
  },
  {
   "cell_type": "code",
   "execution_count": 23,
   "metadata": {},
   "outputs": [
    {
     "data": {
      "text/html": [
       "<div>\n",
       "<style scoped>\n",
       "    .dataframe tbody tr th:only-of-type {\n",
       "        vertical-align: middle;\n",
       "    }\n",
       "\n",
       "    .dataframe tbody tr th {\n",
       "        vertical-align: top;\n",
       "    }\n",
       "\n",
       "    .dataframe thead th {\n",
       "        text-align: right;\n",
       "    }\n",
       "</style>\n",
       "<table border=\"1\" class=\"dataframe\">\n",
       "  <thead>\n",
       "    <tr style=\"text-align: right;\">\n",
       "      <th></th>\n",
       "      <th>0</th>\n",
       "    </tr>\n",
       "  </thead>\n",
       "  <tbody>\n",
       "    <tr>\n",
       "      <th>0</th>\n",
       "      <td>1-я линия Хорошёвского Серебряного Бора</td>\n",
       "    </tr>\n",
       "    <tr>\n",
       "      <th>1</th>\n",
       "      <td>улица Мичуринский Проспект, Олимпийская Деревня</td>\n",
       "    </tr>\n",
       "    <tr>\n",
       "      <th>2</th>\n",
       "      <td>поселение Внуковское, улица Лётчика Ульянина</td>\n",
       "    </tr>\n",
       "    <tr>\n",
       "      <th>3</th>\n",
       "      <td>поселение Новофедоровское, деревня Рассудово,...</td>\n",
       "    </tr>\n",
       "    <tr>\n",
       "      <th>4</th>\n",
       "      <td>поселение Марушкинское, деревня Власово, Юбил...</td>\n",
       "    </tr>\n",
       "    <tr>\n",
       "      <th>...</th>\n",
       "      <td>...</td>\n",
       "    </tr>\n",
       "    <tr>\n",
       "      <th>147</th>\n",
       "      <td>поселение Десеновское, улица Дмитрия Рябинкина</td>\n",
       "    </tr>\n",
       "    <tr>\n",
       "      <th>148</th>\n",
       "      <td>поселение Воскресенское, деревня Ямонтово</td>\n",
       "    </tr>\n",
       "    <tr>\n",
       "      <th>149</th>\n",
       "      <td>поселение \"Мосрентген\", деревня Дудкино, владени</td>\n",
       "    </tr>\n",
       "    <tr>\n",
       "      <th>150</th>\n",
       "      <td>поселение Щаповское, улица Евгения Родионова,...</td>\n",
       "    </tr>\n",
       "    <tr>\n",
       "      <th>151</th>\n",
       "      <td>поселение Первомайское, деревня Фоминское, Ле...</td>\n",
       "    </tr>\n",
       "  </tbody>\n",
       "</table>\n",
       "<p>152 rows × 1 columns</p>\n",
       "</div>"
      ],
      "text/plain": [
       "                                                     0\n",
       "0              1-я линия Хорошёвского Серебряного Бора\n",
       "1      улица Мичуринский Проспект, Олимпийская Деревня\n",
       "2         поселение Внуковское, улица Лётчика Ульянина\n",
       "3     поселение Новофедоровское, деревня Рассудово,...\n",
       "4     поселение Марушкинское, деревня Власово, Юбил...\n",
       "..                                                 ...\n",
       "147     поселение Десеновское, улица Дмитрия Рябинкина\n",
       "148          поселение Воскресенское, деревня Ямонтово\n",
       "149   поселение \"Мосрентген\", деревня Дудкино, владени\n",
       "150   поселение Щаповское, улица Евгения Родионова,...\n",
       "151   поселение Первомайское, деревня Фоминское, Ле...\n",
       "\n",
       "[152 rows x 1 columns]"
      ]
     },
     "execution_count": 23,
     "metadata": {},
     "output_type": "execute_result"
    }
   ],
   "source": [
    "data['len_street'] = data['street'].map(lambda x: len(x))\n",
    "pd.DataFrame(data.query('len_street >= 40')['street'].unique())"
   ]
  },
  {
   "cell_type": "markdown",
   "metadata": {},
   "source": [
    "Оставляем подробные адреса ( Например: поселение Московский, Киевское шоссе, 22-й километр и т.д.)\n",
    "Если надо исключительно улицу (без уточненных данных поселока, и т.д.) то можно просто использовать список все видов улиц Москвы \n",
    "(на сайте: http://mosopen.ru/streets/type/17) и сделать find() по словам: шоссе, проспект, мост, набережная, аллея и тд. (параллельно индексируя)\n",
    "\n",
    "Но нам в итоге нужны более подробные сведения, чтобы решить следующие пункты ---> оставляем поселок, 22-й км и тд."
   ]
  },
  {
   "cell_type": "code",
   "execution_count": 24,
   "metadata": {},
   "outputs": [
    {
     "data": {
      "text/html": [
       "<div>\n",
       "<style scoped>\n",
       "    .dataframe tbody tr th:only-of-type {\n",
       "        vertical-align: middle;\n",
       "    }\n",
       "\n",
       "    .dataframe tbody tr th {\n",
       "        vertical-align: top;\n",
       "    }\n",
       "\n",
       "    .dataframe thead th {\n",
       "        text-align: right;\n",
       "    }\n",
       "</style>\n",
       "<table border=\"1\" class=\"dataframe\">\n",
       "  <thead>\n",
       "    <tr style=\"text-align: right;\">\n",
       "      <th></th>\n",
       "      <th>id</th>\n",
       "      <th>object_name</th>\n",
       "      <th>chain</th>\n",
       "      <th>object_type</th>\n",
       "      <th>address</th>\n",
       "      <th>number</th>\n",
       "      <th>street</th>\n",
       "      <th>len_street</th>\n",
       "    </tr>\n",
       "  </thead>\n",
       "  <tbody>\n",
       "    <tr>\n",
       "      <th>0</th>\n",
       "      <td>151635</td>\n",
       "      <td>сметана</td>\n",
       "      <td>несетевое</td>\n",
       "      <td>кафе</td>\n",
       "      <td>город Москва, улица Егора Абакумова, дом 9</td>\n",
       "      <td>48</td>\n",
       "      <td>улица Егора Абакумова</td>\n",
       "      <td>22</td>\n",
       "    </tr>\n",
       "    <tr>\n",
       "      <th>1</th>\n",
       "      <td>77874</td>\n",
       "      <td>родник</td>\n",
       "      <td>несетевое</td>\n",
       "      <td>кафе</td>\n",
       "      <td>город Москва, улица Талалихина, дом 2/1, корпус 1</td>\n",
       "      <td>35</td>\n",
       "      <td>улица Талалихина</td>\n",
       "      <td>17</td>\n",
       "    </tr>\n",
       "    <tr>\n",
       "      <th>2</th>\n",
       "      <td>24309</td>\n",
       "      <td>кафеакадемия</td>\n",
       "      <td>несетевое</td>\n",
       "      <td>кафе</td>\n",
       "      <td>город Москва, Абельмановская улица, дом 6</td>\n",
       "      <td>95</td>\n",
       "      <td>Абельмановская улица</td>\n",
       "      <td>21</td>\n",
       "    </tr>\n",
       "    <tr>\n",
       "      <th>3</th>\n",
       "      <td>21894</td>\n",
       "      <td>пиццетория</td>\n",
       "      <td>сетевое</td>\n",
       "      <td>кафе</td>\n",
       "      <td>город Москва, Абрамцевская улица, дом 1</td>\n",
       "      <td>40</td>\n",
       "      <td>Абрамцевская улица</td>\n",
       "      <td>19</td>\n",
       "    </tr>\n",
       "    <tr>\n",
       "      <th>4</th>\n",
       "      <td>119365</td>\n",
       "      <td>кафевишневаяметель</td>\n",
       "      <td>несетевое</td>\n",
       "      <td>кафе</td>\n",
       "      <td>город Москва, Абрамцевская улица, дом 9, корпус 1</td>\n",
       "      <td>50</td>\n",
       "      <td>Абрамцевская улица</td>\n",
       "      <td>19</td>\n",
       "    </tr>\n",
       "  </tbody>\n",
       "</table>\n",
       "</div>"
      ],
      "text/plain": [
       "       id         object_name      chain object_type  \\\n",
       "0  151635             сметана  несетевое        кафе   \n",
       "1   77874              родник  несетевое        кафе   \n",
       "2   24309        кафеакадемия  несетевое        кафе   \n",
       "3   21894          пиццетория    сетевое        кафе   \n",
       "4  119365  кафевишневаяметель  несетевое        кафе   \n",
       "\n",
       "                                             address  number  \\\n",
       "0         город Москва, улица Егора Абакумова, дом 9      48   \n",
       "1  город Москва, улица Талалихина, дом 2/1, корпус 1      35   \n",
       "2          город Москва, Абельмановская улица, дом 6      95   \n",
       "3            город Москва, Абрамцевская улица, дом 1      40   \n",
       "4  город Москва, Абрамцевская улица, дом 9, корпус 1      50   \n",
       "\n",
       "                   street  len_street  \n",
       "0   улица Егора Абакумова          22  \n",
       "1        улица Талалихина          17  \n",
       "2    Абельмановская улица          21  \n",
       "3      Абрамцевская улица          19  \n",
       "4      Абрамцевская улица          19  "
      ]
     },
     "execution_count": 24,
     "metadata": {},
     "output_type": "execute_result"
    }
   ],
   "source": [
    "data.head()"
   ]
  },
  {
   "cell_type": "markdown",
   "metadata": {},
   "source": [
    "---"
   ]
  },
  {
   "cell_type": "markdown",
   "metadata": {},
   "source": [
    "<a id = 'stage_2_7'></a>\n",
    "\n",
    "### 7. Постройте график топ-10 улиц по количеству объектов общественного питания. Воспользуйтесь внешней информацией и ответьте на вопрос — в каких районах Москвы находятся эти улицы?\n",
    "\n",
    "[к оглавлению](#title)"
   ]
  },
  {
   "cell_type": "code",
   "execution_count": 25,
   "metadata": {},
   "outputs": [
    {
     "data": {
      "image/png": "[encoded data removed]",
      "text/plain": [
       "<Figure size 640x480 with 1 Axes>"
      ]
     },
     "metadata": {},
     "output_type": "display_data"
    }
   ],
   "source": [
    "data7 =\\\n",
    "data.groupby('street').agg({'street': 'count'}).rename({'street':'object_count'}, axis=1) \\\n",
    "                                               .sort_values(by = 'object_count',\n",
    "                                                            ascending=False) \\\n",
    "                                               .head(10)\n",
    "\n",
    "# построим\n",
    "sns.barplot(data = data7,\n",
    "            x = 'object_count',\n",
    "            y = data7.index)\n",
    "plt.title('Топ-10 улиц по кол-ву объектов ОП')\n",
    "plt.xlabel('кол-во')\n",
    "plt.ylabel('улица')\n",
    "plt.grid(axis = 'x')"
   ]
  },
  {
   "cell_type": "code",
   "execution_count": 26,
   "metadata": {},
   "outputs": [],
   "source": [
    "# Интернет\n",
    "areas = {'проспект Мира': [ 'Алексеевский', 'Марьина роща', 'Мещанский', 'Останкинский', 'Ростокино', 'Свиблово', 'Ярославский'],\n",
    "         'Профсоюзная улица': ['Академический', 'Коньково', 'Обручевский', 'Тёплый Стан', 'Черёмушки', 'Ясенево'],\n",
    "         'Ленинградский проспект': ['Беговой', 'Аэропорт', 'Сокол', 'Хорошёвский'],\n",
    "         'Пресненская набережная': ['Пресненский'],\n",
    "         'Варшавское шоссе': ['Донской', 'Нагатино-Садовники', 'Нагорный'],\n",
    "         'Ленинский проспект': ['Гагаринский','Донской'],\n",
    "         'Проспект Вернадского': ['Проспект Вернадского'],\n",
    "         'Кутузовский проспект': ['Дорогомилово', 'Фили-Давыдково'],\n",
    "         'Каширское шоссе': ['Нагатино-Садовники','Нагорный'],\n",
    "         'Ходынский бульвар': ['Хорошёвский']}"
   ]
  },
  {
   "cell_type": "markdown",
   "metadata": {},
   "source": [
    "---"
   ]
  },
  {
   "cell_type": "markdown",
   "metadata": {},
   "source": [
    "<a id = 'stage_2_8'></a>\n",
    "\n",
    "### 8. Найдите число улиц с одним объектом общественного питания. Воспользуйтесь внешней информацией и ответьте на вопрос — в каких районах Москвы находятся эти улицы?\n",
    "\n",
    "[к оглавлению](#title)"
   ]
  },
  {
   "cell_type": "code",
   "execution_count": 27,
   "metadata": {},
   "outputs": [
    {
     "name": "stdout",
     "output_type": "stream",
     "text": [
      "Число улиц с одним объектом ОП: 688\n"
     ]
    }
   ],
   "source": [
    "data8 = \\\n",
    "data.groupby('street').agg({'id': 'count'}).rename({'id': 'count_object'}, axis=1).reset_index().sort_values(by = 'count_object')\n",
    "data8 = data8.query('count_object == 1')\n",
    "print(f'Число улиц с одним объектом ОП: {len(data8)}')"
   ]
  },
  {
   "cell_type": "code",
   "execution_count": 49,
   "metadata": {},
   "outputs": [
    {
     "data": {
      "text/plain": [
       "2111                       улица Сергея Макеева\n",
       "660                      Кремлёвская набережная\n",
       "661                     Кривоарбатский переулок\n",
       "1532                                  Роговское\n",
       "1531                                  Роговское\n",
       "                         ...                   \n",
       "69      1-я линия Хорошёвского Серебряного Бора\n",
       "2                       1-й Балтийский переулок\n",
       "86                        2-й Боткинский проезд\n",
       "351              Большой Афанасьевский переулок\n",
       "356                   Большой Казённый переулок\n",
       "Name: street, Length: 688, dtype: object"
      ]
     },
     "execution_count": 49,
     "metadata": {},
     "output_type": "execute_result"
    }
   ],
   "source": [
    "data8['street']"
   ]
  },
  {
   "cell_type": "code",
   "execution_count": 29,
   "metadata": {},
   "outputs": [
    {
     "data": {
      "text/html": [
       "<div>\n",
       "<style scoped>\n",
       "    .dataframe tbody tr th:only-of-type {\n",
       "        vertical-align: middle;\n",
       "    }\n",
       "\n",
       "    .dataframe tbody tr th {\n",
       "        vertical-align: top;\n",
       "    }\n",
       "\n",
       "    .dataframe thead th {\n",
       "        text-align: right;\n",
       "    }\n",
       "</style>\n",
       "<table border=\"1\" class=\"dataframe\">\n",
       "  <thead>\n",
       "    <tr style=\"text-align: right;\">\n",
       "      <th></th>\n",
       "      <th>street</th>\n",
       "      <th>count_object</th>\n",
       "      <th>len_street</th>\n",
       "    </tr>\n",
       "  </thead>\n",
       "  <tbody>\n",
       "    <tr>\n",
       "      <th>1532</th>\n",
       "      <td>поселение Роговское, посёлок Рогово, Школьная...</td>\n",
       "      <td>1</td>\n",
       "      <td>52</td>\n",
       "    </tr>\n",
       "    <tr>\n",
       "      <th>1530</th>\n",
       "      <td>поселение Роговское, деревня Каменка, Централ...</td>\n",
       "      <td>1</td>\n",
       "      <td>56</td>\n",
       "    </tr>\n",
       "    <tr>\n",
       "      <th>1528</th>\n",
       "      <td>поселение Роговское, деревня Бунчиха, владени</td>\n",
       "      <td>1</td>\n",
       "      <td>46</td>\n",
       "    </tr>\n",
       "    <tr>\n",
       "      <th>1527</th>\n",
       "      <td>поселение Первомайское, посёлок Первомайское,...</td>\n",
       "      <td>1</td>\n",
       "      <td>60</td>\n",
       "    </tr>\n",
       "    <tr>\n",
       "      <th>1526</th>\n",
       "      <td>поселение Первомайское, деревня Фоминское, Ле...</td>\n",
       "      <td>1</td>\n",
       "      <td>56</td>\n",
       "    </tr>\n",
       "    <tr>\n",
       "      <th>...</th>\n",
       "      <td>...</td>\n",
       "      <td>...</td>\n",
       "      <td>...</td>\n",
       "    </tr>\n",
       "    <tr>\n",
       "      <th>2101</th>\n",
       "      <td>поселение Михайлово-Ярцевское, деревня Сенькин...</td>\n",
       "      <td>1</td>\n",
       "      <td>56</td>\n",
       "    </tr>\n",
       "    <tr>\n",
       "      <th>2100</th>\n",
       "      <td>поселение Марушкинское, деревня Давыдково</td>\n",
       "      <td>1</td>\n",
       "      <td>41</td>\n",
       "    </tr>\n",
       "    <tr>\n",
       "      <th>1834</th>\n",
       "      <td>улица Линии Октябрьской Железной Дороги</td>\n",
       "      <td>1</td>\n",
       "      <td>40</td>\n",
       "    </tr>\n",
       "    <tr>\n",
       "      <th>74</th>\n",
       "      <td>104-й километр Московской Кольцевой Автодороги</td>\n",
       "      <td>1</td>\n",
       "      <td>47</td>\n",
       "    </tr>\n",
       "    <tr>\n",
       "      <th>69</th>\n",
       "      <td>1-я линия Хорошёвского Серебряного Бора</td>\n",
       "      <td>1</td>\n",
       "      <td>40</td>\n",
       "    </tr>\n",
       "  </tbody>\n",
       "</table>\n",
       "<p>84 rows × 3 columns</p>\n",
       "</div>"
      ],
      "text/plain": [
       "                                                 street  count_object  \\\n",
       "1532   поселение Роговское, посёлок Рогово, Школьная...             1   \n",
       "1530   поселение Роговское, деревня Каменка, Централ...             1   \n",
       "1528      поселение Роговское, деревня Бунчиха, владени             1   \n",
       "1527   поселение Первомайское, посёлок Первомайское,...             1   \n",
       "1526   поселение Первомайское, деревня Фоминское, Ле...             1   \n",
       "...                                                 ...           ...   \n",
       "2101  поселение Михайлово-Ярцевское, деревня Сенькин...             1   \n",
       "2100          поселение Марушкинское, деревня Давыдково             1   \n",
       "1834            улица Линии Октябрьской Железной Дороги             1   \n",
       "74       104-й километр Московской Кольцевой Автодороги             1   \n",
       "69              1-я линия Хорошёвского Серебряного Бора             1   \n",
       "\n",
       "      len_street  \n",
       "1532          52  \n",
       "1530          56  \n",
       "1528          46  \n",
       "1527          60  \n",
       "1526          56  \n",
       "...          ...  \n",
       "2101          56  \n",
       "2100          41  \n",
       "1834          40  \n",
       "74            47  \n",
       "69            40  \n",
       "\n",
       "[84 rows x 3 columns]"
      ]
     },
     "execution_count": 29,
     "metadata": {},
     "output_type": "execute_result"
    }
   ],
   "source": [
    "data8['len_street'] = data8['street'].map(lambda x: len(x))\n",
    "data8.query('len_street >= 40')"
   ]
  },
  {
   "cell_type": "code",
   "execution_count": 40,
   "metadata": {},
   "outputs": [
    {
     "data": {
      "text/html": [
       "<div>\n",
       "<style scoped>\n",
       "    .dataframe tbody tr th:only-of-type {\n",
       "        vertical-align: middle;\n",
       "    }\n",
       "\n",
       "    .dataframe tbody tr th {\n",
       "        vertical-align: top;\n",
       "    }\n",
       "\n",
       "    .dataframe thead th {\n",
       "        text-align: right;\n",
       "    }\n",
       "</style>\n",
       "<table border=\"1\" class=\"dataframe\">\n",
       "  <thead>\n",
       "    <tr style=\"text-align: right;\">\n",
       "      <th></th>\n",
       "      <th>street</th>\n",
       "      <th>count_object</th>\n",
       "      <th>len_street</th>\n",
       "    </tr>\n",
       "  </thead>\n",
       "  <tbody>\n",
       "    <tr>\n",
       "      <th>2111</th>\n",
       "      <td>улица Сергея Макеева</td>\n",
       "      <td>1</td>\n",
       "      <td>20</td>\n",
       "    </tr>\n",
       "    <tr>\n",
       "      <th>660</th>\n",
       "      <td>Кремлёвская набережная</td>\n",
       "      <td>1</td>\n",
       "      <td>23</td>\n",
       "    </tr>\n",
       "    <tr>\n",
       "      <th>661</th>\n",
       "      <td>Кривоарбатский переулок</td>\n",
       "      <td>1</td>\n",
       "      <td>24</td>\n",
       "    </tr>\n",
       "    <tr>\n",
       "      <th>1532</th>\n",
       "      <td>Роговское</td>\n",
       "      <td>1</td>\n",
       "      <td>52</td>\n",
       "    </tr>\n",
       "    <tr>\n",
       "      <th>1531</th>\n",
       "      <td>Роговское</td>\n",
       "      <td>1</td>\n",
       "      <td>36</td>\n",
       "    </tr>\n",
       "  </tbody>\n",
       "</table>\n",
       "</div>"
      ],
      "text/plain": [
       "                        street  count_object  len_street\n",
       "2111      улица Сергея Макеева             1          20\n",
       "660     Кремлёвская набережная             1          23\n",
       "661    Кривоарбатский переулок             1          24\n",
       "1532                 Роговское             1          52\n",
       "1531                 Роговское             1          36"
      ]
     },
     "execution_count": 40,
     "metadata": {},
     "output_type": "execute_result"
    }
   ],
   "source": [
    "# Заменим длинные названия (поселения и дальнейшего адреса) на просто название поселения\n",
    "def stroka_to_name_poselenie(x):\n",
    "    if 'поселение' in x:\n",
    "        index_0 = x.find('поселение ')\n",
    "        index_1 = x.find(',')\n",
    "        return x[index_0+10:index_1]\n",
    "    else:\n",
    "        return x\n",
    "\n",
    "data8['street'] = data8['street'].map(stroka_to_name_poselenie)\n",
    "data8.head()"
   ]
  },
  {
   "cell_type": "code",
   "execution_count": 42,
   "metadata": {},
   "outputs": [
    {
     "data": {
      "text/plain": [
       "21"
      ]
     },
     "execution_count": 42,
     "metadata": {},
     "output_type": "execute_result"
    }
   ],
   "source": [
    "# Посмотрим сколько улиц с МКАДа\n",
    "MKAD = []\n",
    "for i in data8['street']:\n",
    "    if 'километр' in i:\n",
    "        MKAD.append(i)\n",
    "\n",
    "len(MKAD)"
   ]
  },
  {
   "cell_type": "code",
   "execution_count": null,
   "metadata": {},
   "outputs": [],
   "source": [
    "# я не смог найти в интернете название районов этих уоиц с МКАДа, поэтому в дальнейшем merge, они удаляться"
   ]
  },
  {
   "cell_type": "code",
   "execution_count": 30,
   "metadata": {},
   "outputs": [
    {
     "data": {
      "text/html": [
       "<div>\n",
       "<style scoped>\n",
       "    .dataframe tbody tr th:only-of-type {\n",
       "        vertical-align: middle;\n",
       "    }\n",
       "\n",
       "    .dataframe tbody tr th {\n",
       "        vertical-align: top;\n",
       "    }\n",
       "\n",
       "    .dataframe thead th {\n",
       "        text-align: right;\n",
       "    }\n",
       "</style>\n",
       "<table border=\"1\" class=\"dataframe\">\n",
       "  <thead>\n",
       "    <tr style=\"text-align: right;\">\n",
       "      <th></th>\n",
       "      <th>Название улицы/поселения</th>\n",
       "      <th>Район</th>\n",
       "    </tr>\n",
       "  </thead>\n",
       "  <tbody>\n",
       "    <tr>\n",
       "      <th>0</th>\n",
       "      <td>60-летия Октября проспект</td>\n",
       "      <td>Академический</td>\n",
       "    </tr>\n",
       "    <tr>\n",
       "      <th>1</th>\n",
       "      <td>Большая Черёмушкинская улица</td>\n",
       "      <td>Академический</td>\n",
       "    </tr>\n",
       "    <tr>\n",
       "      <th>2</th>\n",
       "      <td>Вавилова улица</td>\n",
       "      <td>Академический</td>\n",
       "    </tr>\n",
       "    <tr>\n",
       "      <th>3</th>\n",
       "      <td>Винокурова улица</td>\n",
       "      <td>Академический</td>\n",
       "    </tr>\n",
       "    <tr>\n",
       "      <th>4</th>\n",
       "      <td>Гримау улица</td>\n",
       "      <td>Академический</td>\n",
       "    </tr>\n",
       "    <tr>\n",
       "      <th>...</th>\n",
       "      <td>...</td>\n",
       "      <td>...</td>\n",
       "    </tr>\n",
       "    <tr>\n",
       "      <th>4225</th>\n",
       "      <td>Сосенское</td>\n",
       "      <td>Ленинский</td>\n",
       "    </tr>\n",
       "    <tr>\n",
       "      <th>4226</th>\n",
       "      <td>Троицк</td>\n",
       "      <td>NaN</td>\n",
       "    </tr>\n",
       "    <tr>\n",
       "      <th>4227</th>\n",
       "      <td>Филимонковское</td>\n",
       "      <td>Ленинский</td>\n",
       "    </tr>\n",
       "    <tr>\n",
       "      <th>4228</th>\n",
       "      <td>Щаповское</td>\n",
       "      <td>Подольский</td>\n",
       "    </tr>\n",
       "    <tr>\n",
       "      <th>4229</th>\n",
       "      <td>Щербинка</td>\n",
       "      <td>NaN</td>\n",
       "    </tr>\n",
       "  </tbody>\n",
       "</table>\n",
       "<p>4230 rows × 2 columns</p>\n",
       "</div>"
      ],
      "text/plain": [
       "          Название улицы/поселения          Район\n",
       "0        60-летия Октября проспект  Академический\n",
       "1     Большая Черёмушкинская улица  Академический\n",
       "2                   Вавилова улица  Академический\n",
       "3                 Винокурова улица  Академический\n",
       "4                     Гримау улица  Академический\n",
       "...                            ...            ...\n",
       "4225                     Сосенское      Ленинский\n",
       "4226                        Троицк            NaN\n",
       "4227                Филимонковское      Ленинский\n",
       "4228                     Щаповское     Подольский\n",
       "4229                      Щербинка            NaN\n",
       "\n",
       "[4230 rows x 2 columns]"
      ]
     },
     "execution_count": 30,
     "metadata": {},
     "output_type": "execute_result"
    }
   ],
   "source": [
    "# В этой ячейке результат парсинга с сайта мерии Москвы данных о всех улицах и районах Москвы и её поселениях (весь этот процесс в отдельном файле - парсинг_районов_улиц)\n",
    "\n",
    "areas_streets = pd.read_csv('parsing_areas_streets.txt')\n",
    "areas_streets = areas_streets[['Название улицы/поселения','Район']]\n",
    "areas_streets"
   ]
  },
  {
   "cell_type": "code",
   "execution_count": 44,
   "metadata": {},
   "outputs": [
    {
     "data": {
      "text/html": [
       "<div>\n",
       "<style scoped>\n",
       "    .dataframe tbody tr th:only-of-type {\n",
       "        vertical-align: middle;\n",
       "    }\n",
       "\n",
       "    .dataframe tbody tr th {\n",
       "        vertical-align: top;\n",
       "    }\n",
       "\n",
       "    .dataframe thead th {\n",
       "        text-align: right;\n",
       "    }\n",
       "</style>\n",
       "<table border=\"1\" class=\"dataframe\">\n",
       "  <thead>\n",
       "    <tr style=\"text-align: right;\">\n",
       "      <th></th>\n",
       "      <th>street</th>\n",
       "      <th>count_object</th>\n",
       "      <th>len_street</th>\n",
       "    </tr>\n",
       "  </thead>\n",
       "  <tbody>\n",
       "    <tr>\n",
       "      <th>2111</th>\n",
       "      <td>улица Сергея Макеева</td>\n",
       "      <td>1</td>\n",
       "      <td>20</td>\n",
       "    </tr>\n",
       "    <tr>\n",
       "      <th>660</th>\n",
       "      <td>Кремлёвская набережная</td>\n",
       "      <td>1</td>\n",
       "      <td>23</td>\n",
       "    </tr>\n",
       "    <tr>\n",
       "      <th>661</th>\n",
       "      <td>Кривоарбатский переулок</td>\n",
       "      <td>1</td>\n",
       "      <td>24</td>\n",
       "    </tr>\n",
       "    <tr>\n",
       "      <th>1532</th>\n",
       "      <td>Роговское</td>\n",
       "      <td>1</td>\n",
       "      <td>52</td>\n",
       "    </tr>\n",
       "    <tr>\n",
       "      <th>1531</th>\n",
       "      <td>Роговское</td>\n",
       "      <td>1</td>\n",
       "      <td>36</td>\n",
       "    </tr>\n",
       "  </tbody>\n",
       "</table>\n",
       "</div>"
      ],
      "text/plain": [
       "                       street  count_object  len_street\n",
       "2111     улица Сергея Макеева             1          20\n",
       "660    Кремлёвская набережная             1          23\n",
       "661   Кривоарбатский переулок             1          24\n",
       "1532                Роговское             1          52\n",
       "1531                Роговское             1          36"
      ]
     },
     "execution_count": 44,
     "metadata": {},
     "output_type": "execute_result"
    }
   ],
   "source": [
    "def strips(x):\n",
    "    return x.strip()\n",
    "\n",
    "data8['street'] = data8['street'].map(strips)\n",
    "data8.head()"
   ]
  },
  {
   "cell_type": "code",
   "execution_count": 50,
   "metadata": {},
   "outputs": [
    {
     "data": {
      "text/html": [
       "<div>\n",
       "<style scoped>\n",
       "    .dataframe tbody tr th:only-of-type {\n",
       "        vertical-align: middle;\n",
       "    }\n",
       "\n",
       "    .dataframe tbody tr th {\n",
       "        vertical-align: top;\n",
       "    }\n",
       "\n",
       "    .dataframe thead th {\n",
       "        text-align: right;\n",
       "    }\n",
       "</style>\n",
       "<table border=\"1\" class=\"dataframe\">\n",
       "  <thead>\n",
       "    <tr style=\"text-align: right;\">\n",
       "      <th></th>\n",
       "      <th>Название улицы/поселения</th>\n",
       "      <th>Район</th>\n",
       "    </tr>\n",
       "  </thead>\n",
       "  <tbody>\n",
       "    <tr>\n",
       "      <th>0</th>\n",
       "      <td>Кремлёвская набережная</td>\n",
       "      <td>Хамовники</td>\n",
       "    </tr>\n",
       "    <tr>\n",
       "      <th>1</th>\n",
       "      <td>Кривоарбатский переулок</td>\n",
       "      <td>Арбат</td>\n",
       "    </tr>\n",
       "    <tr>\n",
       "      <th>2</th>\n",
       "      <td>Роговское</td>\n",
       "      <td>Подольский</td>\n",
       "    </tr>\n",
       "    <tr>\n",
       "      <th>3</th>\n",
       "      <td>Роговское</td>\n",
       "      <td>Подольский</td>\n",
       "    </tr>\n",
       "    <tr>\n",
       "      <th>4</th>\n",
       "      <td>Роговское</td>\n",
       "      <td>Подольский</td>\n",
       "    </tr>\n",
       "    <tr>\n",
       "      <th>...</th>\n",
       "      <td>...</td>\n",
       "      <td>...</td>\n",
       "    </tr>\n",
       "    <tr>\n",
       "      <th>510</th>\n",
       "      <td>Большой Знаменский переулок</td>\n",
       "      <td>Хамовники</td>\n",
       "    </tr>\n",
       "    <tr>\n",
       "      <th>511</th>\n",
       "      <td>Большой Кисельный переулок</td>\n",
       "      <td>Мещанский</td>\n",
       "    </tr>\n",
       "    <tr>\n",
       "      <th>512</th>\n",
       "      <td>Большой Афанасьевский переулок</td>\n",
       "      <td>Арбат</td>\n",
       "    </tr>\n",
       "    <tr>\n",
       "      <th>513</th>\n",
       "      <td>Большой Афанасьевский переулок</td>\n",
       "      <td>Хамовники</td>\n",
       "    </tr>\n",
       "    <tr>\n",
       "      <th>514</th>\n",
       "      <td>Большой Казённый переулок</td>\n",
       "      <td>Басманный</td>\n",
       "    </tr>\n",
       "  </tbody>\n",
       "</table>\n",
       "<p>515 rows × 2 columns</p>\n",
       "</div>"
      ],
      "text/plain": [
       "           Название улицы/поселения       Район\n",
       "0            Кремлёвская набережная   Хамовники\n",
       "1           Кривоарбатский переулок       Арбат\n",
       "2                         Роговское  Подольский\n",
       "3                         Роговское  Подольский\n",
       "4                         Роговское  Подольский\n",
       "..                              ...         ...\n",
       "510     Большой Знаменский переулок   Хамовники\n",
       "511      Большой Кисельный переулок   Мещанский\n",
       "512  Большой Афанасьевский переулок       Арбат\n",
       "513  Большой Афанасьевский переулок   Хамовники\n",
       "514       Большой Казённый переулок   Басманный\n",
       "\n",
       "[515 rows x 2 columns]"
      ]
     },
     "execution_count": 50,
     "metadata": {},
     "output_type": "execute_result"
    }
   ],
   "source": [
    "data8 = \\\n",
    "data8[['street']].merge(areas_streets,\n",
    "            left_on = 'street',\n",
    "            right_on = 'Название улицы/поселения').drop('street', axis=1)\n",
    "data8"
   ]
  },
  {
   "cell_type": "markdown",
   "metadata": {},
   "source": [
    "---"
   ]
  },
  {
   "cell_type": "markdown",
   "metadata": {},
   "source": [
    "<a id = 'stage_2_9'></a>\n",
    "\n",
    "### 9. Посмотрите на распределение количества посадочных мест для улиц с большим количеством объектов общественного питания. Какие закономерности можно выявить?\n",
    "\n",
    "[к оглавлению](#title)"
   ]
  },
  {
   "cell_type": "markdown",
   "metadata": {},
   "source": [
    "топ-10 улиц по кол-ву объектов питания уже был в 7 вопросе, воспользуемся им "
   ]
  },
  {
   "cell_type": "code",
   "execution_count": 59,
   "metadata": {},
   "outputs": [
    {
     "data": {
      "text/html": [
       "<div>\n",
       "<style scoped>\n",
       "    .dataframe tbody tr th:only-of-type {\n",
       "        vertical-align: middle;\n",
       "    }\n",
       "\n",
       "    .dataframe tbody tr th {\n",
       "        vertical-align: top;\n",
       "    }\n",
       "\n",
       "    .dataframe thead th {\n",
       "        text-align: right;\n",
       "    }\n",
       "</style>\n",
       "<table border=\"1\" class=\"dataframe\">\n",
       "  <thead>\n",
       "    <tr style=\"text-align: right;\">\n",
       "      <th></th>\n",
       "      <th>object_count</th>\n",
       "    </tr>\n",
       "    <tr>\n",
       "      <th>street</th>\n",
       "      <th></th>\n",
       "    </tr>\n",
       "  </thead>\n",
       "  <tbody>\n",
       "    <tr>\n",
       "      <th>проспект Мира</th>\n",
       "      <td>204</td>\n",
       "    </tr>\n",
       "    <tr>\n",
       "      <th>Профсоюзная улица</th>\n",
       "      <td>182</td>\n",
       "    </tr>\n",
       "    <tr>\n",
       "      <th>Ленинградский проспект</th>\n",
       "      <td>171</td>\n",
       "    </tr>\n",
       "    <tr>\n",
       "      <th>Пресненская набережная</th>\n",
       "      <td>167</td>\n",
       "    </tr>\n",
       "    <tr>\n",
       "      <th>Варшавское шоссе</th>\n",
       "      <td>161</td>\n",
       "    </tr>\n",
       "    <tr>\n",
       "      <th>Ленинский проспект</th>\n",
       "      <td>147</td>\n",
       "    </tr>\n",
       "    <tr>\n",
       "      <th>проспект Вернадского</th>\n",
       "      <td>132</td>\n",
       "    </tr>\n",
       "    <tr>\n",
       "      <th>Кутузовский проспект</th>\n",
       "      <td>114</td>\n",
       "    </tr>\n",
       "    <tr>\n",
       "      <th>Каширское шоссе</th>\n",
       "      <td>112</td>\n",
       "    </tr>\n",
       "    <tr>\n",
       "      <th>Кировоградская улица</th>\n",
       "      <td>110</td>\n",
       "    </tr>\n",
       "  </tbody>\n",
       "</table>\n",
       "</div>"
      ],
      "text/plain": [
       "                         object_count\n",
       "street                               \n",
       " проспект Мира                    204\n",
       " Профсоюзная улица                182\n",
       " Ленинградский проспект           171\n",
       " Пресненская набережная           167\n",
       " Варшавское шоссе                 161\n",
       " Ленинский проспект               147\n",
       " проспект Вернадского             132\n",
       " Кутузовский проспект             114\n",
       " Каширское шоссе                  112\n",
       " Кировоградская улица             110"
      ]
     },
     "execution_count": 59,
     "metadata": {},
     "output_type": "execute_result"
    }
   ],
   "source": [
    "data7"
   ]
  },
  {
   "cell_type": "code",
   "execution_count": 68,
   "metadata": {},
   "outputs": [
    {
     "data": {
      "text/plain": [
       "Text(0.5, 1.0, 'Распределение посадочных мест в топ-10 улиц (по кол-ву объектов ОП)')"
      ]
     },
     "execution_count": 68,
     "metadata": {},
     "output_type": "execute_result"
    },
    {
     "data": {
      "image/png": "[encoded data removed]",
      "text/plain": [
       "<Figure size 640x480 with 1 Axes>"
      ]
     },
     "metadata": {},
     "output_type": "display_data"
    }
   ],
   "source": [
    "# возьмем индексы топ-10 улиц по кол-ву объектов\n",
    "data_top_10_count_objects_index = data7.index\n",
    "\n",
    "data9 = data.set_index('street').loc[data_top_10_count_objects_index]\n",
    "data9['number'].plot(kind = 'hist',\n",
    "                                                                             bins = 50)\n",
    "plt.xlabel('кол-во мест')\n",
    "plt.ylabel('частота')\n",
    "plt.title('Распределение посадочных мест в топ-10 улиц (по кол-ву объектов ОП)')"
   ]
  },
  {
   "cell_type": "code",
   "execution_count": 71,
   "metadata": {},
   "outputs": [
    {
     "data": {
      "text/plain": [
       "Text(0.5, 1.0, 'boxplot график посадочных мест в топ-10 улиц (по кол-ву объектов ОП)')"
      ]
     },
     "execution_count": 71,
     "metadata": {},
     "output_type": "execute_result"
    },
    {
     "data": {
      "image/png": "[encoded data removed]",
      "text/plain": [
       "<Figure size 640x480 with 1 Axes>"
      ]
     },
     "metadata": {},
     "output_type": "display_data"
    }
   ],
   "source": [
    "sns.boxplot(data = data9.reset_index(),\n",
    "            x = 'number')\n",
    "plt.xlabel('кол-во мест')\n",
    "plt.ylabel('')\n",
    "plt.title('boxplot график посадочных мест в топ-10 улиц (по кол-ву объектов ОП)')"
   ]
  },
  {
   "cell_type": "code",
   "execution_count": 77,
   "metadata": {},
   "outputs": [
    {
     "data": {
      "text/plain": [
       "(-10.0, 400.0)"
      ]
     },
     "execution_count": 77,
     "metadata": {},
     "output_type": "execute_result"
    },
    {
     "data": {
      "image/png": "[encoded data removed]",
      "text/plain": [
       "<Figure size 640x480 with 1 Axes>"
      ]
     },
     "metadata": {},
     "output_type": "display_data"
    }
   ],
   "source": [
    "sns.boxplot(data = data9.reset_index(),\n",
    "            x = 'number',\n",
    "            y = 'street')\n",
    "plt.xlabel('\\n кол-во мест')\n",
    "plt.ylabel('')\n",
    "plt.title('boxplot график посадочных мест в топ-10 улиц (по кол-ву объектов ОП) \\n')\n",
    "plt.xlim((-10 , 400))"
   ]
  },
  {
   "cell_type": "markdown",
   "metadata": {},
   "source": [
    "- Медиана схожа: 20 - 35 посадочных мест ( в общем: мало посадочных мест )\n",
    "Причина: дороговизна земли в Москве"
   ]
  },
  {
   "cell_type": "markdown",
   "metadata": {},
   "source": [
    "# Вывод:\n",
    "\n",
    "- Заказчик планирует открыть кафе (с официантами роботами )\n",
    "- Кафе - самое распространенный общепит в Москве\n",
    "- БОльшее кол-во кафе имеет не сетевой вид\n",
    "- сетевые заведения имееют малое кол-во посадочных мест\n",
    "- на главных улицах столицы - посадочные места тоже в маленьких кол-вах\n"
   ]
  }
 ],
 "metadata": {
  "kernelspec": {
   "display_name": "cringe_player_env",
   "language": "python",
   "name": "python3"
  },
  "language_info": {
   "codemirror_mode": {
    "name": "ipython",
    "version": 3
   },
   "file_extension": ".py",
   "mimetype": "text/x-python",
   "name": "python",
   "nbconvert_exporter": "python",
   "pygments_lexer": "ipython3",
   "version": "3.8.0"
  },
  "orig_nbformat": 4
 },
 "nbformat": 4,
 "nbformat_minor": 2
}
