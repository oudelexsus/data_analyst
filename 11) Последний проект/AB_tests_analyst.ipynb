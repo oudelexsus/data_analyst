{
 "cells": [
  {
   "cell_type": "markdown",
   "metadata": {},
   "source": [
    "<a id = 'title'></a>\n",
    "\n",
    "# Контекст\n",
    "\n",
    "Ваша команда внедрила новое решение на сайте — назойливый чат с менеджером. Менеджеры продукта говорят о том, что это вызовет негативный опыт у пользователей, а менеджеры по продажам считают, что так увеличится выручка. Вам пришли результаты A/B теста: одной выборке показывали назойливый чат, а другой — нет. Оцените результаты теста и опишите выводы.\n",
    "\n",
    "---\n",
    "\n",
    "## [Исследуйте данные](#stage_1)\n",
    "\n",
    "- [Требуется ли преобразование типов?](#stage_1_1)\n",
    "- [Присутствуют ли пропущенные значения и дубликаты? Если да, то какова их природа?](#stage_1_2)\n",
    "- [Добавить признак день](#stage_1_3)\n",
    "- [Сбор данных по A/B тестированию: сроки, распределение посетителей по дням, очитска данных (если необходима), кумулятивная доля посетителей по событиям,  кол-во уникальных пользователей (по группам исследования)](#stage_1_4)\n",
    "\n",
    "---\n",
    "\n",
    "## [Проведите исследовательский анализ данных](#stage_2)\n",
    "\n",
    "- [Исследуйте конверсию в воронке на разных этапах?](#stage_2_1)\n",
    "- [Обладают ли выборки одинаковыми распределениями количества событий на пользователя?](#stage_2_2)\n",
    "- [Как число событий распределено по дням?](#stage_2_3)\n",
    "- [Подумайте, есть ли какие-то нюансы данных, которые нужно учесть, прежде чем приступать к A/B-тестированию?](#stage_2_4)\n",
    "- [Проведите оценку результатов A/B-тестирования](#stage_2_5)\n",
    "- [Что можно сказать про результаты A/A-тестирования?](#stage_2_6)\n",
    "- [Проверьте статистическую разницу долей z-критерием](#stage_2_7)"
   ]
  },
  {
   "cell_type": "markdown",
   "metadata": {},
   "source": [
    "---"
   ]
  },
  {
   "cell_type": "code",
   "execution_count": 59,
   "metadata": {},
   "outputs": [],
   "source": [
    "import pandas as pd\n",
    "import numpy as np\n",
    "import matplotlib.pyplot as plt\n",
    "import seaborn as sns\n",
    "from scipy import stats as st\n",
    "from plotly import graph_objects as go"
   ]
  },
  {
   "cell_type": "markdown",
   "metadata": {},
   "source": [
    "---"
   ]
  },
  {
   "cell_type": "markdown",
   "metadata": {},
   "source": [
    "<a id = 'stage_1'></a>\n",
    "\n",
    "# 1. Исследуйте данные \n",
    "\n",
    "[к оглавлению](#title)"
   ]
  },
  {
   "cell_type": "markdown",
   "metadata": {},
   "source": [
    "---"
   ]
  },
  {
   "cell_type": "markdown",
   "metadata": {},
   "source": [
    "<a id = 'stage_1_1'></a>\n",
    "\n",
    "#### 1.1. Требуется ли преобразование типов?\n",
    "\n",
    "[к оглавлению](#title)"
   ]
  },
  {
   "cell_type": "code",
   "execution_count": 60,
   "metadata": {},
   "outputs": [
    {
     "name": "stdout",
     "output_type": "stream",
     "text": [
      "<class 'pandas.core.frame.DataFrame'>\n",
      "RangeIndex: 154788 entries, 0 to 154787\n",
      "Data columns (total 4 columns):\n",
      " #   Column     Non-Null Count   Dtype \n",
      "---  ------     --------------   ----- \n",
      " 0   event      154788 non-null  object\n",
      " 1   user_id    154788 non-null  int64 \n",
      " 2   EventTime  154788 non-null  int64 \n",
      " 3   Group      154788 non-null  object\n",
      "dtypes: int64(2), object(2)\n",
      "memory usage: 4.7+ MB\n"
     ]
    }
   ],
   "source": [
    "data = pd.read_csv('ab_log.csv')\n",
    "data.info() # нет пропусков"
   ]
  },
  {
   "cell_type": "code",
   "execution_count": 61,
   "metadata": {},
   "outputs": [
    {
     "data": {
      "text/html": [
       "<div>\n",
       "<style scoped>\n",
       "    .dataframe tbody tr th:only-of-type {\n",
       "        vertical-align: middle;\n",
       "    }\n",
       "\n",
       "    .dataframe tbody tr th {\n",
       "        vertical-align: top;\n",
       "    }\n",
       "\n",
       "    .dataframe thead th {\n",
       "        text-align: right;\n",
       "    }\n",
       "</style>\n",
       "<table border=\"1\" class=\"dataframe\">\n",
       "  <thead>\n",
       "    <tr style=\"text-align: right;\">\n",
       "      <th></th>\n",
       "      <th>event</th>\n",
       "      <th>user_id</th>\n",
       "      <th>EventTime</th>\n",
       "      <th>Group</th>\n",
       "    </tr>\n",
       "  </thead>\n",
       "  <tbody>\n",
       "    <tr>\n",
       "      <th>0</th>\n",
       "      <td>StartReadingOffer</td>\n",
       "      <td>7241586465170049200</td>\n",
       "      <td>1564978321</td>\n",
       "      <td>A2</td>\n",
       "    </tr>\n",
       "    <tr>\n",
       "      <th>1</th>\n",
       "      <td>OpenProductCard</td>\n",
       "      <td>4998498972125515821</td>\n",
       "      <td>1564678223</td>\n",
       "      <td>A2</td>\n",
       "    </tr>\n",
       "    <tr>\n",
       "      <th>2</th>\n",
       "      <td>StartReadingOffer</td>\n",
       "      <td>5794343176311717876</td>\n",
       "      <td>1564681595</td>\n",
       "      <td>B</td>\n",
       "    </tr>\n",
       "    <tr>\n",
       "      <th>3</th>\n",
       "      <td>StartReadingOffer</td>\n",
       "      <td>3371640160394640961</td>\n",
       "      <td>1564635919</td>\n",
       "      <td>A1</td>\n",
       "    </tr>\n",
       "    <tr>\n",
       "      <th>4</th>\n",
       "      <td>OpenProductCard</td>\n",
       "      <td>4623191541226589455</td>\n",
       "      <td>1564695060</td>\n",
       "      <td>A1</td>\n",
       "    </tr>\n",
       "  </tbody>\n",
       "</table>\n",
       "</div>"
      ],
      "text/plain": [
       "               event              user_id   EventTime Group\n",
       "0  StartReadingOffer  7241586465170049200  1564978321    A2\n",
       "1    OpenProductCard  4998498972125515821  1564678223    A2\n",
       "2  StartReadingOffer  5794343176311717876  1564681595     B\n",
       "3  StartReadingOffer  3371640160394640961  1564635919    A1\n",
       "4    OpenProductCard  4623191541226589455  1564695060    A1"
      ]
     },
     "execution_count": 61,
     "metadata": {},
     "output_type": "execute_result"
    }
   ],
   "source": [
    "data.head()"
   ]
  },
  {
   "cell_type": "code",
   "execution_count": 62,
   "metadata": {},
   "outputs": [
    {
     "name": "stdout",
     "output_type": "stream",
     "text": [
      "<class 'pandas.core.frame.DataFrame'>\n",
      "RangeIndex: 154788 entries, 0 to 154787\n",
      "Data columns (total 4 columns):\n",
      " #   Column      Non-Null Count   Dtype         \n",
      "---  ------      --------------   -----         \n",
      " 0   event       154788 non-null  object        \n",
      " 1   user_id     154788 non-null  int64         \n",
      " 2   event_time  154788 non-null  datetime64[ns]\n",
      " 3   group       154788 non-null  object        \n",
      "dtypes: datetime64[ns](1), int64(1), object(2)\n",
      "memory usage: 4.7+ MB\n"
     ]
    }
   ],
   "source": [
    "# Сменим имена колонок, на удобные и поменяет временные данные с unix на datetime64[ns]\n",
    "data.columns = ['event', 'user_id', 'event_time', 'group']\n",
    "data['event_time'] = pd.to_datetime(data['event_time'], unit='s')\n",
    "data.info()"
   ]
  },
  {
   "cell_type": "markdown",
   "metadata": {},
   "source": [
    "---"
   ]
  },
  {
   "cell_type": "markdown",
   "metadata": {},
   "source": [
    "<a id = 'stage_1_2'></a>\n",
    "\n",
    "#### 1.2. Присутствуют ли пропущенные значения и дубликаты? Если да, то какова их природа?\n",
    "\n",
    "[к оглавлению](#title)"
   ]
  },
  {
   "cell_type": "code",
   "execution_count": 63,
   "metadata": {},
   "outputs": [
    {
     "data": {
      "text/plain": [
       "296"
      ]
     },
     "execution_count": 63,
     "metadata": {},
     "output_type": "execute_result"
    }
   ],
   "source": [
    "# проверим наличие дубликатов\n",
    "data.duplicated().sum()"
   ]
  },
  {
   "cell_type": "code",
   "execution_count": 64,
   "metadata": {},
   "outputs": [
    {
     "name": "stdout",
     "output_type": "stream",
     "text": [
      "Сколько у каждого пользователя принадлежностей к группам: [1]\n"
     ]
    }
   ],
   "source": [
    "data_dubl = pd.DataFrame(data.duplicated())\n",
    "index_dubl = data_dubl[data_dubl[0] == True].index\n",
    "\n",
    "data_dubl = data.loc[index_dubl]\n",
    "proverka_1 = data_dubl.groupby('user_id')['group'].nunique().unique()\n",
    "print(f'Сколько у каждого пользователя принадлежностей к группам: {proverka_1}')"
   ]
  },
  {
   "cell_type": "code",
   "execution_count": 65,
   "metadata": {},
   "outputs": [
    {
     "data": {
      "text/plain": [
       "0"
      ]
     },
     "execution_count": 65,
     "metadata": {},
     "output_type": "execute_result"
    }
   ],
   "source": [
    "data = data.drop_duplicates().reset_index(drop = True)  # дроп дубликатов и смена индексов после дропа\n",
    "data.duplicated().sum() # проверка"
   ]
  },
  {
   "cell_type": "markdown",
   "metadata": {},
   "source": [
    "причиной появления дубликатов может быть ошибка сервера, в целом трудно судить (дубль предполагает совпадение времени в т.ч. Возможно ли, что при обновлении страницы пользователь, таким образом добавил строку в наш датасет (обновил в ту же секунду))"
   ]
  },
  {
   "cell_type": "markdown",
   "metadata": {},
   "source": [
    "---"
   ]
  },
  {
   "cell_type": "markdown",
   "metadata": {},
   "source": [
    "<a id = 'stage_1_3'></a>\n",
    "\n",
    "#### 1.3. Добавить признак: день\n",
    "\n",
    "[к оглавлению](#title)"
   ]
  },
  {
   "cell_type": "code",
   "execution_count": 66,
   "metadata": {},
   "outputs": [
    {
     "data": {
      "text/plain": [
       "<DatetimeArray>\n",
       "['2019-08-05 00:00:00', '2019-08-01 00:00:00', '2019-08-02 00:00:00',\n",
       " '2019-08-03 00:00:00', '2019-08-04 00:00:00', '2019-07-31 00:00:00',\n",
       " '2019-07-30 00:00:00', '2019-07-29 00:00:00', '2019-07-27 00:00:00',\n",
       " '2019-07-28 00:00:00', '2019-07-26 00:00:00', '2019-07-25 00:00:00']\n",
       "Length: 12, dtype: datetime64[ns]"
      ]
     },
     "execution_count": 66,
     "metadata": {},
     "output_type": "execute_result"
    }
   ],
   "source": [
    "data['day'] = pd.to_datetime(data['event_time'].dt.date)\n",
    "data['day'].unique()"
   ]
  },
  {
   "cell_type": "markdown",
   "metadata": {},
   "source": [
    "---"
   ]
  },
  {
   "cell_type": "markdown",
   "metadata": {},
   "source": [
    "<a id = 'stage_1_4'></a>\n",
    "\n",
    "#### 1.4. Сбор данных по A/B тестированию: сроки, распределение посетителей по дням, очитска данных (если необходима), кумулятивная доля посетителей по событиям,  кол-во уникальных пользователей (по группам исследования)\n",
    "\n",
    "[к оглавлению](#title)"
   ]
  },
  {
   "cell_type": "code",
   "execution_count": 67,
   "metadata": {},
   "outputs": [
    {
     "data": {
      "text/html": [
       "<div>\n",
       "<style scoped>\n",
       "    .dataframe tbody tr th:only-of-type {\n",
       "        vertical-align: middle;\n",
       "    }\n",
       "\n",
       "    .dataframe tbody tr th {\n",
       "        vertical-align: top;\n",
       "    }\n",
       "\n",
       "    .dataframe thead th {\n",
       "        text-align: right;\n",
       "    }\n",
       "</style>\n",
       "<table border=\"1\" class=\"dataframe\">\n",
       "  <thead>\n",
       "    <tr style=\"text-align: right;\">\n",
       "      <th></th>\n",
       "      <th>day</th>\n",
       "      <th>count</th>\n",
       "    </tr>\n",
       "  </thead>\n",
       "  <tbody>\n",
       "    <tr>\n",
       "      <th>0</th>\n",
       "      <td>2019-08-01</td>\n",
       "      <td>36090</td>\n",
       "    </tr>\n",
       "    <tr>\n",
       "      <th>1</th>\n",
       "      <td>2019-08-02</td>\n",
       "      <td>35564</td>\n",
       "    </tr>\n",
       "    <tr>\n",
       "      <th>2</th>\n",
       "      <td>2019-08-03</td>\n",
       "      <td>33286</td>\n",
       "    </tr>\n",
       "    <tr>\n",
       "      <th>3</th>\n",
       "      <td>2019-08-04</td>\n",
       "      <td>32961</td>\n",
       "    </tr>\n",
       "    <tr>\n",
       "      <th>4</th>\n",
       "      <td>2019-08-05</td>\n",
       "      <td>13777</td>\n",
       "    </tr>\n",
       "    <tr>\n",
       "      <th>5</th>\n",
       "      <td>2019-07-31</td>\n",
       "      <td>2019</td>\n",
       "    </tr>\n",
       "    <tr>\n",
       "      <th>6</th>\n",
       "      <td>2019-07-30</td>\n",
       "      <td>411</td>\n",
       "    </tr>\n",
       "    <tr>\n",
       "      <th>7</th>\n",
       "      <td>2019-07-29</td>\n",
       "      <td>184</td>\n",
       "    </tr>\n",
       "    <tr>\n",
       "      <th>8</th>\n",
       "      <td>2019-07-28</td>\n",
       "      <td>105</td>\n",
       "    </tr>\n",
       "    <tr>\n",
       "      <th>9</th>\n",
       "      <td>2019-07-27</td>\n",
       "      <td>56</td>\n",
       "    </tr>\n",
       "    <tr>\n",
       "      <th>10</th>\n",
       "      <td>2019-07-26</td>\n",
       "      <td>30</td>\n",
       "    </tr>\n",
       "    <tr>\n",
       "      <th>11</th>\n",
       "      <td>2019-07-25</td>\n",
       "      <td>9</td>\n",
       "    </tr>\n",
       "  </tbody>\n",
       "</table>\n",
       "</div>"
      ],
      "text/plain": [
       "          day  count\n",
       "0  2019-08-01  36090\n",
       "1  2019-08-02  35564\n",
       "2  2019-08-03  33286\n",
       "3  2019-08-04  32961\n",
       "4  2019-08-05  13777\n",
       "5  2019-07-31   2019\n",
       "6  2019-07-30    411\n",
       "7  2019-07-29    184\n",
       "8  2019-07-28    105\n",
       "9  2019-07-27     56\n",
       "10 2019-07-26     30\n",
       "11 2019-07-25      9"
      ]
     },
     "execution_count": 67,
     "metadata": {},
     "output_type": "execute_result"
    },
    {
     "data": {
      "image/png": "[encoded data removed]",
      "text/plain": [
       "<Figure size 1500x500 with 1 Axes>"
      ]
     },
     "metadata": {},
     "output_type": "display_data"
    }
   ],
   "source": [
    "# Кол-во посетителей в день\n",
    "plt.figure(figsize=(15,5))\n",
    "sns.barplot(data = data['day'].value_counts().reset_index(),\n",
    "            x = 'count',\n",
    "            y = 'day')\n",
    "plt.title('Количество посетителей в день \\n')\n",
    "data['day'].value_counts().reset_index()"
   ]
  },
  {
   "cell_type": "code",
   "execution_count": 68,
   "metadata": {},
   "outputs": [
    {
     "data": {
      "text/html": [
       "<div>\n",
       "<style scoped>\n",
       "    .dataframe tbody tr th:only-of-type {\n",
       "        vertical-align: middle;\n",
       "    }\n",
       "\n",
       "    .dataframe tbody tr th {\n",
       "        vertical-align: top;\n",
       "    }\n",
       "\n",
       "    .dataframe thead th {\n",
       "        text-align: right;\n",
       "    }\n",
       "</style>\n",
       "<table border=\"1\" class=\"dataframe\">\n",
       "  <thead>\n",
       "    <tr style=\"text-align: right;\">\n",
       "      <th></th>\n",
       "      <th>day</th>\n",
       "      <th>count</th>\n",
       "      <th>percent</th>\n",
       "      <th>percent_cum_sum</th>\n",
       "    </tr>\n",
       "  </thead>\n",
       "  <tbody>\n",
       "    <tr>\n",
       "      <th>0</th>\n",
       "      <td>2019-07-25</td>\n",
       "      <td>9</td>\n",
       "      <td>0.01</td>\n",
       "      <td>0.01</td>\n",
       "    </tr>\n",
       "    <tr>\n",
       "      <th>1</th>\n",
       "      <td>2019-07-26</td>\n",
       "      <td>30</td>\n",
       "      <td>0.02</td>\n",
       "      <td>0.03</td>\n",
       "    </tr>\n",
       "    <tr>\n",
       "      <th>2</th>\n",
       "      <td>2019-07-27</td>\n",
       "      <td>56</td>\n",
       "      <td>0.04</td>\n",
       "      <td>0.06</td>\n",
       "    </tr>\n",
       "    <tr>\n",
       "      <th>3</th>\n",
       "      <td>2019-07-28</td>\n",
       "      <td>105</td>\n",
       "      <td>0.07</td>\n",
       "      <td>0.13</td>\n",
       "    </tr>\n",
       "    <tr>\n",
       "      <th>4</th>\n",
       "      <td>2019-07-29</td>\n",
       "      <td>184</td>\n",
       "      <td>0.12</td>\n",
       "      <td>0.25</td>\n",
       "    </tr>\n",
       "    <tr>\n",
       "      <th>5</th>\n",
       "      <td>2019-07-30</td>\n",
       "      <td>411</td>\n",
       "      <td>0.27</td>\n",
       "      <td>0.51</td>\n",
       "    </tr>\n",
       "    <tr>\n",
       "      <th>6</th>\n",
       "      <td>2019-07-31</td>\n",
       "      <td>2019</td>\n",
       "      <td>1.31</td>\n",
       "      <td>1.82</td>\n",
       "    </tr>\n",
       "    <tr>\n",
       "      <th>7</th>\n",
       "      <td>2019-08-01</td>\n",
       "      <td>36090</td>\n",
       "      <td>23.36</td>\n",
       "      <td>25.18</td>\n",
       "    </tr>\n",
       "    <tr>\n",
       "      <th>8</th>\n",
       "      <td>2019-08-02</td>\n",
       "      <td>35564</td>\n",
       "      <td>23.02</td>\n",
       "      <td>48.20</td>\n",
       "    </tr>\n",
       "    <tr>\n",
       "      <th>9</th>\n",
       "      <td>2019-08-03</td>\n",
       "      <td>33286</td>\n",
       "      <td>21.55</td>\n",
       "      <td>69.75</td>\n",
       "    </tr>\n",
       "    <tr>\n",
       "      <th>10</th>\n",
       "      <td>2019-08-04</td>\n",
       "      <td>32961</td>\n",
       "      <td>21.34</td>\n",
       "      <td>91.08</td>\n",
       "    </tr>\n",
       "    <tr>\n",
       "      <th>11</th>\n",
       "      <td>2019-08-05</td>\n",
       "      <td>13777</td>\n",
       "      <td>8.92</td>\n",
       "      <td>100.00</td>\n",
       "    </tr>\n",
       "  </tbody>\n",
       "</table>\n",
       "</div>"
      ],
      "text/plain": [
       "          day  count  percent  percent_cum_sum\n",
       "0  2019-07-25      9     0.01             0.01\n",
       "1  2019-07-26     30     0.02             0.03\n",
       "2  2019-07-27     56     0.04             0.06\n",
       "3  2019-07-28    105     0.07             0.13\n",
       "4  2019-07-29    184     0.12             0.25\n",
       "5  2019-07-30    411     0.27             0.51\n",
       "6  2019-07-31   2019     1.31             1.82\n",
       "7  2019-08-01  36090    23.36            25.18\n",
       "8  2019-08-02  35564    23.02            48.20\n",
       "9  2019-08-03  33286    21.55            69.75\n",
       "10 2019-08-04  32961    21.34            91.08\n",
       "11 2019-08-05  13777     8.92           100.00"
      ]
     },
     "execution_count": 68,
     "metadata": {},
     "output_type": "execute_result"
    }
   ],
   "source": [
    "# Посмотрим на кумулятивную долю посетителей\n",
    "data_for_cum_sum =\\\n",
    "data.groupby('day')['event'].count().reset_index().rename({'event': 'count'}, axis=1)\n",
    "\n",
    "all_count =data_for_cum_sum['count'].sum()\n",
    "\n",
    "data_for_cum_sum['percent'] = (data_for_cum_sum['count'] / all_count)*100\n",
    "data_for_cum_sum['percent_cum_sum'] = data_for_cum_sum['percent'].cumsum()\n",
    "data_for_cum_sum.round(2)"
   ]
  },
  {
   "cell_type": "code",
   "execution_count": 69,
   "metadata": {},
   "outputs": [
    {
     "data": {
      "text/plain": [
       "Text(0.5, 0, 'count')"
      ]
     },
     "execution_count": 69,
     "metadata": {},
     "output_type": "execute_result"
    },
    {
     "data": {
      "image/png": "[encoded data removed]",
      "text/plain": [
       "<Figure size 1500x500 with 1 Axes>"
      ]
     },
     "metadata": {},
     "output_type": "display_data"
    }
   ],
   "source": [
    "# Кол-во посетителей в день по группам исследования\n",
    "data_event_group_count =\\\n",
    "data.groupby(['day', 'group'])['event'].count().reset_index()\n",
    "\n",
    "plt.figure(figsize=(15, 5))\n",
    "sns.barplot(data_event_group_count,\n",
    "            x = 'event',\n",
    "            y = 'day',\n",
    "            hue = 'group')\n",
    "plt.title('Кол-во посетителей в день по каждой группе исследования \\n')\n",
    "plt.xlabel('count')"
   ]
  },
  {
   "cell_type": "code",
   "execution_count": 70,
   "metadata": {},
   "outputs": [
    {
     "name": "stdout",
     "output_type": "stream",
     "text": [
      "<class 'pandas.core.frame.DataFrame'>\n",
      "Index: 115588 entries, 0 to 154491\n",
      "Data columns (total 5 columns):\n",
      " #   Column      Non-Null Count   Dtype         \n",
      "---  ------      --------------   -----         \n",
      " 0   event       115588 non-null  object        \n",
      " 1   user_id     115588 non-null  int64         \n",
      " 2   event_time  115588 non-null  datetime64[ns]\n",
      " 3   group       115588 non-null  object        \n",
      " 4   day         115588 non-null  datetime64[ns]\n",
      "dtypes: datetime64[ns](2), int64(1), object(2)\n",
      "memory usage: 5.3+ MB\n"
     ]
    }
   ],
   "source": [
    "# Очистим данные: оставим только последние 5 дней\n",
    "data_clear = data[data['day'] > '2019-08-01']\n",
    "data_clear.info()"
   ]
  },
  {
   "cell_type": "code",
   "execution_count": 71,
   "metadata": {},
   "outputs": [
    {
     "data": {
      "text/plain": [
       "array(['StartReadingOffer', 'OpenProductCard', 'StartCheckProduct',\n",
       "       'OpenPaymentScreen'], dtype=object)"
      ]
     },
     "execution_count": 71,
     "metadata": {},
     "output_type": "execute_result"
    }
   ],
   "source": [
    "# проверим, остались ли события после чистки\n",
    "data['event'].unique()"
   ]
  },
  {
   "cell_type": "code",
   "execution_count": 72,
   "metadata": {},
   "outputs": [
    {
     "data": {
      "text/plain": [
       "array(['StartReadingOffer', 'StartCheckProduct', 'OpenPaymentScreen',\n",
       "       'OpenProductCard'], dtype=object)"
      ]
     },
     "execution_count": 72,
     "metadata": {},
     "output_type": "execute_result"
    }
   ],
   "source": [
    "data_clear['event'].unique()"
   ]
  },
  {
   "cell_type": "markdown",
   "metadata": {},
   "source": [
    "все четыре события все еще в списке"
   ]
  },
  {
   "cell_type": "code",
   "execution_count": 73,
   "metadata": {},
   "outputs": [
    {
     "data": {
      "text/plain": [
       "group\n",
       "A1    2089\n",
       "A2    2037\n",
       "B     2101\n",
       "Name: user_id, dtype: int64"
      ]
     },
     "execution_count": 73,
     "metadata": {},
     "output_type": "execute_result"
    }
   ],
   "source": [
    "data_clear.groupby('group')['user_id'].nunique()    # кол-во пользователей вприципе равны"
   ]
  },
  {
   "cell_type": "markdown",
   "metadata": {},
   "source": [
    "предобработка окончена, все события остались после чистки, группы равномерны распределены (по кол-ву)"
   ]
  },
  {
   "cell_type": "markdown",
   "metadata": {},
   "source": [
    "---"
   ]
  },
  {
   "cell_type": "markdown",
   "metadata": {},
   "source": [
    "<a id = 'stage_2'></a>\n",
    "\n",
    "# 2. Проведите исследовательский анализ данных\n",
    "\n",
    "[к оглавлению](#title)"
   ]
  },
  {
   "cell_type": "markdown",
   "metadata": {},
   "source": [
    "---"
   ]
  },
  {
   "cell_type": "markdown",
   "metadata": {},
   "source": [
    "<a id = 'stage_2_1'></a>\n",
    "\n",
    "#### 2.1. Исследуйте конверсию в воронке на разных этапах?\n",
    "\n",
    "[к оглавлению](#title)"
   ]
  },
  {
   "cell_type": "code",
   "execution_count": 74,
   "metadata": {},
   "outputs": [
    {
     "data": {
      "text/html": [
       "<div>\n",
       "<style scoped>\n",
       "    .dataframe tbody tr th:only-of-type {\n",
       "        vertical-align: middle;\n",
       "    }\n",
       "\n",
       "    .dataframe tbody tr th {\n",
       "        vertical-align: top;\n",
       "    }\n",
       "\n",
       "    .dataframe thead th {\n",
       "        text-align: right;\n",
       "    }\n",
       "</style>\n",
       "<table border=\"1\" class=\"dataframe\">\n",
       "  <thead>\n",
       "    <tr style=\"text-align: right;\">\n",
       "      <th></th>\n",
       "      <th>event</th>\n",
       "      <th>visitor_event_count</th>\n",
       "    </tr>\n",
       "  </thead>\n",
       "  <tbody>\n",
       "    <tr>\n",
       "      <th>3</th>\n",
       "      <td>StartReadingOffer</td>\n",
       "      <td>54338</td>\n",
       "    </tr>\n",
       "    <tr>\n",
       "      <th>2</th>\n",
       "      <td>StartCheckProduct</td>\n",
       "      <td>22665</td>\n",
       "    </tr>\n",
       "    <tr>\n",
       "      <th>1</th>\n",
       "      <td>OpenProductCard</td>\n",
       "      <td>21135</td>\n",
       "    </tr>\n",
       "    <tr>\n",
       "      <th>0</th>\n",
       "      <td>OpenPaymentScreen</td>\n",
       "      <td>17450</td>\n",
       "    </tr>\n",
       "  </tbody>\n",
       "</table>\n",
       "</div>"
      ],
      "text/plain": [
       "               event  visitor_event_count\n",
       "3  StartReadingOffer                54338\n",
       "2  StartCheckProduct                22665\n",
       "1    OpenProductCard                21135\n",
       "0  OpenPaymentScreen                17450"
      ]
     },
     "execution_count": 74,
     "metadata": {},
     "output_type": "execute_result"
    }
   ],
   "source": [
    "# посчитаем кол-во пользователей по каждому событию\n",
    "data_visitor_count =\\\n",
    "data_clear.groupby('event')['user_id'].count() \\\n",
    "                                      .reset_index() \\\n",
    "                                      .rename({'user_id': 'visitor_event_count'}, axis=1)\\\n",
    "                                      .sort_values(by = 'visitor_event_count', ascending=False)\n",
    "\n",
    "data_visitor_count"
   ]
  },
  {
   "cell_type": "code",
   "execution_count": 75,
   "metadata": {},
   "outputs": [
    {
     "data": {
      "text/html": [
       "<div>\n",
       "<style scoped>\n",
       "    .dataframe tbody tr th:only-of-type {\n",
       "        vertical-align: middle;\n",
       "    }\n",
       "\n",
       "    .dataframe tbody tr th {\n",
       "        vertical-align: top;\n",
       "    }\n",
       "\n",
       "    .dataframe thead th {\n",
       "        text-align: right;\n",
       "    }\n",
       "</style>\n",
       "<table border=\"1\" class=\"dataframe\">\n",
       "  <thead>\n",
       "    <tr style=\"text-align: right;\">\n",
       "      <th></th>\n",
       "      <th>unique_user_count</th>\n",
       "    </tr>\n",
       "    <tr>\n",
       "      <th>event</th>\n",
       "      <th></th>\n",
       "    </tr>\n",
       "  </thead>\n",
       "  <tbody>\n",
       "    <tr>\n",
       "      <th>StartReadingOffer</th>\n",
       "      <td>6072</td>\n",
       "    </tr>\n",
       "    <tr>\n",
       "      <th>StartCheckProduct</th>\n",
       "      <td>3638</td>\n",
       "    </tr>\n",
       "    <tr>\n",
       "      <th>OpenPaymentScreen</th>\n",
       "      <td>3019</td>\n",
       "    </tr>\n",
       "    <tr>\n",
       "      <th>OpenProductCard</th>\n",
       "      <td>2950</td>\n",
       "    </tr>\n",
       "  </tbody>\n",
       "</table>\n",
       "</div>"
      ],
      "text/plain": [
       "                   unique_user_count\n",
       "event                               \n",
       "StartReadingOffer               6072\n",
       "StartCheckProduct               3638\n",
       "OpenPaymentScreen               3019\n",
       "OpenProductCard                 2950"
      ]
     },
     "execution_count": 75,
     "metadata": {},
     "output_type": "execute_result"
    }
   ],
   "source": [
    "# посмотрим на уникальное кол-во посетителей\n",
    "data_unique_user_count = \\\n",
    "data_clear.groupby('event').agg({'user_id':'nunique'}) \\\n",
    "                           .rename({'user_id':'unique_user_count'}, axis = 1)\\\n",
    "                           .sort_values(by = 'unique_user_count', ascending=False)\n",
    "\n",
    "data_unique_user_count"
   ]
  },
  {
   "cell_type": "code",
   "execution_count": 76,
   "metadata": {},
   "outputs": [
    {
     "data": {
      "text/html": [
       "<div>\n",
       "<style scoped>\n",
       "    .dataframe tbody tr th:only-of-type {\n",
       "        vertical-align: middle;\n",
       "    }\n",
       "\n",
       "    .dataframe tbody tr th {\n",
       "        vertical-align: top;\n",
       "    }\n",
       "\n",
       "    .dataframe thead th {\n",
       "        text-align: right;\n",
       "    }\n",
       "</style>\n",
       "<table border=\"1\" class=\"dataframe\">\n",
       "  <thead>\n",
       "    <tr style=\"text-align: right;\">\n",
       "      <th></th>\n",
       "      <th>unique_user_count</th>\n",
       "      <th>percent</th>\n",
       "    </tr>\n",
       "    <tr>\n",
       "      <th>event</th>\n",
       "      <th></th>\n",
       "      <th></th>\n",
       "    </tr>\n",
       "  </thead>\n",
       "  <tbody>\n",
       "    <tr>\n",
       "      <th>StartReadingOffer</th>\n",
       "      <td>6072</td>\n",
       "      <td>38.73</td>\n",
       "    </tr>\n",
       "    <tr>\n",
       "      <th>StartCheckProduct</th>\n",
       "      <td>3638</td>\n",
       "      <td>23.20</td>\n",
       "    </tr>\n",
       "    <tr>\n",
       "      <th>OpenPaymentScreen</th>\n",
       "      <td>3019</td>\n",
       "      <td>19.26</td>\n",
       "    </tr>\n",
       "    <tr>\n",
       "      <th>OpenProductCard</th>\n",
       "      <td>2950</td>\n",
       "      <td>18.81</td>\n",
       "    </tr>\n",
       "  </tbody>\n",
       "</table>\n",
       "</div>"
      ],
      "text/plain": [
       "                   unique_user_count  percent\n",
       "event                                        \n",
       "StartReadingOffer               6072    38.73\n",
       "StartCheckProduct               3638    23.20\n",
       "OpenPaymentScreen               3019    19.26\n",
       "OpenProductCard                 2950    18.81"
      ]
     },
     "execution_count": 76,
     "metadata": {},
     "output_type": "execute_result"
    }
   ],
   "source": [
    "# расчет конверсии по событиям\n",
    "data_unique_user_count['percent'] = (data_unique_user_count['unique_user_count'] / data_unique_user_count['unique_user_count'].sum())*100\n",
    "data_unique_user_count.round(2)"
   ]
  },
  {
   "cell_type": "code",
   "execution_count": 77,
   "metadata": {},
   "outputs": [
    {
     "data": {
      "application/vnd.plotly.v1+json": {
       "config": {
        "plotlyServerURL": "https://plot.ly"
       },
       "data": [
        {
         "type": "funnel",
         "x": [
          6072,
          3638,
          3019,
          2950
         ],
         "y": [
          "StartReadingOffer",
          "StartCheckProduct",
          "OpenPaymentScreen",
          "OpenProductCard"
         ]
        }
       ],
       "layout": {
        "template": {
         "data": {
          "bar": [
           {
            "error_x": {
             "color": "#2a3f5f"
            },
            "error_y": {
             "color": "#2a3f5f"
            },
            "marker": {
             "line": {
              "color": "#E5ECF6",
              "width": 0.5
             },
             "pattern": {
              "fillmode": "overlay",
              "size": 10,
              "solidity": 0.2
             }
            },
            "type": "bar"
           }
          ],
          "barpolar": [
           {
            "marker": {
             "line": {
              "color": "#E5ECF6",
              "width": 0.5
             },
             "pattern": {
              "fillmode": "overlay",
              "size": 10,
              "solidity": 0.2
             }
            },
            "type": "barpolar"
           }
          ],
          "carpet": [
           {
            "aaxis": {
             "endlinecolor": "#2a3f5f",
             "gridcolor": "white",
             "linecolor": "white",
             "minorgridcolor": "white",
             "startlinecolor": "#2a3f5f"
            },
            "baxis": {
             "endlinecolor": "#2a3f5f",
             "gridcolor": "white",
             "linecolor": "white",
             "minorgridcolor": "white",
             "startlinecolor": "#2a3f5f"
            },
            "type": "carpet"
           }
          ],
          "choropleth": [
           {
            "colorbar": {
             "outlinewidth": 0,
             "ticks": ""
            },
            "type": "choropleth"
           }
          ],
          "contour": [
           {
            "colorbar": {
             "outlinewidth": 0,
             "ticks": ""
            },
            "colorscale": [
             [
              0,
              "#0d0887"
             ],
             [
              0.1111111111111111,
              "#46039f"
             ],
             [
              0.2222222222222222,
              "#7201a8"
             ],
             [
              0.3333333333333333,
              "#9c179e"
             ],
             [
              0.4444444444444444,
              "#bd3786"
             ],
             [
              0.5555555555555556,
              "#d8576b"
             ],
             [
              0.6666666666666666,
              "#ed7953"
             ],
             [
              0.7777777777777778,
              "#fb9f3a"
             ],
             [
              0.8888888888888888,
              "#fdca26"
             ],
             [
              1,
              "#f0f921"
             ]
            ],
            "type": "contour"
           }
          ],
          "contourcarpet": [
           {
            "colorbar": {
             "outlinewidth": 0,
             "ticks": ""
            },
            "type": "contourcarpet"
           }
          ],
          "heatmap": [
           {
            "colorbar": {
             "outlinewidth": 0,
             "ticks": ""
            },
            "colorscale": [
             [
              0,
              "#0d0887"
             ],
             [
              0.1111111111111111,
              "#46039f"
             ],
             [
              0.2222222222222222,
              "#7201a8"
             ],
             [
              0.3333333333333333,
              "#9c179e"
             ],
             [
              0.4444444444444444,
              "#bd3786"
             ],
             [
              0.5555555555555556,
              "#d8576b"
             ],
             [
              0.6666666666666666,
              "#ed7953"
             ],
             [
              0.7777777777777778,
              "#fb9f3a"
             ],
             [
              0.8888888888888888,
              "#fdca26"
             ],
             [
              1,
              "#f0f921"
             ]
            ],
            "type": "heatmap"
           }
          ],
          "heatmapgl": [
           {
            "colorbar": {
             "outlinewidth": 0,
             "ticks": ""
            },
            "colorscale": [
             [
              0,
              "#0d0887"
             ],
             [
              0.1111111111111111,
              "#46039f"
             ],
             [
              0.2222222222222222,
              "#7201a8"
             ],
             [
              0.3333333333333333,
              "#9c179e"
             ],
             [
              0.4444444444444444,
              "#bd3786"
             ],
             [
              0.5555555555555556,
              "#d8576b"
             ],
             [
              0.6666666666666666,
              "#ed7953"
             ],
             [
              0.7777777777777778,
              "#fb9f3a"
             ],
             [
              0.8888888888888888,
              "#fdca26"
             ],
             [
              1,
              "#f0f921"
             ]
            ],
            "type": "heatmapgl"
           }
          ],
          "histogram": [
           {
            "marker": {
             "pattern": {
              "fillmode": "overlay",
              "size": 10,
              "solidity": 0.2
             }
            },
            "type": "histogram"
           }
          ],
          "histogram2d": [
           {
            "colorbar": {
             "outlinewidth": 0,
             "ticks": ""
            },
            "colorscale": [
             [
              0,
              "#0d0887"
             ],
             [
              0.1111111111111111,
              "#46039f"
             ],
             [
              0.2222222222222222,
              "#7201a8"
             ],
             [
              0.3333333333333333,
              "#9c179e"
             ],
             [
              0.4444444444444444,
              "#bd3786"
             ],
             [
              0.5555555555555556,
              "#d8576b"
             ],
             [
              0.6666666666666666,
              "#ed7953"
             ],
             [
              0.7777777777777778,
              "#fb9f3a"
             ],
             [
              0.8888888888888888,
              "#fdca26"
             ],
             [
              1,
              "#f0f921"
             ]
            ],
            "type": "histogram2d"
           }
          ],
          "histogram2dcontour": [
           {
            "colorbar": {
             "outlinewidth": 0,
             "ticks": ""
            },
            "colorscale": [
             [
              0,
              "#0d0887"
             ],
             [
              0.1111111111111111,
              "#46039f"
             ],
             [
              0.2222222222222222,
              "#7201a8"
             ],
             [
              0.3333333333333333,
              "#9c179e"
             ],
             [
              0.4444444444444444,
              "#bd3786"
             ],
             [
              0.5555555555555556,
              "#d8576b"
             ],
             [
              0.6666666666666666,
              "#ed7953"
             ],
             [
              0.7777777777777778,
              "#fb9f3a"
             ],
             [
              0.8888888888888888,
              "#fdca26"
             ],
             [
              1,
              "#f0f921"
             ]
            ],
            "type": "histogram2dcontour"
           }
          ],
          "mesh3d": [
           {
            "colorbar": {
             "outlinewidth": 0,
             "ticks": ""
            },
            "type": "mesh3d"
           }
          ],
          "parcoords": [
           {
            "line": {
             "colorbar": {
              "outlinewidth": 0,
              "ticks": ""
             }
            },
            "type": "parcoords"
           }
          ],
          "pie": [
           {
            "automargin": true,
            "type": "pie"
           }
          ],
          "scatter": [
           {
            "fillpattern": {
             "fillmode": "overlay",
             "size": 10,
             "solidity": 0.2
            },
            "type": "scatter"
           }
          ],
          "scatter3d": [
           {
            "line": {
             "colorbar": {
              "outlinewidth": 0,
              "ticks": ""
             }
            },
            "marker": {
             "colorbar": {
              "outlinewidth": 0,
              "ticks": ""
             }
            },
            "type": "scatter3d"
           }
          ],
          "scattercarpet": [
           {
            "marker": {
             "colorbar": {
              "outlinewidth": 0,
              "ticks": ""
             }
            },
            "type": "scattercarpet"
           }
          ],
          "scattergeo": [
           {
            "marker": {
             "colorbar": {
              "outlinewidth": 0,
              "ticks": ""
             }
            },
            "type": "scattergeo"
           }
          ],
          "scattergl": [
           {
            "marker": {
             "colorbar": {
              "outlinewidth": 0,
              "ticks": ""
             }
            },
            "type": "scattergl"
           }
          ],
          "scattermapbox": [
           {
            "marker": {
             "colorbar": {
              "outlinewidth": 0,
              "ticks": ""
             }
            },
            "type": "scattermapbox"
           }
          ],
          "scatterpolar": [
           {
            "marker": {
             "colorbar": {
              "outlinewidth": 0,
              "ticks": ""
             }
            },
            "type": "scatterpolar"
           }
          ],
          "scatterpolargl": [
           {
            "marker": {
             "colorbar": {
              "outlinewidth": 0,
              "ticks": ""
             }
            },
            "type": "scatterpolargl"
           }
          ],
          "scatterternary": [
           {
            "marker": {
             "colorbar": {
              "outlinewidth": 0,
              "ticks": ""
             }
            },
            "type": "scatterternary"
           }
          ],
          "surface": [
           {
            "colorbar": {
             "outlinewidth": 0,
             "ticks": ""
            },
            "colorscale": [
             [
              0,
              "#0d0887"
             ],
             [
              0.1111111111111111,
              "#46039f"
             ],
             [
              0.2222222222222222,
              "#7201a8"
             ],
             [
              0.3333333333333333,
              "#9c179e"
             ],
             [
              0.4444444444444444,
              "#bd3786"
             ],
             [
              0.5555555555555556,
              "#d8576b"
             ],
             [
              0.6666666666666666,
              "#ed7953"
             ],
             [
              0.7777777777777778,
              "#fb9f3a"
             ],
             [
              0.8888888888888888,
              "#fdca26"
             ],
             [
              1,
              "#f0f921"
             ]
            ],
            "type": "surface"
           }
          ],
          "table": [
           {
            "cells": {
             "fill": {
              "color": "#EBF0F8"
             },
             "line": {
              "color": "white"
             }
            },
            "header": {
             "fill": {
              "color": "#C8D4E3"
             },
             "line": {
              "color": "white"
             }
            },
            "type": "table"
           }
          ]
         },
         "layout": {
          "annotationdefaults": {
           "arrowcolor": "#2a3f5f",
           "arrowhead": 0,
           "arrowwidth": 1
          },
          "autotypenumbers": "strict",
          "coloraxis": {
           "colorbar": {
            "outlinewidth": 0,
            "ticks": ""
           }
          },
          "colorscale": {
           "diverging": [
            [
             0,
             "#8e0152"
            ],
            [
             0.1,
             "#c51b7d"
            ],
            [
             0.2,
             "#de77ae"
            ],
            [
             0.3,
             "#f1b6da"
            ],
            [
             0.4,
             "#fde0ef"
            ],
            [
             0.5,
             "#f7f7f7"
            ],
            [
             0.6,
             "#e6f5d0"
            ],
            [
             0.7,
             "#b8e186"
            ],
            [
             0.8,
             "#7fbc41"
            ],
            [
             0.9,
             "#4d9221"
            ],
            [
             1,
             "#276419"
            ]
           ],
           "sequential": [
            [
             0,
             "#0d0887"
            ],
            [
             0.1111111111111111,
             "#46039f"
            ],
            [
             0.2222222222222222,
             "#7201a8"
            ],
            [
             0.3333333333333333,
             "#9c179e"
            ],
            [
             0.4444444444444444,
             "#bd3786"
            ],
            [
             0.5555555555555556,
             "#d8576b"
            ],
            [
             0.6666666666666666,
             "#ed7953"
            ],
            [
             0.7777777777777778,
             "#fb9f3a"
            ],
            [
             0.8888888888888888,
             "#fdca26"
            ],
            [
             1,
             "#f0f921"
            ]
           ],
           "sequentialminus": [
            [
             0,
             "#0d0887"
            ],
            [
             0.1111111111111111,
             "#46039f"
            ],
            [
             0.2222222222222222,
             "#7201a8"
            ],
            [
             0.3333333333333333,
             "#9c179e"
            ],
            [
             0.4444444444444444,
             "#bd3786"
            ],
            [
             0.5555555555555556,
             "#d8576b"
            ],
            [
             0.6666666666666666,
             "#ed7953"
            ],
            [
             0.7777777777777778,
             "#fb9f3a"
            ],
            [
             0.8888888888888888,
             "#fdca26"
            ],
            [
             1,
             "#f0f921"
            ]
           ]
          },
          "colorway": [
           "#636efa",
           "#EF553B",
           "#00cc96",
           "#ab63fa",
           "#FFA15A",
           "#19d3f3",
           "#FF6692",
           "#B6E880",
           "#FF97FF",
           "#FECB52"
          ],
          "font": {
           "color": "#2a3f5f"
          },
          "geo": {
           "bgcolor": "white",
           "lakecolor": "white",
           "landcolor": "#E5ECF6",
           "showlakes": true,
           "showland": true,
           "subunitcolor": "white"
          },
          "hoverlabel": {
           "align": "left"
          },
          "hovermode": "closest",
          "mapbox": {
           "style": "light"
          },
          "paper_bgcolor": "white",
          "plot_bgcolor": "#E5ECF6",
          "polar": {
           "angularaxis": {
            "gridcolor": "white",
            "linecolor": "white",
            "ticks": ""
           },
           "bgcolor": "#E5ECF6",
           "radialaxis": {
            "gridcolor": "white",
            "linecolor": "white",
            "ticks": ""
           }
          },
          "scene": {
           "xaxis": {
            "backgroundcolor": "#E5ECF6",
            "gridcolor": "white",
            "gridwidth": 2,
            "linecolor": "white",
            "showbackground": true,
            "ticks": "",
            "zerolinecolor": "white"
           },
           "yaxis": {
            "backgroundcolor": "#E5ECF6",
            "gridcolor": "white",
            "gridwidth": 2,
            "linecolor": "white",
            "showbackground": true,
            "ticks": "",
            "zerolinecolor": "white"
           },
           "zaxis": {
            "backgroundcolor": "#E5ECF6",
            "gridcolor": "white",
            "gridwidth": 2,
            "linecolor": "white",
            "showbackground": true,
            "ticks": "",
            "zerolinecolor": "white"
           }
          },
          "shapedefaults": {
           "line": {
            "color": "#2a3f5f"
           }
          },
          "ternary": {
           "aaxis": {
            "gridcolor": "white",
            "linecolor": "white",
            "ticks": ""
           },
           "baxis": {
            "gridcolor": "white",
            "linecolor": "white",
            "ticks": ""
           },
           "bgcolor": "#E5ECF6",
           "caxis": {
            "gridcolor": "white",
            "linecolor": "white",
            "ticks": ""
           }
          },
          "title": {
           "x": 0.05
          },
          "xaxis": {
           "automargin": true,
           "gridcolor": "white",
           "linecolor": "white",
           "ticks": "",
           "title": {
            "standoff": 15
           },
           "zerolinecolor": "white",
           "zerolinewidth": 2
          },
          "yaxis": {
           "automargin": true,
           "gridcolor": "white",
           "linecolor": "white",
           "ticks": "",
           "title": {
            "standoff": 15
           },
           "zerolinecolor": "white",
           "zerolinewidth": 2
          }
         }
        }
       }
      }
     },
     "metadata": {},
     "output_type": "display_data"
    }
   ],
   "source": [
    "# воронка событий (конверсия)\n",
    "from plotly import graph_objects as go\n",
    "\n",
    "fig = go.Figure()\n",
    "fig = go.Figure(go.Funnel(\n",
    "    y = data_unique_user_count.reset_index()['event'],\n",
    "    x = data_unique_user_count.reset_index()['unique_user_count']))\n",
    "fig.show()"
   ]
  },
  {
   "cell_type": "code",
   "execution_count": 78,
   "metadata": {},
   "outputs": [
    {
     "data": {
      "application/vnd.plotly.v1+json": {
       "config": {
        "plotlyServerURL": "https://plot.ly"
       },
       "data": [
        {
         "name": "A1",
         "type": "funnel",
         "x": [
          2039,
          1204,
          1011,
          982
         ],
         "y": [
          "StartReadingOffer",
          "StartCheckProduct",
          "OpenPaymentScreen",
          "OpenProductCard"
         ]
        },
        {
         "name": "A2",
         "type": "funnel",
         "x": [
          1984,
          1227,
          1018,
          988
         ],
         "y": [
          "StartReadingOffer",
          "StartCheckProduct",
          "OpenPaymentScreen",
          "OpenProductCard"
         ]
        },
        {
         "name": "B",
         "type": "funnel",
         "x": [
          2049,
          1207,
          990,
          980
         ],
         "y": [
          "StartReadingOffer",
          "StartCheckProduct",
          "OpenPaymentScreen",
          "OpenProductCard"
         ]
        }
       ],
       "layout": {
        "template": {
         "data": {
          "bar": [
           {
            "error_x": {
             "color": "#2a3f5f"
            },
            "error_y": {
             "color": "#2a3f5f"
            },
            "marker": {
             "line": {
              "color": "#E5ECF6",
              "width": 0.5
             },
             "pattern": {
              "fillmode": "overlay",
              "size": 10,
              "solidity": 0.2
             }
            },
            "type": "bar"
           }
          ],
          "barpolar": [
           {
            "marker": {
             "line": {
              "color": "#E5ECF6",
              "width": 0.5
             },
             "pattern": {
              "fillmode": "overlay",
              "size": 10,
              "solidity": 0.2
             }
            },
            "type": "barpolar"
           }
          ],
          "carpet": [
           {
            "aaxis": {
             "endlinecolor": "#2a3f5f",
             "gridcolor": "white",
             "linecolor": "white",
             "minorgridcolor": "white",
             "startlinecolor": "#2a3f5f"
            },
            "baxis": {
             "endlinecolor": "#2a3f5f",
             "gridcolor": "white",
             "linecolor": "white",
             "minorgridcolor": "white",
             "startlinecolor": "#2a3f5f"
            },
            "type": "carpet"
           }
          ],
          "choropleth": [
           {
            "colorbar": {
             "outlinewidth": 0,
             "ticks": ""
            },
            "type": "choropleth"
           }
          ],
          "contour": [
           {
            "colorbar": {
             "outlinewidth": 0,
             "ticks": ""
            },
            "colorscale": [
             [
              0,
              "#0d0887"
             ],
             [
              0.1111111111111111,
              "#46039f"
             ],
             [
              0.2222222222222222,
              "#7201a8"
             ],
             [
              0.3333333333333333,
              "#9c179e"
             ],
             [
              0.4444444444444444,
              "#bd3786"
             ],
             [
              0.5555555555555556,
              "#d8576b"
             ],
             [
              0.6666666666666666,
              "#ed7953"
             ],
             [
              0.7777777777777778,
              "#fb9f3a"
             ],
             [
              0.8888888888888888,
              "#fdca26"
             ],
             [
              1,
              "#f0f921"
             ]
            ],
            "type": "contour"
           }
          ],
          "contourcarpet": [
           {
            "colorbar": {
             "outlinewidth": 0,
             "ticks": ""
            },
            "type": "contourcarpet"
           }
          ],
          "heatmap": [
           {
            "colorbar": {
             "outlinewidth": 0,
             "ticks": ""
            },
            "colorscale": [
             [
              0,
              "#0d0887"
             ],
             [
              0.1111111111111111,
              "#46039f"
             ],
             [
              0.2222222222222222,
              "#7201a8"
             ],
             [
              0.3333333333333333,
              "#9c179e"
             ],
             [
              0.4444444444444444,
              "#bd3786"
             ],
             [
              0.5555555555555556,
              "#d8576b"
             ],
             [
              0.6666666666666666,
              "#ed7953"
             ],
             [
              0.7777777777777778,
              "#fb9f3a"
             ],
             [
              0.8888888888888888,
              "#fdca26"
             ],
             [
              1,
              "#f0f921"
             ]
            ],
            "type": "heatmap"
           }
          ],
          "heatmapgl": [
           {
            "colorbar": {
             "outlinewidth": 0,
             "ticks": ""
            },
            "colorscale": [
             [
              0,
              "#0d0887"
             ],
             [
              0.1111111111111111,
              "#46039f"
             ],
             [
              0.2222222222222222,
              "#7201a8"
             ],
             [
              0.3333333333333333,
              "#9c179e"
             ],
             [
              0.4444444444444444,
              "#bd3786"
             ],
             [
              0.5555555555555556,
              "#d8576b"
             ],
             [
              0.6666666666666666,
              "#ed7953"
             ],
             [
              0.7777777777777778,
              "#fb9f3a"
             ],
             [
              0.8888888888888888,
              "#fdca26"
             ],
             [
              1,
              "#f0f921"
             ]
            ],
            "type": "heatmapgl"
           }
          ],
          "histogram": [
           {
            "marker": {
             "pattern": {
              "fillmode": "overlay",
              "size": 10,
              "solidity": 0.2
             }
            },
            "type": "histogram"
           }
          ],
          "histogram2d": [
           {
            "colorbar": {
             "outlinewidth": 0,
             "ticks": ""
            },
            "colorscale": [
             [
              0,
              "#0d0887"
             ],
             [
              0.1111111111111111,
              "#46039f"
             ],
             [
              0.2222222222222222,
              "#7201a8"
             ],
             [
              0.3333333333333333,
              "#9c179e"
             ],
             [
              0.4444444444444444,
              "#bd3786"
             ],
             [
              0.5555555555555556,
              "#d8576b"
             ],
             [
              0.6666666666666666,
              "#ed7953"
             ],
             [
              0.7777777777777778,
              "#fb9f3a"
             ],
             [
              0.8888888888888888,
              "#fdca26"
             ],
             [
              1,
              "#f0f921"
             ]
            ],
            "type": "histogram2d"
           }
          ],
          "histogram2dcontour": [
           {
            "colorbar": {
             "outlinewidth": 0,
             "ticks": ""
            },
            "colorscale": [
             [
              0,
              "#0d0887"
             ],
             [
              0.1111111111111111,
              "#46039f"
             ],
             [
              0.2222222222222222,
              "#7201a8"
             ],
             [
              0.3333333333333333,
              "#9c179e"
             ],
             [
              0.4444444444444444,
              "#bd3786"
             ],
             [
              0.5555555555555556,
              "#d8576b"
             ],
             [
              0.6666666666666666,
              "#ed7953"
             ],
             [
              0.7777777777777778,
              "#fb9f3a"
             ],
             [
              0.8888888888888888,
              "#fdca26"
             ],
             [
              1,
              "#f0f921"
             ]
            ],
            "type": "histogram2dcontour"
           }
          ],
          "mesh3d": [
           {
            "colorbar": {
             "outlinewidth": 0,
             "ticks": ""
            },
            "type": "mesh3d"
           }
          ],
          "parcoords": [
           {
            "line": {
             "colorbar": {
              "outlinewidth": 0,
              "ticks": ""
             }
            },
            "type": "parcoords"
           }
          ],
          "pie": [
           {
            "automargin": true,
            "type": "pie"
           }
          ],
          "scatter": [
           {
            "fillpattern": {
             "fillmode": "overlay",
             "size": 10,
             "solidity": 0.2
            },
            "type": "scatter"
           }
          ],
          "scatter3d": [
           {
            "line": {
             "colorbar": {
              "outlinewidth": 0,
              "ticks": ""
             }
            },
            "marker": {
             "colorbar": {
              "outlinewidth": 0,
              "ticks": ""
             }
            },
            "type": "scatter3d"
           }
          ],
          "scattercarpet": [
           {
            "marker": {
             "colorbar": {
              "outlinewidth": 0,
              "ticks": ""
             }
            },
            "type": "scattercarpet"
           }
          ],
          "scattergeo": [
           {
            "marker": {
             "colorbar": {
              "outlinewidth": 0,
              "ticks": ""
             }
            },
            "type": "scattergeo"
           }
          ],
          "scattergl": [
           {
            "marker": {
             "colorbar": {
              "outlinewidth": 0,
              "ticks": ""
             }
            },
            "type": "scattergl"
           }
          ],
          "scattermapbox": [
           {
            "marker": {
             "colorbar": {
              "outlinewidth": 0,
              "ticks": ""
             }
            },
            "type": "scattermapbox"
           }
          ],
          "scatterpolar": [
           {
            "marker": {
             "colorbar": {
              "outlinewidth": 0,
              "ticks": ""
             }
            },
            "type": "scatterpolar"
           }
          ],
          "scatterpolargl": [
           {
            "marker": {
             "colorbar": {
              "outlinewidth": 0,
              "ticks": ""
             }
            },
            "type": "scatterpolargl"
           }
          ],
          "scatterternary": [
           {
            "marker": {
             "colorbar": {
              "outlinewidth": 0,
              "ticks": ""
             }
            },
            "type": "scatterternary"
           }
          ],
          "surface": [
           {
            "colorbar": {
             "outlinewidth": 0,
             "ticks": ""
            },
            "colorscale": [
             [
              0,
              "#0d0887"
             ],
             [
              0.1111111111111111,
              "#46039f"
             ],
             [
              0.2222222222222222,
              "#7201a8"
             ],
             [
              0.3333333333333333,
              "#9c179e"
             ],
             [
              0.4444444444444444,
              "#bd3786"
             ],
             [
              0.5555555555555556,
              "#d8576b"
             ],
             [
              0.6666666666666666,
              "#ed7953"
             ],
             [
              0.7777777777777778,
              "#fb9f3a"
             ],
             [
              0.8888888888888888,
              "#fdca26"
             ],
             [
              1,
              "#f0f921"
             ]
            ],
            "type": "surface"
           }
          ],
          "table": [
           {
            "cells": {
             "fill": {
              "color": "#EBF0F8"
             },
             "line": {
              "color": "white"
             }
            },
            "header": {
             "fill": {
              "color": "#C8D4E3"
             },
             "line": {
              "color": "white"
             }
            },
            "type": "table"
           }
          ]
         },
         "layout": {
          "annotationdefaults": {
           "arrowcolor": "#2a3f5f",
           "arrowhead": 0,
           "arrowwidth": 1
          },
          "autotypenumbers": "strict",
          "coloraxis": {
           "colorbar": {
            "outlinewidth": 0,
            "ticks": ""
           }
          },
          "colorscale": {
           "diverging": [
            [
             0,
             "#8e0152"
            ],
            [
             0.1,
             "#c51b7d"
            ],
            [
             0.2,
             "#de77ae"
            ],
            [
             0.3,
             "#f1b6da"
            ],
            [
             0.4,
             "#fde0ef"
            ],
            [
             0.5,
             "#f7f7f7"
            ],
            [
             0.6,
             "#e6f5d0"
            ],
            [
             0.7,
             "#b8e186"
            ],
            [
             0.8,
             "#7fbc41"
            ],
            [
             0.9,
             "#4d9221"
            ],
            [
             1,
             "#276419"
            ]
           ],
           "sequential": [
            [
             0,
             "#0d0887"
            ],
            [
             0.1111111111111111,
             "#46039f"
            ],
            [
             0.2222222222222222,
             "#7201a8"
            ],
            [
             0.3333333333333333,
             "#9c179e"
            ],
            [
             0.4444444444444444,
             "#bd3786"
            ],
            [
             0.5555555555555556,
             "#d8576b"
            ],
            [
             0.6666666666666666,
             "#ed7953"
            ],
            [
             0.7777777777777778,
             "#fb9f3a"
            ],
            [
             0.8888888888888888,
             "#fdca26"
            ],
            [
             1,
             "#f0f921"
            ]
           ],
           "sequentialminus": [
            [
             0,
             "#0d0887"
            ],
            [
             0.1111111111111111,
             "#46039f"
            ],
            [
             0.2222222222222222,
             "#7201a8"
            ],
            [
             0.3333333333333333,
             "#9c179e"
            ],
            [
             0.4444444444444444,
             "#bd3786"
            ],
            [
             0.5555555555555556,
             "#d8576b"
            ],
            [
             0.6666666666666666,
             "#ed7953"
            ],
            [
             0.7777777777777778,
             "#fb9f3a"
            ],
            [
             0.8888888888888888,
             "#fdca26"
            ],
            [
             1,
             "#f0f921"
            ]
           ]
          },
          "colorway": [
           "#636efa",
           "#EF553B",
           "#00cc96",
           "#ab63fa",
           "#FFA15A",
           "#19d3f3",
           "#FF6692",
           "#B6E880",
           "#FF97FF",
           "#FECB52"
          ],
          "font": {
           "color": "#2a3f5f"
          },
          "geo": {
           "bgcolor": "white",
           "lakecolor": "white",
           "landcolor": "#E5ECF6",
           "showlakes": true,
           "showland": true,
           "subunitcolor": "white"
          },
          "hoverlabel": {
           "align": "left"
          },
          "hovermode": "closest",
          "mapbox": {
           "style": "light"
          },
          "paper_bgcolor": "white",
          "plot_bgcolor": "#E5ECF6",
          "polar": {
           "angularaxis": {
            "gridcolor": "white",
            "linecolor": "white",
            "ticks": ""
           },
           "bgcolor": "#E5ECF6",
           "radialaxis": {
            "gridcolor": "white",
            "linecolor": "white",
            "ticks": ""
           }
          },
          "scene": {
           "xaxis": {
            "backgroundcolor": "#E5ECF6",
            "gridcolor": "white",
            "gridwidth": 2,
            "linecolor": "white",
            "showbackground": true,
            "ticks": "",
            "zerolinecolor": "white"
           },
           "yaxis": {
            "backgroundcolor": "#E5ECF6",
            "gridcolor": "white",
            "gridwidth": 2,
            "linecolor": "white",
            "showbackground": true,
            "ticks": "",
            "zerolinecolor": "white"
           },
           "zaxis": {
            "backgroundcolor": "#E5ECF6",
            "gridcolor": "white",
            "gridwidth": 2,
            "linecolor": "white",
            "showbackground": true,
            "ticks": "",
            "zerolinecolor": "white"
           }
          },
          "shapedefaults": {
           "line": {
            "color": "#2a3f5f"
           }
          },
          "ternary": {
           "aaxis": {
            "gridcolor": "white",
            "linecolor": "white",
            "ticks": ""
           },
           "baxis": {
            "gridcolor": "white",
            "linecolor": "white",
            "ticks": ""
           },
           "bgcolor": "#E5ECF6",
           "caxis": {
            "gridcolor": "white",
            "linecolor": "white",
            "ticks": ""
           }
          },
          "title": {
           "x": 0.05
          },
          "xaxis": {
           "automargin": true,
           "gridcolor": "white",
           "linecolor": "white",
           "ticks": "",
           "title": {
            "standoff": 15
           },
           "zerolinecolor": "white",
           "zerolinewidth": 2
          },
          "yaxis": {
           "automargin": true,
           "gridcolor": "white",
           "linecolor": "white",
           "ticks": "",
           "title": {
            "standoff": 15
           },
           "zerolinecolor": "white",
           "zerolinewidth": 2
          }
         }
        }
       }
      }
     },
     "metadata": {},
     "output_type": "display_data"
    }
   ],
   "source": [
    "# Рассмотрим воронку событий (конверсию) для каждой отдельной группы исследования\n",
    "\n",
    "# выделим датасеты групп исследования для последующего анализа\n",
    "A1_group = data_clear[data_clear['group'] == 'A1']\n",
    "A2_group = data_clear[data_clear['group'] == 'A2']\n",
    "B_group = data_clear[data_clear['group'] == 'B']\n",
    "\n",
    "# Подсчет уникальных посетителей по каждой группе\n",
    "A1_group_voronka = \\\n",
    "A1_group.groupby('event')['user_id'].nunique() \\\n",
    "                                    .reset_index()\\\n",
    "                                    .sort_values(by = 'user_id', ascending=False)\n",
    "\n",
    "A2_group_voronka = \\\n",
    "A2_group.groupby('event')['user_id'].nunique() \\\n",
    "                                    .reset_index()\\\n",
    "                                    .sort_values(by = 'user_id', ascending=False)\n",
    "\n",
    "B_group_voronka = \\\n",
    "B_group.groupby('event')['user_id'].nunique() \\\n",
    "                                   .reset_index()\\\n",
    "                                   .sort_values(by = 'user_id', ascending=False)\n",
    "\n",
    "\n",
    "# Построение воронки\n",
    "fig = go.Figure()\n",
    "\n",
    "fig.add_trace(go.Funnel(\n",
    "    name = 'A1',\n",
    "    y = A1_group_voronka['event'],\n",
    "    x = A1_group_voronka['user_id'],\n",
    "    ))\n",
    "\n",
    "fig.add_trace(go.Funnel(\n",
    "    name = 'A2',\n",
    "    y = A2_group_voronka['event'],\n",
    "    x = A2_group_voronka['user_id'],\n",
    "    ))\n",
    "\n",
    "fig.add_trace(go.Funnel(\n",
    "    name = 'B',\n",
    "    y = B_group_voronka['event'],\n",
    "    x = B_group_voronka['user_id'],\n",
    "    ))\n",
    "\n",
    "fig.show()\n"
   ]
  },
  {
   "cell_type": "markdown",
   "metadata": {},
   "source": [
    "Вывод:\n",
    "\n",
    "- похожие показатели кол-ва посетителей по каждой группе и каждой стадии воронки\n",
    "- самое сильное сужение воронки на первом этапе (StartReadingOffer --> StartCheckProduct). Отваливается 41% посетителей\n",
    "- далее отваливаются 10% и 1% соответственно"
   ]
  },
  {
   "cell_type": "markdown",
   "metadata": {},
   "source": [
    "---"
   ]
  },
  {
   "cell_type": "markdown",
   "metadata": {},
   "source": [
    "<a id = 'stage_2_2'></a>\n",
    "\n",
    "#### 2.2. Обладают ли выборки одинаковыми распределениями количества событий на пользователя?\n",
    "\n",
    "[к оглавлению](#title)"
   ]
  },
  {
   "cell_type": "code",
   "execution_count": 79,
   "metadata": {},
   "outputs": [
    {
     "data": {
      "text/html": [
       "<div>\n",
       "<style scoped>\n",
       "    .dataframe tbody tr th:only-of-type {\n",
       "        vertical-align: middle;\n",
       "    }\n",
       "\n",
       "    .dataframe tbody tr th {\n",
       "        vertical-align: top;\n",
       "    }\n",
       "\n",
       "    .dataframe thead th {\n",
       "        text-align: right;\n",
       "    }\n",
       "</style>\n",
       "<table border=\"1\" class=\"dataframe\">\n",
       "  <thead>\n",
       "    <tr style=\"text-align: right;\">\n",
       "      <th></th>\n",
       "      <th>event</th>\n",
       "      <th>visitor_event_count</th>\n",
       "    </tr>\n",
       "  </thead>\n",
       "  <tbody>\n",
       "    <tr>\n",
       "      <th>3</th>\n",
       "      <td>StartReadingOffer</td>\n",
       "      <td>54338</td>\n",
       "    </tr>\n",
       "    <tr>\n",
       "      <th>2</th>\n",
       "      <td>StartCheckProduct</td>\n",
       "      <td>22665</td>\n",
       "    </tr>\n",
       "    <tr>\n",
       "      <th>1</th>\n",
       "      <td>OpenProductCard</td>\n",
       "      <td>21135</td>\n",
       "    </tr>\n",
       "    <tr>\n",
       "      <th>0</th>\n",
       "      <td>OpenPaymentScreen</td>\n",
       "      <td>17450</td>\n",
       "    </tr>\n",
       "  </tbody>\n",
       "</table>\n",
       "</div>"
      ],
      "text/plain": [
       "               event  visitor_event_count\n",
       "3  StartReadingOffer                54338\n",
       "2  StartCheckProduct                22665\n",
       "1    OpenProductCard                21135\n",
       "0  OpenPaymentScreen                17450"
      ]
     },
     "execution_count": 79,
     "metadata": {},
     "output_type": "execute_result"
    }
   ],
   "source": [
    "data_visitor_count"
   ]
  },
  {
   "cell_type": "code",
   "execution_count": 80,
   "metadata": {},
   "outputs": [
    {
     "data": {
      "text/html": [
       "<div>\n",
       "<style scoped>\n",
       "    .dataframe tbody tr th:only-of-type {\n",
       "        vertical-align: middle;\n",
       "    }\n",
       "\n",
       "    .dataframe tbody tr th {\n",
       "        vertical-align: top;\n",
       "    }\n",
       "\n",
       "    .dataframe thead th {\n",
       "        text-align: right;\n",
       "    }\n",
       "</style>\n",
       "<table border=\"1\" class=\"dataframe\">\n",
       "  <thead>\n",
       "    <tr style=\"text-align: right;\">\n",
       "      <th></th>\n",
       "      <th>event</th>\n",
       "      <th>visitor_event_count</th>\n",
       "      <th>unique_user_A1</th>\n",
       "      <th>unique_user_A2</th>\n",
       "      <th>unique_user_B</th>\n",
       "    </tr>\n",
       "  </thead>\n",
       "  <tbody>\n",
       "    <tr>\n",
       "      <th>0</th>\n",
       "      <td>StartReadingOffer</td>\n",
       "      <td>54338</td>\n",
       "      <td>2039</td>\n",
       "      <td>1984</td>\n",
       "      <td>2049</td>\n",
       "    </tr>\n",
       "    <tr>\n",
       "      <th>1</th>\n",
       "      <td>StartCheckProduct</td>\n",
       "      <td>22665</td>\n",
       "      <td>1204</td>\n",
       "      <td>1227</td>\n",
       "      <td>1207</td>\n",
       "    </tr>\n",
       "    <tr>\n",
       "      <th>2</th>\n",
       "      <td>OpenPaymentScreen</td>\n",
       "      <td>17450</td>\n",
       "      <td>1011</td>\n",
       "      <td>1018</td>\n",
       "      <td>990</td>\n",
       "    </tr>\n",
       "    <tr>\n",
       "      <th>3</th>\n",
       "      <td>OpenProductCard</td>\n",
       "      <td>21135</td>\n",
       "      <td>982</td>\n",
       "      <td>988</td>\n",
       "      <td>980</td>\n",
       "    </tr>\n",
       "  </tbody>\n",
       "</table>\n",
       "</div>"
      ],
      "text/plain": [
       "               event  visitor_event_count  unique_user_A1  unique_user_A2  \\\n",
       "0  StartReadingOffer                54338            2039            1984   \n",
       "1  StartCheckProduct                22665            1204            1227   \n",
       "2  OpenPaymentScreen                17450            1011            1018   \n",
       "3    OpenProductCard                21135             982             988   \n",
       "\n",
       "   unique_user_B  \n",
       "0           2049  \n",
       "1           1207  \n",
       "2            990  \n",
       "3            980  "
      ]
     },
     "execution_count": 80,
     "metadata": {},
     "output_type": "execute_result"
    }
   ],
   "source": [
    "data_2_2 =\\\n",
    "A1_group_voronka.merge(data_visitor_count,\n",
    "                       on = 'event')\\\n",
    "                .rename({'user_id': 'unique_user_A1'}, axis=1)\\\n",
    "                .merge(A2_group_voronka,\n",
    "                       on = 'event')\\\n",
    "                .rename({'user_id': 'unique_user_A2'}, axis=1)\\\n",
    "                .merge(B_group_voronka,\n",
    "                       on = 'event')\\\n",
    "                .rename({'user_id': 'unique_user_B'}, axis=1)\n",
    "\n",
    "data_2_2 = data_2_2[['event', 'visitor_event_count', 'unique_user_A1', 'unique_user_A2', 'unique_user_B']]\n",
    "data_2_2"
   ]
  },
  {
   "cell_type": "code",
   "execution_count": 81,
   "metadata": {},
   "outputs": [
    {
     "data": {
      "text/html": [
       "<div>\n",
       "<style scoped>\n",
       "    .dataframe tbody tr th:only-of-type {\n",
       "        vertical-align: middle;\n",
       "    }\n",
       "\n",
       "    .dataframe tbody tr th {\n",
       "        vertical-align: top;\n",
       "    }\n",
       "\n",
       "    .dataframe thead th {\n",
       "        text-align: right;\n",
       "    }\n",
       "</style>\n",
       "<table border=\"1\" class=\"dataframe\">\n",
       "  <thead>\n",
       "    <tr style=\"text-align: right;\">\n",
       "      <th></th>\n",
       "      <th>event</th>\n",
       "      <th>visitor_event_count</th>\n",
       "      <th>unique_user_A1</th>\n",
       "      <th>unique_user_A2</th>\n",
       "      <th>unique_user_B</th>\n",
       "      <th>events_per_visitor_A1</th>\n",
       "      <th>events_per_visitor_A2</th>\n",
       "      <th>events_per_visitor_B</th>\n",
       "    </tr>\n",
       "  </thead>\n",
       "  <tbody>\n",
       "    <tr>\n",
       "      <th>0</th>\n",
       "      <td>StartReadingOffer</td>\n",
       "      <td>54338</td>\n",
       "      <td>2039</td>\n",
       "      <td>1984</td>\n",
       "      <td>2049</td>\n",
       "      <td>26.65</td>\n",
       "      <td>27.39</td>\n",
       "      <td>26.52</td>\n",
       "    </tr>\n",
       "    <tr>\n",
       "      <th>1</th>\n",
       "      <td>StartCheckProduct</td>\n",
       "      <td>22665</td>\n",
       "      <td>1204</td>\n",
       "      <td>1227</td>\n",
       "      <td>1207</td>\n",
       "      <td>18.82</td>\n",
       "      <td>18.47</td>\n",
       "      <td>18.78</td>\n",
       "    </tr>\n",
       "    <tr>\n",
       "      <th>2</th>\n",
       "      <td>OpenPaymentScreen</td>\n",
       "      <td>17450</td>\n",
       "      <td>1011</td>\n",
       "      <td>1018</td>\n",
       "      <td>990</td>\n",
       "      <td>17.26</td>\n",
       "      <td>17.14</td>\n",
       "      <td>17.63</td>\n",
       "    </tr>\n",
       "    <tr>\n",
       "      <th>3</th>\n",
       "      <td>OpenProductCard</td>\n",
       "      <td>21135</td>\n",
       "      <td>982</td>\n",
       "      <td>988</td>\n",
       "      <td>980</td>\n",
       "      <td>21.52</td>\n",
       "      <td>21.39</td>\n",
       "      <td>21.57</td>\n",
       "    </tr>\n",
       "  </tbody>\n",
       "</table>\n",
       "</div>"
      ],
      "text/plain": [
       "               event  visitor_event_count  unique_user_A1  unique_user_A2  \\\n",
       "0  StartReadingOffer                54338            2039            1984   \n",
       "1  StartCheckProduct                22665            1204            1227   \n",
       "2  OpenPaymentScreen                17450            1011            1018   \n",
       "3    OpenProductCard                21135             982             988   \n",
       "\n",
       "   unique_user_B  events_per_visitor_A1  events_per_visitor_A2  \\\n",
       "0           2049                  26.65                  27.39   \n",
       "1           1207                  18.82                  18.47   \n",
       "2            990                  17.26                  17.14   \n",
       "3            980                  21.52                  21.39   \n",
       "\n",
       "   events_per_visitor_B  \n",
       "0                 26.52  \n",
       "1                 18.78  \n",
       "2                 17.63  \n",
       "3                 21.57  "
      ]
     },
     "execution_count": 81,
     "metadata": {},
     "output_type": "execute_result"
    }
   ],
   "source": [
    "# Посмотрим на распределение кол-ва событий по посетителям\n",
    "data_2_2['events_per_visitor_A1'] = (data_2_2['visitor_event_count'] / data_2_2['unique_user_A1']).round(2)\n",
    "data_2_2['events_per_visitor_A2'] = (data_2_2['visitor_event_count'] / data_2_2['unique_user_A2']).round(2)\n",
    "data_2_2['events_per_visitor_B'] = (data_2_2['visitor_event_count'] / data_2_2['unique_user_B']).round(2)\n",
    "data_2_2"
   ]
  },
  {
   "cell_type": "markdown",
   "metadata": {},
   "source": [
    "да, выборки распределены равномерно"
   ]
  },
  {
   "cell_type": "markdown",
   "metadata": {},
   "source": [
    "---"
   ]
  },
  {
   "cell_type": "markdown",
   "metadata": {},
   "source": [
    "<a id = 'stage_2_3'></a>\n",
    "\n",
    "#### 2.3. Как число событий распределено по дням?\n",
    "\n",
    "[к оглавлению](#title)"
   ]
  },
  {
   "cell_type": "code",
   "execution_count": 82,
   "metadata": {},
   "outputs": [
    {
     "data": {
      "text/plain": [
       "Text(0, 0.5, 'событие')"
      ]
     },
     "execution_count": 82,
     "metadata": {},
     "output_type": "execute_result"
    },
    {
     "data": {
      "image/png": "[encoded data removed]",
      "text/plain": [
       "<Figure size 640x480 with 1 Axes>"
      ]
     },
     "metadata": {},
     "output_type": "display_data"
    }
   ],
   "source": [
    "data_2_3 =\\\n",
    "data_clear.groupby(['event', 'day'])['group'].count().reset_index()\n",
    "\n",
    "\n",
    "sns.barplot(data = data_2_3,\n",
    "            x = 'group',\n",
    "            y = 'event',\n",
    "            hue = 'day')\n",
    "plt.title('Распределение кол-ва событий по дням \\n')\n",
    "plt.xlabel('кол-во событий')\n",
    "plt.ylabel('событие')"
   ]
  },
  {
   "cell_type": "markdown",
   "metadata": {},
   "source": [
    "- события 2,3,4 августа  - распределны одинаково (немного лидурует 2-е августа)\n",
    "- событий 5 августа меньше минимум в два раза"
   ]
  },
  {
   "cell_type": "markdown",
   "metadata": {},
   "source": [
    "---"
   ]
  },
  {
   "cell_type": "markdown",
   "metadata": {},
   "source": [
    "<a id = 'stage_2_4'></a>\n",
    "\n",
    "#### 2.4. Подумайте, есть ли какие-то нюансы данных, которые нужно учесть, прежде чем приступать к A/B-тестированию?\n",
    "\n",
    "[к оглавлению](#title)"
   ]
  },
  {
   "cell_type": "markdown",
   "metadata": {},
   "source": [
    "Условия проведения A/B тестирования:\n",
    "\n",
    "- группы распределлены равномерно (прмерно одинаковое кол-во в каждой группе)\n",
    "- посетитель не должен быть в двух и более группах одновременно (только в одной)\n",
    "- показатели, которые мы мерим с помощью теста берем одинаковые в каждой группе (нельзя измерять средний чек в одно группе и сравнивать с конверсией во второй)\n",
    "\n",
    "Все это было проверено выше"
   ]
  },
  {
   "cell_type": "markdown",
   "metadata": {},
   "source": [
    "---"
   ]
  },
  {
   "cell_type": "markdown",
   "metadata": {},
   "source": [
    "<a id = 'stage_2_6'></a>\n",
    "\n",
    "#### 2.6. Что можно сказать про результаты A/A-тестирования?\n",
    "\n",
    "[к оглавлению](#title)"
   ]
  },
  {
   "cell_type": "code",
   "execution_count": 83,
   "metadata": {},
   "outputs": [
    {
     "data": {
      "text/html": [
       "<div>\n",
       "<style scoped>\n",
       "    .dataframe tbody tr th:only-of-type {\n",
       "        vertical-align: middle;\n",
       "    }\n",
       "\n",
       "    .dataframe tbody tr th {\n",
       "        vertical-align: top;\n",
       "    }\n",
       "\n",
       "    .dataframe thead th {\n",
       "        text-align: right;\n",
       "    }\n",
       "</style>\n",
       "<table border=\"1\" class=\"dataframe\">\n",
       "  <thead>\n",
       "    <tr style=\"text-align: right;\">\n",
       "      <th></th>\n",
       "      <th>group</th>\n",
       "      <th>unique_user</th>\n",
       "    </tr>\n",
       "  </thead>\n",
       "  <tbody>\n",
       "    <tr>\n",
       "      <th>0</th>\n",
       "      <td>A1</td>\n",
       "      <td>2089</td>\n",
       "    </tr>\n",
       "    <tr>\n",
       "      <th>1</th>\n",
       "      <td>A2</td>\n",
       "      <td>2037</td>\n",
       "    </tr>\n",
       "    <tr>\n",
       "      <th>2</th>\n",
       "      <td>B</td>\n",
       "      <td>2101</td>\n",
       "    </tr>\n",
       "  </tbody>\n",
       "</table>\n",
       "</div>"
      ],
      "text/plain": [
       "  group  unique_user\n",
       "0    A1         2089\n",
       "1    A2         2037\n",
       "2     B         2101"
      ]
     },
     "execution_count": 83,
     "metadata": {},
     "output_type": "execute_result"
    }
   ],
   "source": [
    "data_unique_visitors=\\\n",
    "data_clear.groupby('group')['user_id'].nunique()\\\n",
    "                                      .reset_index()\\\n",
    "                                      .rename({'user_id': 'unique_user'}, axis = 1)\n",
    "data_unique_visitors\n"
   ]
  },
  {
   "cell_type": "code",
   "execution_count": 84,
   "metadata": {},
   "outputs": [
    {
     "data": {
      "text/html": [
       "<div>\n",
       "<style scoped>\n",
       "    .dataframe tbody tr th:only-of-type {\n",
       "        vertical-align: middle;\n",
       "    }\n",
       "\n",
       "    .dataframe tbody tr th {\n",
       "        vertical-align: top;\n",
       "    }\n",
       "\n",
       "    .dataframe thead th {\n",
       "        text-align: right;\n",
       "    }\n",
       "</style>\n",
       "<table border=\"1\" class=\"dataframe\">\n",
       "  <thead>\n",
       "    <tr style=\"text-align: right;\">\n",
       "      <th></th>\n",
       "      <th>event</th>\n",
       "      <th>visitor_event_count</th>\n",
       "      <th>unique_user_A1</th>\n",
       "      <th>unique_user_A2</th>\n",
       "      <th>unique_user_B</th>\n",
       "      <th>events_per_visitor_A1</th>\n",
       "      <th>events_per_visitor_A2</th>\n",
       "      <th>events_per_visitor_B</th>\n",
       "    </tr>\n",
       "  </thead>\n",
       "  <tbody>\n",
       "    <tr>\n",
       "      <th>0</th>\n",
       "      <td>StartReadingOffer</td>\n",
       "      <td>54338</td>\n",
       "      <td>2039</td>\n",
       "      <td>1984</td>\n",
       "      <td>2049</td>\n",
       "      <td>26.65</td>\n",
       "      <td>27.39</td>\n",
       "      <td>26.52</td>\n",
       "    </tr>\n",
       "    <tr>\n",
       "      <th>1</th>\n",
       "      <td>StartCheckProduct</td>\n",
       "      <td>22665</td>\n",
       "      <td>1204</td>\n",
       "      <td>1227</td>\n",
       "      <td>1207</td>\n",
       "      <td>18.82</td>\n",
       "      <td>18.47</td>\n",
       "      <td>18.78</td>\n",
       "    </tr>\n",
       "    <tr>\n",
       "      <th>2</th>\n",
       "      <td>OpenPaymentScreen</td>\n",
       "      <td>17450</td>\n",
       "      <td>1011</td>\n",
       "      <td>1018</td>\n",
       "      <td>990</td>\n",
       "      <td>17.26</td>\n",
       "      <td>17.14</td>\n",
       "      <td>17.63</td>\n",
       "    </tr>\n",
       "    <tr>\n",
       "      <th>3</th>\n",
       "      <td>OpenProductCard</td>\n",
       "      <td>21135</td>\n",
       "      <td>982</td>\n",
       "      <td>988</td>\n",
       "      <td>980</td>\n",
       "      <td>21.52</td>\n",
       "      <td>21.39</td>\n",
       "      <td>21.57</td>\n",
       "    </tr>\n",
       "  </tbody>\n",
       "</table>\n",
       "</div>"
      ],
      "text/plain": [
       "               event  visitor_event_count  unique_user_A1  unique_user_A2  \\\n",
       "0  StartReadingOffer                54338            2039            1984   \n",
       "1  StartCheckProduct                22665            1204            1227   \n",
       "2  OpenPaymentScreen                17450            1011            1018   \n",
       "3    OpenProductCard                21135             982             988   \n",
       "\n",
       "   unique_user_B  events_per_visitor_A1  events_per_visitor_A2  \\\n",
       "0           2049                  26.65                  27.39   \n",
       "1           1207                  18.82                  18.47   \n",
       "2            990                  17.26                  17.14   \n",
       "3            980                  21.52                  21.39   \n",
       "\n",
       "   events_per_visitor_B  \n",
       "0                 26.52  \n",
       "1                 18.78  \n",
       "2                 17.63  \n",
       "3                 21.57  "
      ]
     },
     "execution_count": 84,
     "metadata": {},
     "output_type": "execute_result"
    }
   ],
   "source": [
    "data_2_2"
   ]
  },
  {
   "cell_type": "code",
   "execution_count": 85,
   "metadata": {},
   "outputs": [],
   "source": [
    "H0 = 'НЕТ отличия между группами A1 и A2'\n",
    "H1 = 'ЕСТЬ отличие между группами A1 и A2'\n",
    "\n",
    "def z_test(kol_vo_1, # числитель первой доли\n",
    "           kol_vo_2, # числитель второй доли\n",
    "           all__kol_vo_1,   # знаменатель первой доли\n",
    "           all__kol_vo_2,   # знаменатель второй доли\n",
    "           alpha):  # уровень значимости\n",
    "    \n",
    "    '''\n",
    "    Формулировка гипотез должна быть следующая: \n",
    "\n",
    "    H0: две доли РАВНЫ\n",
    "    H1: две доли НЕ РАВНЫ ( Или величина одной выборки больше/меньше величины другой )\n",
    "    '''\n",
    "    \n",
    "\n",
    "    dolya_1 = kol_vo_1 / all__kol_vo_1\n",
    "    dolya_2 = kol_vo_2 / all__kol_vo_2\n",
    "    diff = dolya_1 - dolya_2\n",
    "    dolya_combo = (kol_vo_1 + kol_vo_2) / (all__kol_vo_1 + all__kol_vo_2)\n",
    "\n",
    "    z_value = diff / np.sqrt(dolya_combo*(1-dolya_combo)*((1/all__kol_vo_1) + (1/all__kol_vo_2)))\n",
    "    distr = st.norm(0, 1)\n",
    "    p_value = (1 - distr.cdf(abs(z_value))) * 2\n",
    "\n",
    "    '''print('Используем Z-критерий для двух долей')\n",
    "    print('Данные статистического теста:')\n",
    "    print(f'Статистика: {z_value.round(2)}')\n",
    "    print(f'p-значение: {p_value.round(2)}')\n",
    "    print(f'Уровень значимости (граничный): {alpha}')\n",
    "    print('\\n')\n",
    "    print('Итог теста:')'''\n",
    "    if p_value < alpha:\n",
    "        '''print(f'На уровне значимости {alpha} - отвергаем нулевую гипотезу')\n",
    "        print(H1)'''\n",
    "        itog = H1\n",
    "    else:\n",
    "        '''print('Не получилось отвергнуть нулевую гипотезу')\n",
    "        print(H0)'''\n",
    "        itog = H0\n",
    "    \n",
    "    slovar = {'z_value': z_value[0],\n",
    "              'p_value': p_value[0],\n",
    "              'alpha': alpha,\n",
    "              'Итог': itog}\n",
    "    data_z_test = pd.Series(slovar)\n",
    "    return data_z_test"
   ]
  },
  {
   "cell_type": "code",
   "execution_count": 86,
   "metadata": {},
   "outputs": [
    {
     "data": {
      "text/html": [
       "<div>\n",
       "<style scoped>\n",
       "    .dataframe tbody tr th:only-of-type {\n",
       "        vertical-align: middle;\n",
       "    }\n",
       "\n",
       "    .dataframe tbody tr th {\n",
       "        vertical-align: top;\n",
       "    }\n",
       "\n",
       "    .dataframe thead th {\n",
       "        text-align: right;\n",
       "    }\n",
       "</style>\n",
       "<table border=\"1\" class=\"dataframe\">\n",
       "  <thead>\n",
       "    <tr style=\"text-align: right;\">\n",
       "      <th></th>\n",
       "      <th>A1 и A2. Событие StartReadingOffer</th>\n",
       "      <th>A1 и A2. Событие StartCheckProduct</th>\n",
       "      <th>A1 и A2. Событие OpenPaymentScreen</th>\n",
       "      <th>A1 и A2. Событие OpenProductCard</th>\n",
       "    </tr>\n",
       "  </thead>\n",
       "  <tbody>\n",
       "    <tr>\n",
       "      <th>z_value</th>\n",
       "      <td>0.428927</td>\n",
       "      <td>-1.697437</td>\n",
       "      <td>-1.01437</td>\n",
       "      <td>-0.960917</td>\n",
       "    </tr>\n",
       "    <tr>\n",
       "      <th>p_value</th>\n",
       "      <td>0.667977</td>\n",
       "      <td>0.089614</td>\n",
       "      <td>0.310406</td>\n",
       "      <td>0.336594</td>\n",
       "    </tr>\n",
       "    <tr>\n",
       "      <th>alpha</th>\n",
       "      <td>0.05</td>\n",
       "      <td>0.05</td>\n",
       "      <td>0.05</td>\n",
       "      <td>0.05</td>\n",
       "    </tr>\n",
       "    <tr>\n",
       "      <th>Итог</th>\n",
       "      <td>НЕТ отличия между группами A1 и A2</td>\n",
       "      <td>НЕТ отличия между группами A1 и A2</td>\n",
       "      <td>НЕТ отличия между группами A1 и A2</td>\n",
       "      <td>НЕТ отличия между группами A1 и A2</td>\n",
       "    </tr>\n",
       "  </tbody>\n",
       "</table>\n",
       "</div>"
      ],
      "text/plain": [
       "         A1 и A2. Событие StartReadingOffer  \\\n",
       "z_value                            0.428927   \n",
       "p_value                            0.667977   \n",
       "alpha                                  0.05   \n",
       "Итог     НЕТ отличия между группами A1 и A2   \n",
       "\n",
       "         A1 и A2. Событие StartCheckProduct  \\\n",
       "z_value                           -1.697437   \n",
       "p_value                            0.089614   \n",
       "alpha                                  0.05   \n",
       "Итог     НЕТ отличия между группами A1 и A2   \n",
       "\n",
       "         A1 и A2. Событие OpenPaymentScreen  \\\n",
       "z_value                            -1.01437   \n",
       "p_value                            0.310406   \n",
       "alpha                                  0.05   \n",
       "Итог     НЕТ отличия между группами A1 и A2   \n",
       "\n",
       "           A1 и A2. Событие OpenProductCard  \n",
       "z_value                           -0.960917  \n",
       "p_value                            0.336594  \n",
       "alpha                                  0.05  \n",
       "Итог     НЕТ отличия между группами A1 и A2  "
      ]
     },
     "execution_count": 86,
     "metadata": {},
     "output_type": "execute_result"
    }
   ],
   "source": [
    "spisok = []\n",
    "for event_name in data_2_2['event']:\n",
    "    data_zicl = \\\n",
    "    pd.DataFrame(\n",
    "    z_test(kol_vo_1 = data_2_2[data_2_2['event'] == event_name]['unique_user_A1'].values,\n",
    "           kol_vo_2 = data_2_2[data_2_2['event'] == event_name]['unique_user_A2'].values,\n",
    "           all__kol_vo_1 = data_unique_visitors[data_unique_visitors['group'] == 'A1']['unique_user'].values,\n",
    "           all__kol_vo_2 = data_unique_visitors[data_unique_visitors['group'] == 'A2']['unique_user'].values,\n",
    "           alpha = 0.05),\n",
    "    columns = [f'A1 и A2. Событие {event_name}'])\n",
    "    spisok.append(data_zicl)\n",
    "\n",
    "pd.concat(spisok, axis = 1)"
   ]
  },
  {
   "cell_type": "markdown",
   "metadata": {},
   "source": [
    "Провели A/A тест пройден, доли равномеры, различий между группами исследования нет (на уроне значимости 0.05). Можно приступать к A/B тестированию"
   ]
  },
  {
   "cell_type": "markdown",
   "metadata": {},
   "source": [
    "---"
   ]
  },
  {
   "cell_type": "markdown",
   "metadata": {},
   "source": [
    "<a id = 'stage_2_5'></a>\n",
    "\n",
    "#### 2.5. Проведите оценку результатов A/B-тестирования\n",
    "\n",
    "[к оглавлению](#title)"
   ]
  },
  {
   "cell_type": "code",
   "execution_count": 87,
   "metadata": {},
   "outputs": [
    {
     "data": {
      "text/html": [
       "<div>\n",
       "<style scoped>\n",
       "    .dataframe tbody tr th:only-of-type {\n",
       "        vertical-align: middle;\n",
       "    }\n",
       "\n",
       "    .dataframe tbody tr th {\n",
       "        vertical-align: top;\n",
       "    }\n",
       "\n",
       "    .dataframe thead th {\n",
       "        text-align: right;\n",
       "    }\n",
       "</style>\n",
       "<table border=\"1\" class=\"dataframe\">\n",
       "  <thead>\n",
       "    <tr style=\"text-align: right;\">\n",
       "      <th></th>\n",
       "      <th>A1 и B. Событие: StartReadingOffer</th>\n",
       "      <th>A1 и B. Событие: StartCheckProduct</th>\n",
       "      <th>A1 и B. Событие: OpenPaymentScreen</th>\n",
       "      <th>A1 и B. Событие: OpenProductCard</th>\n",
       "    </tr>\n",
       "  </thead>\n",
       "  <tbody>\n",
       "    <tr>\n",
       "      <th>z_value</th>\n",
       "      <td>0.171202</td>\n",
       "      <td>0.122052</td>\n",
       "      <td>0.82675</td>\n",
       "      <td>0.235888</td>\n",
       "    </tr>\n",
       "    <tr>\n",
       "      <th>p_value</th>\n",
       "      <td>0.864065</td>\n",
       "      <td>0.902858</td>\n",
       "      <td>0.408379</td>\n",
       "      <td>0.81352</td>\n",
       "    </tr>\n",
       "    <tr>\n",
       "      <th>alpha</th>\n",
       "      <td>0.05</td>\n",
       "      <td>0.05</td>\n",
       "      <td>0.05</td>\n",
       "      <td>0.05</td>\n",
       "    </tr>\n",
       "    <tr>\n",
       "      <th>Итог</th>\n",
       "      <td>НЕТ отличия между группами A1 и B</td>\n",
       "      <td>НЕТ отличия между группами A1 и B</td>\n",
       "      <td>НЕТ отличия между группами A1 и B</td>\n",
       "      <td>НЕТ отличия между группами A1 и B</td>\n",
       "    </tr>\n",
       "  </tbody>\n",
       "</table>\n",
       "</div>"
      ],
      "text/plain": [
       "        A1 и B. Событие: StartReadingOffer A1 и B. Событие: StartCheckProduct  \\\n",
       "z_value                           0.171202                           0.122052   \n",
       "p_value                           0.864065                           0.902858   \n",
       "alpha                                 0.05                               0.05   \n",
       "Итог     НЕТ отличия между группами A1 и B  НЕТ отличия между группами A1 и B   \n",
       "\n",
       "        A1 и B. Событие: OpenPaymentScreen   A1 и B. Событие: OpenProductCard  \n",
       "z_value                            0.82675                           0.235888  \n",
       "p_value                           0.408379                            0.81352  \n",
       "alpha                                 0.05                               0.05  \n",
       "Итог     НЕТ отличия между группами A1 и B  НЕТ отличия между группами A1 и B  "
      ]
     },
     "execution_count": 87,
     "metadata": {},
     "output_type": "execute_result"
    }
   ],
   "source": [
    "# Посмотрим на z-тест A1 и B исследовательских групп\n",
    "\n",
    "H0 = 'НЕТ отличия между группами A1 и B'\n",
    "H1 = 'ЕСТЬ отличие между группами A1 и B'\n",
    "\n",
    "spisok_A1_B = []\n",
    "for event_name in data_2_2['event']:\n",
    "    data_A1_B =\\\n",
    "    pd.DataFrame(\n",
    "    z_test(kol_vo_1 = data_2_2[data_2_2['event'] == event_name]['unique_user_A1'].values,\n",
    "           kol_vo_2 = data_2_2[data_2_2['event'] == event_name]['unique_user_B'].values,\n",
    "           all__kol_vo_1 = data_unique_visitors[data_unique_visitors['group'] == 'A1']['unique_user'].values,\n",
    "           all__kol_vo_2 = data_unique_visitors[data_unique_visitors['group'] == 'B']['unique_user'].values,\n",
    "           alpha = 0.05),\n",
    "    columns = [f'A1 и B. Событие: {event_name}'])\n",
    "    spisok_A1_B.append(data_A1_B)\n",
    "\n",
    "pd.concat(spisok_A1_B,\n",
    "          axis = 1)"
   ]
  },
  {
   "cell_type": "code",
   "execution_count": 88,
   "metadata": {},
   "outputs": [
    {
     "data": {
      "text/html": [
       "<div>\n",
       "<style scoped>\n",
       "    .dataframe tbody tr th:only-of-type {\n",
       "        vertical-align: middle;\n",
       "    }\n",
       "\n",
       "    .dataframe tbody tr th {\n",
       "        vertical-align: top;\n",
       "    }\n",
       "\n",
       "    .dataframe thead th {\n",
       "        text-align: right;\n",
       "    }\n",
       "</style>\n",
       "<table border=\"1\" class=\"dataframe\">\n",
       "  <thead>\n",
       "    <tr style=\"text-align: right;\">\n",
       "      <th></th>\n",
       "      <th>A2 и B. Событие: StartReadingOffer</th>\n",
       "      <th>A2 и B. Событие: StartCheckProduct</th>\n",
       "      <th>A2 и B. Событие: OpenPaymentScreen</th>\n",
       "      <th>A2 и B. Событие: OpenProductCard</th>\n",
       "    </tr>\n",
       "  </thead>\n",
       "  <tbody>\n",
       "    <tr>\n",
       "      <th>z_value</th>\n",
       "      <td>-0.259417</td>\n",
       "      <td>1.821024</td>\n",
       "      <td>1.837146</td>\n",
       "      <td>1.196642</td>\n",
       "    </tr>\n",
       "    <tr>\n",
       "      <th>p_value</th>\n",
       "      <td>0.795314</td>\n",
       "      <td>0.068603</td>\n",
       "      <td>0.066188</td>\n",
       "      <td>0.231446</td>\n",
       "    </tr>\n",
       "    <tr>\n",
       "      <th>alpha</th>\n",
       "      <td>0.05</td>\n",
       "      <td>0.05</td>\n",
       "      <td>0.05</td>\n",
       "      <td>0.05</td>\n",
       "    </tr>\n",
       "    <tr>\n",
       "      <th>Итог</th>\n",
       "      <td>НЕТ отличия между группами A2 и B</td>\n",
       "      <td>НЕТ отличия между группами A2 и B</td>\n",
       "      <td>НЕТ отличия между группами A2 и B</td>\n",
       "      <td>НЕТ отличия между группами A2 и B</td>\n",
       "    </tr>\n",
       "  </tbody>\n",
       "</table>\n",
       "</div>"
      ],
      "text/plain": [
       "        A2 и B. Событие: StartReadingOffer A2 и B. Событие: StartCheckProduct  \\\n",
       "z_value                          -0.259417                           1.821024   \n",
       "p_value                           0.795314                           0.068603   \n",
       "alpha                                 0.05                               0.05   \n",
       "Итог     НЕТ отличия между группами A2 и B  НЕТ отличия между группами A2 и B   \n",
       "\n",
       "        A2 и B. Событие: OpenPaymentScreen   A2 и B. Событие: OpenProductCard  \n",
       "z_value                           1.837146                           1.196642  \n",
       "p_value                           0.066188                           0.231446  \n",
       "alpha                                 0.05                               0.05  \n",
       "Итог     НЕТ отличия между группами A2 и B  НЕТ отличия между группами A2 и B  "
      ]
     },
     "execution_count": 88,
     "metadata": {},
     "output_type": "execute_result"
    }
   ],
   "source": [
    "# Посмотрим на z-тест A2 и B исследовательских групп\n",
    "\n",
    "H0 = 'НЕТ отличия между группами A2 и B'\n",
    "H1 = 'ЕСТЬ отличие между группами A2 и B'\n",
    "\n",
    "\n",
    "spisok_A2_B = []\n",
    "for event_name in data_2_2['event']:\n",
    "    data_A1_B =\\\n",
    "    pd.DataFrame(\n",
    "    z_test(kol_vo_1 = data_2_2[data_2_2['event'] == event_name]['unique_user_A2'].values,\n",
    "           kol_vo_2 = data_2_2[data_2_2['event'] == event_name]['unique_user_B'].values,\n",
    "           all__kol_vo_1 = data_unique_visitors[data_unique_visitors['group'] == 'A2']['unique_user'].values,\n",
    "           all__kol_vo_2 = data_unique_visitors[data_unique_visitors['group'] == 'B']['unique_user'].values,\n",
    "           alpha = 0.05),\n",
    "    columns = [f'A2 и B. Событие: {event_name}'])\n",
    "    spisok_A2_B.append(data_A1_B)\n",
    "\n",
    "pd.concat(spisok_A2_B,\n",
    "          axis = 1)"
   ]
  },
  {
   "cell_type": "code",
   "execution_count": 89,
   "metadata": {},
   "outputs": [
    {
     "data": {
      "text/html": [
       "<div>\n",
       "<style scoped>\n",
       "    .dataframe tbody tr th:only-of-type {\n",
       "        vertical-align: middle;\n",
       "    }\n",
       "\n",
       "    .dataframe tbody tr th {\n",
       "        vertical-align: top;\n",
       "    }\n",
       "\n",
       "    .dataframe thead th {\n",
       "        text-align: right;\n",
       "    }\n",
       "</style>\n",
       "<table border=\"1\" class=\"dataframe\">\n",
       "  <thead>\n",
       "    <tr style=\"text-align: right;\">\n",
       "      <th></th>\n",
       "      <th>event</th>\n",
       "      <th>unique_user_A2</th>\n",
       "      <th>unique_user_B</th>\n",
       "      <th>A1+A2</th>\n",
       "    </tr>\n",
       "  </thead>\n",
       "  <tbody>\n",
       "    <tr>\n",
       "      <th>0</th>\n",
       "      <td>StartReadingOffer</td>\n",
       "      <td>1984</td>\n",
       "      <td>2049</td>\n",
       "      <td>4033</td>\n",
       "    </tr>\n",
       "    <tr>\n",
       "      <th>1</th>\n",
       "      <td>StartCheckProduct</td>\n",
       "      <td>1227</td>\n",
       "      <td>1207</td>\n",
       "      <td>2434</td>\n",
       "    </tr>\n",
       "    <tr>\n",
       "      <th>2</th>\n",
       "      <td>OpenPaymentScreen</td>\n",
       "      <td>1018</td>\n",
       "      <td>990</td>\n",
       "      <td>2008</td>\n",
       "    </tr>\n",
       "    <tr>\n",
       "      <th>3</th>\n",
       "      <td>OpenProductCard</td>\n",
       "      <td>988</td>\n",
       "      <td>980</td>\n",
       "      <td>1968</td>\n",
       "    </tr>\n",
       "  </tbody>\n",
       "</table>\n",
       "</div>"
      ],
      "text/plain": [
       "               event  unique_user_A2  unique_user_B  A1+A2\n",
       "0  StartReadingOffer            1984           2049   4033\n",
       "1  StartCheckProduct            1227           1207   2434\n",
       "2  OpenPaymentScreen            1018            990   2008\n",
       "3    OpenProductCard             988            980   1968"
      ]
     },
     "execution_count": 89,
     "metadata": {},
     "output_type": "execute_result"
    }
   ],
   "source": [
    "# Посмотрим на z-тест A1+A2 и B исследовательских групп\n",
    "\n",
    "# Выделяем нужные данные\n",
    "data_2_2_A1_A2_sum = data_2_2.set_index('event').iloc[:,2:4]\n",
    "data_2_2_A1_A2_sum['A1+A2'] = data_2_2_A1_A2_sum.apply(lambda x: x.sum(), axis=1)\n",
    "data_2_2_A1_A2_sum = data_2_2_A1_A2_sum.reset_index()\n",
    "data_2_2_A1_A2_sum"
   ]
  },
  {
   "cell_type": "code",
   "execution_count": 90,
   "metadata": {},
   "outputs": [
    {
     "data": {
      "text/html": [
       "<div>\n",
       "<style scoped>\n",
       "    .dataframe tbody tr th:only-of-type {\n",
       "        vertical-align: middle;\n",
       "    }\n",
       "\n",
       "    .dataframe tbody tr th {\n",
       "        vertical-align: top;\n",
       "    }\n",
       "\n",
       "    .dataframe thead th {\n",
       "        text-align: right;\n",
       "    }\n",
       "</style>\n",
       "<table border=\"1\" class=\"dataframe\">\n",
       "  <thead>\n",
       "    <tr style=\"text-align: right;\">\n",
       "      <th></th>\n",
       "      <th>A2 и B. Событие: StartReadingOffer</th>\n",
       "      <th>A2 и B. Событие: StartCheckProduct</th>\n",
       "      <th>A2 и B. Событие: OpenPaymentScreen</th>\n",
       "      <th>A2 и B. Событие: OpenProductCard</th>\n",
       "    </tr>\n",
       "  </thead>\n",
       "  <tbody>\n",
       "    <tr>\n",
       "      <th>z_value</th>\n",
       "      <td>0.546799</td>\n",
       "      <td>1.168255</td>\n",
       "      <td>1.154881</td>\n",
       "      <td>0.786939</td>\n",
       "    </tr>\n",
       "    <tr>\n",
       "      <th>p_value</th>\n",
       "      <td>0.584517</td>\n",
       "      <td>0.242704</td>\n",
       "      <td>0.248139</td>\n",
       "      <td>0.431318</td>\n",
       "    </tr>\n",
       "    <tr>\n",
       "      <th>alpha</th>\n",
       "      <td>0.05</td>\n",
       "      <td>0.05</td>\n",
       "      <td>0.05</td>\n",
       "      <td>0.05</td>\n",
       "    </tr>\n",
       "    <tr>\n",
       "      <th>Итог</th>\n",
       "      <td>НЕТ отличия между группами A1+A2 и B</td>\n",
       "      <td>НЕТ отличия между группами A1+A2 и B</td>\n",
       "      <td>НЕТ отличия между группами A1+A2 и B</td>\n",
       "      <td>НЕТ отличия между группами A1+A2 и B</td>\n",
       "    </tr>\n",
       "  </tbody>\n",
       "</table>\n",
       "</div>"
      ],
      "text/plain": [
       "           A2 и B. Событие: StartReadingOffer  \\\n",
       "z_value                              0.546799   \n",
       "p_value                              0.584517   \n",
       "alpha                                    0.05   \n",
       "Итог     НЕТ отличия между группами A1+A2 и B   \n",
       "\n",
       "           A2 и B. Событие: StartCheckProduct  \\\n",
       "z_value                              1.168255   \n",
       "p_value                              0.242704   \n",
       "alpha                                    0.05   \n",
       "Итог     НЕТ отличия между группами A1+A2 и B   \n",
       "\n",
       "           A2 и B. Событие: OpenPaymentScreen  \\\n",
       "z_value                              1.154881   \n",
       "p_value                              0.248139   \n",
       "alpha                                    0.05   \n",
       "Итог     НЕТ отличия между группами A1+A2 и B   \n",
       "\n",
       "             A2 и B. Событие: OpenProductCard  \n",
       "z_value                              0.786939  \n",
       "p_value                              0.431318  \n",
       "alpha                                    0.05  \n",
       "Итог     НЕТ отличия между группами A1+A2 и B  "
      ]
     },
     "execution_count": 90,
     "metadata": {},
     "output_type": "execute_result"
    }
   ],
   "source": [
    "H0 = 'НЕТ отличия между группами A1+A2 и B'\n",
    "H1 = 'ЕСТЬ отличие между группами A1+A2 и B'\n",
    "\n",
    "\n",
    "spisok_A1plusA2_B = []\n",
    "for event_name in data_2_2['event']:\n",
    "    data_A1_B =\\\n",
    "    pd.DataFrame(\n",
    "    z_test(kol_vo_1 = data_2_2_A1_A2_sum[data_2_2_A1_A2_sum['event'] == event_name]['A1+A2'].values,\n",
    "           kol_vo_2 = data_2_2[data_2_2['event'] == event_name]['unique_user_B'].values,\n",
    "           all__kol_vo_1 = data_unique_visitors[data_unique_visitors['group'] == 'A2']['unique_user'].values + data_unique_visitors[data_unique_visitors['group'] == 'A1']['unique_user'].values,\n",
    "           all__kol_vo_2 = data_unique_visitors[data_unique_visitors['group'] == 'B']['unique_user'].values,\n",
    "           alpha = 0.05),\n",
    "    columns = [f'A2 и B. Событие: {event_name}'])\n",
    "    spisok_A1plusA2_B.append(data_A1_B)\n",
    "\n",
    "pd.concat(spisok_A1plusA2_B,\n",
    "          axis = 1)"
   ]
  },
  {
   "cell_type": "markdown",
   "metadata": {},
   "source": [
    " - Нельзя делать вывод о различии долей --> назойливый чат с менеджером не влияет на посещение сайта (передвижение по воронке событий).\n",
    " - ВАЖНО! Это вывод сделанный на основе 5 дней сбора информации. Вывод о влиянии этого назоливого чата в долгосрочной перспективе делать нельзя\n",
    "\n",
    "\n",
    "Итог:\n",
    "\n",
    "- назойливый чат вводить не стоит (либо организовать длительное A/B тестирование)\n",
    "- продумать варианты устранения сильного сужения воронки событий на первом и втором этапе"
   ]
  }
 ],
 "metadata": {
  "kernelspec": {
   "display_name": "cringe_player_env",
   "language": "python",
   "name": "python3"
  },
  "language_info": {
   "codemirror_mode": {
    "name": "ipython",
    "version": 3
   },
   "file_extension": ".py",
   "mimetype": "text/x-python",
   "name": "python",
   "nbconvert_exporter": "python",
   "pygments_lexer": "ipython3",
   "version": "3.8.17"
  },
  "orig_nbformat": 4
 },
 "nbformat": 4,
 "nbformat_minor": 2
}
