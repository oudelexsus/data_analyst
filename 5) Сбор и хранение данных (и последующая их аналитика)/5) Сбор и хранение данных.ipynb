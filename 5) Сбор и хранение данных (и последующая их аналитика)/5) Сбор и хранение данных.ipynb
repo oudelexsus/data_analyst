{
 "cells": [
  {
   "cell_type": "markdown",
   "metadata": {},
   "source": [
    "# Аналитика средствами Python\n",
    "\n",
    "\n",
    "У вас есть файлы, в которых содержатся результаты запросов из предыдущих заданий.\n",
    "\n",
    "query_1.csv — результат первого запроса. \n",
    "\n",
    "В нём содержится информация о: \n",
    "- model — модели самолета \n",
    "- flights_amount — количество рейсов для каждой модели самолетов model в сентябре 2018 года\n",
    "\n",
    "query_3.csv — результат третьего запроса. \n",
    "\n",
    "В нём содержится информация о: \n",
    "- city — городах \n",
    "- average_flights — среднем количестве рейсов, прибывающих в город city за день в сентябре 2018 года\n",
    "\n",
    "### Для этих двух наборов данных нужно:\n",
    "- импортировать файлы;\n",
    "- изучить данные в них;\n",
    "- проверить типы данных на корректность;\n",
    "- выбрать топ-10 городов по количеству рейсов;\n",
    "- Постройте графики и сделайте выводы по каждому из графиков: \n",
    "    - модели самолетов и количество рейсов,\n",
    "    - топ-10 городов и количество рейсов.\n",
    "\n",
    "\n",
    "\n",
    "### Проверка гипотезы средствами Python\n",
    "\n",
    "query_last.csv — результат последнего запроса. \n",
    "\n",
    "\n",
    "В нём следующая информация:\n",
    "- week_number — номер недели;\n",
    "- ticket_amount — количество проданных билетов за неделю;\n",
    "- festival_week — есть ли на этой неделе фестиваль;\n",
    "- festival_name — название фестиваля.\n",
    "\n",
    "##### Проверьте гипотезу: «Средний спрос на билеты во время фестивалей не отличается от среднего спроса на билеты в обычное время».\n",
    "\n",
    "Пороговое значение alpha задайте самостоятельно.\n",
    "\n",
    "Поясните:\n",
    "\n",
    "Как вы формулировали нулевую и альтернативную гипотезы;\n",
    "Какой критерий использовали для проверки гипотез и почему."
   ]
  },
  {
   "cell_type": "code",
   "execution_count": 12,
   "metadata": {},
   "outputs": [],
   "source": [
    "import pandas as pd\n",
    "import numpy as np\n",
    "import matplotlib.pyplot as plt\n",
    "import seaborn as sns\n",
    "from scipy import stats as st"
   ]
  },
  {
   "cell_type": "markdown",
   "metadata": {},
   "source": [
    "----------------------------------------------------------------------------------------------------------------------------------------------------------------------------------------"
   ]
  },
  {
   "cell_type": "markdown",
   "metadata": {},
   "source": [
    "# Аналитика средствами Python\n",
    "\n"
   ]
  },
  {
   "cell_type": "code",
   "execution_count": 13,
   "metadata": {},
   "outputs": [
    {
     "name": "stdout",
     "output_type": "stream",
     "text": [
      "<class 'pandas.core.frame.DataFrame'>\n",
      "RangeIndex: 8 entries, 0 to 7\n",
      "Data columns (total 2 columns):\n",
      " #   Column          Non-Null Count  Dtype \n",
      "---  ------          --------------  ----- \n",
      " 0   model           8 non-null      object\n",
      " 1   flights_amount  8 non-null      int64 \n",
      "dtypes: int64(1), object(1)\n",
      "memory usage: 256.0+ bytes\n",
      "<class 'pandas.core.frame.DataFrame'>\n",
      "RangeIndex: 101 entries, 0 to 100\n",
      "Data columns (total 2 columns):\n",
      " #   Column           Non-Null Count  Dtype  \n",
      "---  ------           --------------  -----  \n",
      " 0   city             101 non-null    object \n",
      " 1   average_flights  101 non-null    float64\n",
      "dtypes: float64(1), object(1)\n",
      "memory usage: 1.7+ KB\n"
     ]
    },
    {
     "data": {
      "text/plain": [
       "(None, None)"
      ]
     },
     "execution_count": 13,
     "metadata": {},
     "output_type": "execute_result"
    }
   ],
   "source": [
    "# Открываем данные\n",
    "\n",
    "query_1 = pd.read_csv('query_1.csv')\n",
    "query_3 = pd.read_csv('query_3.csv')\n",
    "\n",
    "\n",
    "query_1.info(), query_3.info()  # смотрим инфу о пропусках"
   ]
  },
  {
   "cell_type": "markdown",
   "metadata": {},
   "source": [
    "Данные корректные, пропусков нет, типы данных - корректные"
   ]
  },
  {
   "cell_type": "code",
   "execution_count": 14,
   "metadata": {},
   "outputs": [
    {
     "data": {
      "text/html": [
       "<div>\n",
       "<style scoped>\n",
       "    .dataframe tbody tr th:only-of-type {\n",
       "        vertical-align: middle;\n",
       "    }\n",
       "\n",
       "    .dataframe tbody tr th {\n",
       "        vertical-align: top;\n",
       "    }\n",
       "\n",
       "    .dataframe thead th {\n",
       "        text-align: right;\n",
       "    }\n",
       "</style>\n",
       "<table border=\"1\" class=\"dataframe\">\n",
       "  <thead>\n",
       "    <tr style=\"text-align: right;\">\n",
       "      <th></th>\n",
       "      <th>city</th>\n",
       "      <th>average_flights</th>\n",
       "    </tr>\n",
       "  </thead>\n",
       "  <tbody>\n",
       "    <tr>\n",
       "      <th>43</th>\n",
       "      <td>Москва</td>\n",
       "      <td>129.774194</td>\n",
       "    </tr>\n",
       "    <tr>\n",
       "      <th>70</th>\n",
       "      <td>Санкт-Петербург</td>\n",
       "      <td>31.161290</td>\n",
       "    </tr>\n",
       "    <tr>\n",
       "      <th>54</th>\n",
       "      <td>Новосибирск</td>\n",
       "      <td>17.322581</td>\n",
       "    </tr>\n",
       "    <tr>\n",
       "      <th>33</th>\n",
       "      <td>Красноярск</td>\n",
       "      <td>11.580645</td>\n",
       "    </tr>\n",
       "    <tr>\n",
       "      <th>20</th>\n",
       "      <td>Екатеринбург</td>\n",
       "      <td>11.322581</td>\n",
       "    </tr>\n",
       "    <tr>\n",
       "      <th>67</th>\n",
       "      <td>Ростов-на-Дону</td>\n",
       "      <td>10.193548</td>\n",
       "    </tr>\n",
       "    <tr>\n",
       "      <th>63</th>\n",
       "      <td>Пермь</td>\n",
       "      <td>10.129032</td>\n",
       "    </tr>\n",
       "    <tr>\n",
       "      <th>10</th>\n",
       "      <td>Брянск</td>\n",
       "      <td>10.000000</td>\n",
       "    </tr>\n",
       "    <tr>\n",
       "      <th>74</th>\n",
       "      <td>Сочи</td>\n",
       "      <td>9.612903</td>\n",
       "    </tr>\n",
       "    <tr>\n",
       "      <th>84</th>\n",
       "      <td>Ульяновск</td>\n",
       "      <td>9.580645</td>\n",
       "    </tr>\n",
       "  </tbody>\n",
       "</table>\n",
       "</div>"
      ],
      "text/plain": [
       "               city  average_flights\n",
       "43           Москва       129.774194\n",
       "70  Санкт-Петербург        31.161290\n",
       "54      Новосибирск        17.322581\n",
       "33       Красноярск        11.580645\n",
       "20     Екатеринбург        11.322581\n",
       "67   Ростов-на-Дону        10.193548\n",
       "63            Пермь        10.129032\n",
       "10           Брянск        10.000000\n",
       "74             Сочи         9.612903\n",
       "84        Ульяновск         9.580645"
      ]
     },
     "execution_count": 14,
     "metadata": {},
     "output_type": "execute_result"
    }
   ],
   "source": [
    "# Выделим топ-10 городов по кол-ву рейсов\n",
    "\n",
    "top_10_cities_flights = \\\n",
    "query_3.sort_values(by = 'average_flights',\n",
    "                    ascending= False) \\\n",
    "        .head(10)\n",
    "\n",
    "\n",
    "top_10_cities_flights"
   ]
  },
  {
   "cell_type": "code",
   "execution_count": 15,
   "metadata": {},
   "outputs": [
    {
     "data": {
      "image/png": "[encoded data removed]",
      "text/plain": [
       "<Figure size 2000x500 with 1 Axes>"
      ]
     },
     "metadata": {},
     "output_type": "display_data"
    }
   ],
   "source": [
    "plt.figure(figsize=(20, 5))\n",
    "sns.barplot(data = top_10_cities_flights,\n",
    "            x = 'city',\n",
    "            y = 'average_flights')\n",
    "plt.ylabel('среднее кол-во рейсов')\n",
    "plt.xlabel('город прибытия')\n",
    "plt.title('Среднее кол-во рейсов прибывающих в сентябре 2018 г. в день')\n",
    "plt.grid()"
   ]
  },
  {
   "cell_type": "markdown",
   "metadata": {},
   "source": [
    "1) Больше всего рейсов в сентябре 2018 года прибыло в Москву (130 в среднем)\n",
    "2) В Питер прилетело 31 рейс\n",
    "3) В Новосибирск 17 рейсов\n",
    "4) Все остальные города в топ-10 дают схожие результаты (10 в среднем)\n",
    "\n",
    "Пояснение:\n",
    "\n",
    "Москва - самый густонаселенный город среди всех (СПБ - на втором месте по населению) --> большее кол-во авиационной инфраструктуры (аэропорты)\n",
    "У все осталных городов население меньше --> инфраструктура слабее --> рейсов меньше\n"
   ]
  },
  {
   "cell_type": "code",
   "execution_count": 16,
   "metadata": {},
   "outputs": [
    {
     "data": {
      "image/png": "[encoded data removed]",
      "text/plain": [
       "<Figure size 1000x500 with 1 Axes>"
      ]
     },
     "metadata": {},
     "output_type": "display_data"
    }
   ],
   "source": [
    "plt.figure(figsize=(10, 5))\n",
    "sns.barplot(data = query_1.sort_values(by = 'flights_amount',\n",
    "                                       ascending = False),\n",
    "            x = 'flights_amount',\n",
    "            y = 'model')\n",
    "\n",
    "plt.xlabel('кол-во рейсов')\n",
    "plt.ylabel('модель самолета')\n",
    "plt.title('Кол-во рейсов по каждой модели самолета в сентябре 2018 г.')\n",
    "plt.grid()"
   ]
  },
  {
   "cell_type": "markdown",
   "metadata": {},
   "source": [
    "топ-3 самолета - это малые самолеты (маленькая дальность полета)\n",
    "Вывод --> чаще всего прилетают самолеты с соседних стран (близлежащих по отношению к городу) либо из российских близлежащих городов/населенных пунктов"
   ]
  },
  {
   "cell_type": "markdown",
   "metadata": {},
   "source": [
    "------------------------------------------------------------------------------------------------------------------------------------------------------------------------------------"
   ]
  },
  {
   "cell_type": "markdown",
   "metadata": {},
   "source": [
    "### Проверка гипотезы средствами Python\n",
    "\n",
    "##### Проверьте гипотезу: «Средний спрос на билеты во время фестивалей не отличается от среднего спроса на билеты в обычное время»."
   ]
  },
  {
   "cell_type": "code",
   "execution_count": 17,
   "metadata": {},
   "outputs": [
    {
     "data": {
      "text/html": [
       "<div>\n",
       "<style scoped>\n",
       "    .dataframe tbody tr th:only-of-type {\n",
       "        vertical-align: middle;\n",
       "    }\n",
       "\n",
       "    .dataframe tbody tr th {\n",
       "        vertical-align: top;\n",
       "    }\n",
       "\n",
       "    .dataframe thead th {\n",
       "        text-align: right;\n",
       "    }\n",
       "</style>\n",
       "<table border=\"1\" class=\"dataframe\">\n",
       "  <thead>\n",
       "    <tr style=\"text-align: right;\">\n",
       "      <th></th>\n",
       "      <th>нормер недели</th>\n",
       "      <th>кол-во проданных билетов (в нед.)</th>\n",
       "      <th>есть ли фестиваль на неделе</th>\n",
       "      <th>название фестиваля</th>\n",
       "    </tr>\n",
       "  </thead>\n",
       "  <tbody>\n",
       "    <tr>\n",
       "      <th>0</th>\n",
       "      <td>30</td>\n",
       "      <td>43568</td>\n",
       "      <td>30.0</td>\n",
       "      <td>Park Live</td>\n",
       "    </tr>\n",
       "    <tr>\n",
       "      <th>1</th>\n",
       "      <td>31</td>\n",
       "      <td>51034</td>\n",
       "      <td>31.0</td>\n",
       "      <td>Пикник Афиши</td>\n",
       "    </tr>\n",
       "    <tr>\n",
       "      <th>2</th>\n",
       "      <td>32</td>\n",
       "      <td>51675</td>\n",
       "      <td>NaN</td>\n",
       "      <td>NaN</td>\n",
       "    </tr>\n",
       "    <tr>\n",
       "      <th>3</th>\n",
       "      <td>33</td>\n",
       "      <td>51378</td>\n",
       "      <td>NaN</td>\n",
       "      <td>NaN</td>\n",
       "    </tr>\n",
       "    <tr>\n",
       "      <th>4</th>\n",
       "      <td>34</td>\n",
       "      <td>51492</td>\n",
       "      <td>NaN</td>\n",
       "      <td>NaN</td>\n",
       "    </tr>\n",
       "    <tr>\n",
       "      <th>5</th>\n",
       "      <td>35</td>\n",
       "      <td>51360</td>\n",
       "      <td>NaN</td>\n",
       "      <td>NaN</td>\n",
       "    </tr>\n",
       "    <tr>\n",
       "      <th>6</th>\n",
       "      <td>36</td>\n",
       "      <td>51386</td>\n",
       "      <td>36.0</td>\n",
       "      <td>Видфест</td>\n",
       "    </tr>\n",
       "    <tr>\n",
       "      <th>7</th>\n",
       "      <td>37</td>\n",
       "      <td>51670</td>\n",
       "      <td>NaN</td>\n",
       "      <td>NaN</td>\n",
       "    </tr>\n",
       "    <tr>\n",
       "      <th>8</th>\n",
       "      <td>38</td>\n",
       "      <td>51518</td>\n",
       "      <td>NaN</td>\n",
       "      <td>NaN</td>\n",
       "    </tr>\n",
       "    <tr>\n",
       "      <th>9</th>\n",
       "      <td>39</td>\n",
       "      <td>51623</td>\n",
       "      <td>NaN</td>\n",
       "      <td>NaN</td>\n",
       "    </tr>\n",
       "  </tbody>\n",
       "</table>\n",
       "</div>"
      ],
      "text/plain": [
       "   нормер недели  кол-во проданных билетов (в нед.)  \\\n",
       "0             30                              43568   \n",
       "1             31                              51034   \n",
       "2             32                              51675   \n",
       "3             33                              51378   \n",
       "4             34                              51492   \n",
       "5             35                              51360   \n",
       "6             36                              51386   \n",
       "7             37                              51670   \n",
       "8             38                              51518   \n",
       "9             39                              51623   \n",
       "\n",
       "   есть ли фестиваль на неделе название фестиваля  \n",
       "0                         30.0          Park Live  \n",
       "1                         31.0       Пикник Афиши  \n",
       "2                          NaN                NaN  \n",
       "3                          NaN                NaN  \n",
       "4                          NaN                NaN  \n",
       "5                          NaN                NaN  \n",
       "6                         36.0            Видфест  \n",
       "7                          NaN                NaN  \n",
       "8                          NaN                NaN  \n",
       "9                          NaN                NaN  "
      ]
     },
     "execution_count": 17,
     "metadata": {},
     "output_type": "execute_result"
    }
   ],
   "source": [
    "data_festival  = pd.read_csv('query_last.csv').rename({'week_number': 'нормер недели',\n",
    "                                                       'ticket_amount': 'кол-во проданных билетов (в нед.)',\n",
    "                                                       'festival_week': 'есть ли фестиваль на неделе',\n",
    "                                                       'festival_name': 'название фестиваля'},\n",
    "                                                       axis=1)\n",
    "data_festival"
   ]
  },
  {
   "cell_type": "markdown",
   "metadata": {},
   "source": [
    "видим что в колонке \"есть ли фестиваль на неделе\" - есть пропуски и по сути колонка дублирует номер недели. \n",
    "Заменим числа на 1 (есть фестиваль на неделе) и 0 (нет фестиваля на неделе)"
   ]
  },
  {
   "cell_type": "code",
   "execution_count": 18,
   "metadata": {},
   "outputs": [
    {
     "data": {
      "text/html": [
       "<div>\n",
       "<style scoped>\n",
       "    .dataframe tbody tr th:only-of-type {\n",
       "        vertical-align: middle;\n",
       "    }\n",
       "\n",
       "    .dataframe tbody tr th {\n",
       "        vertical-align: top;\n",
       "    }\n",
       "\n",
       "    .dataframe thead th {\n",
       "        text-align: right;\n",
       "    }\n",
       "</style>\n",
       "<table border=\"1\" class=\"dataframe\">\n",
       "  <thead>\n",
       "    <tr style=\"text-align: right;\">\n",
       "      <th></th>\n",
       "      <th>нормер недели</th>\n",
       "      <th>кол-во проданных билетов (в нед.)</th>\n",
       "      <th>есть ли фестиваль на неделе</th>\n",
       "      <th>название фестиваля</th>\n",
       "    </tr>\n",
       "  </thead>\n",
       "  <tbody>\n",
       "    <tr>\n",
       "      <th>0</th>\n",
       "      <td>30</td>\n",
       "      <td>43568</td>\n",
       "      <td>1</td>\n",
       "      <td>Park Live</td>\n",
       "    </tr>\n",
       "    <tr>\n",
       "      <th>1</th>\n",
       "      <td>31</td>\n",
       "      <td>51034</td>\n",
       "      <td>1</td>\n",
       "      <td>Пикник Афиши</td>\n",
       "    </tr>\n",
       "    <tr>\n",
       "      <th>2</th>\n",
       "      <td>32</td>\n",
       "      <td>51675</td>\n",
       "      <td>0</td>\n",
       "      <td>NaN</td>\n",
       "    </tr>\n",
       "    <tr>\n",
       "      <th>3</th>\n",
       "      <td>33</td>\n",
       "      <td>51378</td>\n",
       "      <td>0</td>\n",
       "      <td>NaN</td>\n",
       "    </tr>\n",
       "    <tr>\n",
       "      <th>4</th>\n",
       "      <td>34</td>\n",
       "      <td>51492</td>\n",
       "      <td>0</td>\n",
       "      <td>NaN</td>\n",
       "    </tr>\n",
       "    <tr>\n",
       "      <th>5</th>\n",
       "      <td>35</td>\n",
       "      <td>51360</td>\n",
       "      <td>0</td>\n",
       "      <td>NaN</td>\n",
       "    </tr>\n",
       "    <tr>\n",
       "      <th>6</th>\n",
       "      <td>36</td>\n",
       "      <td>51386</td>\n",
       "      <td>1</td>\n",
       "      <td>Видфест</td>\n",
       "    </tr>\n",
       "    <tr>\n",
       "      <th>7</th>\n",
       "      <td>37</td>\n",
       "      <td>51670</td>\n",
       "      <td>0</td>\n",
       "      <td>NaN</td>\n",
       "    </tr>\n",
       "    <tr>\n",
       "      <th>8</th>\n",
       "      <td>38</td>\n",
       "      <td>51518</td>\n",
       "      <td>0</td>\n",
       "      <td>NaN</td>\n",
       "    </tr>\n",
       "    <tr>\n",
       "      <th>9</th>\n",
       "      <td>39</td>\n",
       "      <td>51623</td>\n",
       "      <td>0</td>\n",
       "      <td>NaN</td>\n",
       "    </tr>\n",
       "  </tbody>\n",
       "</table>\n",
       "</div>"
      ],
      "text/plain": [
       "   нормер недели  кол-во проданных билетов (в нед.)  \\\n",
       "0             30                              43568   \n",
       "1             31                              51034   \n",
       "2             32                              51675   \n",
       "3             33                              51378   \n",
       "4             34                              51492   \n",
       "5             35                              51360   \n",
       "6             36                              51386   \n",
       "7             37                              51670   \n",
       "8             38                              51518   \n",
       "9             39                              51623   \n",
       "\n",
       "   есть ли фестиваль на неделе название фестиваля  \n",
       "0                            1          Park Live  \n",
       "1                            1       Пикник Афиши  \n",
       "2                            0                NaN  \n",
       "3                            0                NaN  \n",
       "4                            0                NaN  \n",
       "5                            0                NaN  \n",
       "6                            1            Видфест  \n",
       "7                            0                NaN  \n",
       "8                            0                NaN  \n",
       "9                            0                NaN  "
      ]
     },
     "execution_count": 18,
     "metadata": {},
     "output_type": "execute_result"
    }
   ],
   "source": [
    "data_festival['есть ли фестиваль на неделе'] = data_festival['есть ли фестиваль на неделе'].fillna(0)\n",
    "\n",
    "def yes_or_no(x):\n",
    "    if x == 0:\n",
    "        return x\n",
    "    else:\n",
    "        return 1\n",
    "    \n",
    "data_festival['есть ли фестиваль на неделе'] = data_festival['есть ли фестиваль на неделе'].map(yes_or_no).astype(int)\n",
    "data_festival\n"
   ]
  },
  {
   "cell_type": "markdown",
   "metadata": {},
   "source": [
    "Сформулируем нулевую и первую гипотезы:\n",
    "\n",
    "    H0: Средний спрос на билеты во время фестивалей не отличается от среднего спроса на билеты в обычное время\n",
    "    H1: Средний спрос на билеты во время фестивалей отличается от среднего спроса на билеты в обычное время"
   ]
  },
  {
   "cell_type": "code",
   "execution_count": 19,
   "metadata": {},
   "outputs": [
    {
     "name": "stdout",
     "output_type": "stream",
     "text": [
      "12998464.888888888\n",
      "14694.408163265309\n"
     ]
    }
   ],
   "source": [
    "# Сначала проверим равенство ( или неравенство ) дисперсий\n",
    "\n",
    "alpha = 0.05\n",
    "\n",
    "data_1 = data_festival[data_festival['есть ли фестиваль на неделе'] == 1]['кол-во проданных билетов (в нед.)'] \n",
    "data_2 = data_festival[data_festival['есть ли фестиваль на неделе'] == 0]['кол-во проданных билетов (в нед.)'] \n",
    "\n",
    "\n",
    "print(np.var(data_1))\n",
    "print(np.var(data_2))"
   ]
  },
  {
   "cell_type": "markdown",
   "metadata": {},
   "source": [
    "Дисперсии сильно различны --> применим критерий Уэлча (equal_var = False)"
   ]
  },
  {
   "cell_type": "code",
   "execution_count": 20,
   "metadata": {},
   "outputs": [
    {
     "name": "stdout",
     "output_type": "stream",
     "text": [
      "При выбранном alpha - H0 не отвергаем\n",
      "p-значение 0.377432493172683\n"
     ]
    }
   ],
   "source": [
    "results = st.ttest_ind(data_1, data_2, equal_var=False)\n",
    "p_value = results.pvalue\n",
    "\n",
    "if alpha > p_value:\n",
    "    print('отвергаем H0')\n",
    "else:\n",
    "    print('При выбранном alpha - H0 не отвергаем')\n",
    "\n",
    "print('p-значение' , p_value)"
   ]
  },
  {
   "cell_type": "markdown",
   "metadata": {},
   "source": [
    "Нулевую гипотезу не удалось отвергнуть --> Средний спрос на билеты во время фестивалей НЕ ОТЛИЧАЕТСЯ от среднего спроса на билеты в обычное время\n",
    "Есть 37% вероятность что полученный результат случаен "
   ]
  },
  {
   "cell_type": "markdown",
   "metadata": {},
   "source": [
    "------------------------------------------------------------------------------------------------------------------------------------------------------------------------------"
   ]
  },
  {
   "cell_type": "markdown",
   "metadata": {},
   "source": [
    "Вывод: \n",
    "\n",
    "\t1) Самый загруженный город по прилетам - Москва\n",
    "\t2) Кол-во рейсов по каждом содели самолета зависит от его размеров ( и как следствие --> его дальности полета )\n",
    "\t3) Средний спрос на билеты во время фестиваля и в обычное время --> НЕ ОТЛИЧАЮТСЯ"
   ]
  }
 ],
 "metadata": {
  "kernelspec": {
   "display_name": "cringe_player_env",
   "language": "python",
   "name": "python3"
  },
  "language_info": {
   "codemirror_mode": {
    "name": "ipython",
    "version": 3
   },
   "file_extension": ".py",
   "mimetype": "text/x-python",
   "name": "python",
   "nbconvert_exporter": "python",
   "pygments_lexer": "ipython3",
   "version": "3.8.0"
  },
  "orig_nbformat": 4
 },
 "nbformat": 4,
 "nbformat_minor": 2
}
